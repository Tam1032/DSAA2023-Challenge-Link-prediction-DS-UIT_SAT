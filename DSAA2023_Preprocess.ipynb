{
 "cells": [
  {
   "cell_type": "code",
   "execution_count": null,
   "metadata": {
    "id": "wg0FFJOibOxF"
   },
   "outputs": [],
   "source": [
    "import pandas as pd\n",
    "import numpy as np\n",
    "import matplotlib.pyplot as plt\n",
    "import seaborn as sns\n",
    "# import spacy\n",
    "import nltk\n",
    "import re\n",
    "from tqdm import tqdm\n",
    "from nltk import pos_tag_sents\n",
    "\n",
    "# nlp = spacy.load(\"en_core_web_sm\")\n",
    "nltk.download(\"punkt\")\n",
    "nltk.download(\"averaged_perceptron_tagger\")"
   ]
  },
  {
   "cell_type": "code",
   "execution_count": 2,
   "metadata": {
    "colab": {
     "base_uri": "https://localhost:8080/"
    },
    "executionInfo": {
     "elapsed": 19330,
     "status": "ok",
     "timestamp": 1688070465907,
     "user": {
      "displayName": "Anh Trần Hoàng",
      "userId": "03160318258477081697"
     },
     "user_tz": -420
    },
    "id": "uD-1G3RlNRa7",
    "outputId": "aacd5f3a-8d56-430a-aa4d-5e3ab23a41cd"
   },
   "outputs": [
    {
     "name": "stdout",
     "output_type": "stream",
     "text": [
      "Mounted at /content/drive\n"
     ]
    }
   ],
   "source": [
    "from google.colab import drive\n",
    "drive.mount('/content/drive')"
   ]
  },
  {
   "cell_type": "code",
   "execution_count": 3,
   "metadata": {
    "colab": {
     "base_uri": "https://localhost:8080/"
    },
    "executionInfo": {
     "elapsed": 390,
     "status": "ok",
     "timestamp": 1688070476505,
     "user": {
      "displayName": "Anh Trần Hoàng",
      "userId": "03160318258477081697"
     },
     "user_tz": -420
    },
    "id": "Rlny9s0IOmHP",
    "outputId": "32b6ed92-7cf5-4f19-c5ce-6541f46b4f2d"
   },
   "outputs": [
    {
     "name": "stderr",
     "output_type": "stream",
     "text": [
      "[nltk_data] Downloading package stopwords to /root/nltk_data...\n",
      "[nltk_data]   Unzipping corpora/stopwords.zip.\n"
     ]
    },
    {
     "data": {
      "text/plain": [
       "True"
      ]
     },
     "execution_count": 3,
     "metadata": {},
     "output_type": "execute_result"
    }
   ],
   "source": [
    "from nltk.corpus import stopwords\n",
    "nltk.download('stopwords')"
   ]
  },
  {
   "cell_type": "markdown",
   "metadata": {
    "id": "kVqSKHWrv_iV"
   },
   "source": [
    "# Functions"
   ]
  },
  {
   "cell_type": "code",
   "execution_count": 4,
   "metadata": {
    "executionInfo": {
     "elapsed": 422,
     "status": "ok",
     "timestamp": 1688070482502,
     "user": {
      "displayName": "Anh Trần Hoàng",
      "userId": "03160318258477081697"
     },
     "user_tz": -420
    },
    "id": "cT-wPhnCsCLl"
   },
   "outputs": [],
   "source": [
    "def clean_data(text):\n",
    "  if type(text) != float:\n",
    "    text = text.encode(\"utf-8\", errors='ignore').decode(\"utf-8\")\n",
    "    text = re.sub(\"({.*})+\", '', text)\n",
    "    text = re.sub(\"(<.*>)+\", \"'\", text)\n",
    "    text = re.sub(\"[\\\"*]\", \"'\", text)\n",
    "    text = re.sub(\"[\\'*]\", '', text)\n",
    "    return text.strip()\n",
    "  else:\n",
    "    return \"NaN\"\n",
    "\n",
    "\n",
    "def remove_special_character(x):\n",
    "  \"\"\"\n",
    "    Input:\n",
    "      - x: string\n",
    "    Output: string that already removed special character\n",
    "  \"\"\"\n",
    "  if type(x) != float:\n",
    "    temp = re.sub('[^A-Za-z0-9]+', ' ', x)\n",
    "    return temp\n",
    "  else:\n",
    "    return \"NaN\"\n",
    "def common(x, y):\n",
    "  \"\"\"\n",
    "    Input:\n",
    "      - x: set, list\n",
    "      - y: set, list\n",
    "    Output: set of common words of x and y\n",
    "  \"\"\"\n",
    "  x = set(x)\n",
    "  y = set(y)\n",
    "  return x&y\n",
    "\n",
    "def get_vocab(sentence, rm_character = False, split_by = \" \"):\n",
    "  \"\"\"\n",
    "    Input:\n",
    "      - sentence: string\n",
    "      - rm_character: (True, False) Remove specical character or not. Default is False\n",
    "      - split_by: split string by character. Default is \" \"\n",
    "    Output: Vocabulary set of sentence\n",
    "  \"\"\"\n",
    "  vocab = {\"\"}\n",
    "  sentence = str(sentence)\n",
    "  if rm_character == True:\n",
    "    sentence = remove_special_character(sentence)\n",
    "  for word in sentence.split(split_by):\n",
    "    vocab.add(word)\n",
    "  return vocab\n",
    "\n",
    "def get_weighted_vocab(sentence, rm_character = False, split_by = \" \"):\n",
    "  \"\"\"\n",
    "    Input:\n",
    "      - sentence: string, list, array\n",
    "      - rm_character: (True, False) Remove specical character or not. Default is False\n",
    "      - split_by: split string by character. Default is \" \"\n",
    "    Output: (Dictionary) Weighted vocabulary set of sentence\n",
    "  \"\"\"\n",
    "  vocab = {}\n",
    "  if type(sentence) == str:\n",
    "    if rm_character == True:\n",
    "      sentence = remove_special_character(sentence)\n",
    "    for word in sentence.split(split_by):\n",
    "      if word not in vocab:\n",
    "        vocab.update({word: 1})\n",
    "      else:\n",
    "        vocab[word] += 1\n",
    "  else:\n",
    "    if len(sentence) != 0:\n",
    "      for word in sentence:\n",
    "        if word not in vocab:\n",
    "          vocab.update({word: 1})\n",
    "        else:\n",
    "          vocab[word] += 1\n",
    "    else:\n",
    "      return {}\n",
    "  return vocab\n",
    "\n",
    "def weighted_common(x, y):\n",
    "  \"\"\"\n",
    "    Input:\n",
    "      - x: (dictionary) weighted vocab\n",
    "      - y: (dictionary) weighted vocab\n",
    "    Output: set of common words of x and y (weight x + weight y)\n",
    "  \"\"\"\n",
    "  common = {}\n",
    "  len_x = len(x)\n",
    "  len_y = len(y)\n",
    "  if len_x < len_y:\n",
    "    for key in x.keys():\n",
    "      if key in y:\n",
    "        common.update({key: x[key] + y[key]})\n",
    "  else:\n",
    "      for key in y.keys():\n",
    "        if key in x:\n",
    "          common.update({key: x[key] + y[key]})\n",
    "  return common\n",
    "\n",
    "def mean_weight(x):\n",
    "  \"\"\"\n",
    "    Input:\n",
    "      - x: (dictionary) weighted vocab\n",
    "    Output: mean weight\n",
    "  \"\"\"\n",
    "  if len(x.values()) == 0:\n",
    "    return 0\n",
    "  return sum(x.values())/len(x.values())\n",
    "\n",
    "def get_sentence_pair(idx, pairset, nodeset):\n",
    "  \"\"\"\n",
    "    Input:\n",
    "      - idx: index of pair in pairset\n",
    "      - pairset:  dataset contain pairs\n",
    "      - nodeset: dataset contains nodes\n",
    "    Output: pair of sentence\n",
    "  \"\"\"\n",
    "  id1 = pairset.loc[idx]['id1']\n",
    "  id2 = pairset.loc[idx]['id2']\n",
    "  s1 = str(nodeset[nodeset['id'] == id1].iloc[0,1])\n",
    "  s2 = str(nodeset[nodeset['id'] == id2].iloc[0,1])\n",
    "  return s1, s2\n",
    "\n",
    "def get_postag_pair(idx, pairset, nodeset):\n",
    "  \"\"\"\n",
    "    Input:\n",
    "      - idx: index of pair in pairset\n",
    "      - pairset:  dataset contain pairs\n",
    "      - nodeset: dataset contains nodes\n",
    "    Output: pair of postag\n",
    "  \"\"\"\n",
    "  id1 = pairset.loc[idx]['id1']\n",
    "  id2 = pairset.loc[idx]['id2']\n",
    "  pt1 = nodeset['embedded_postag'][id1]\n",
    "  pt2 = nodeset['embedded_postag'][id2]\n",
    "  return pt1, pt2\n",
    "\n",
    "def postagging(text, type = \"nltk\"):\n",
    "  \"\"\"\n",
    "    Input:\n",
    "      - text: string\n",
    "      - type = (\"nltk\", \"spacy\") Postagger. Default is nltk\n",
    "    Output: list of postag pair (tuple)\n",
    "  \"\"\"\n",
    "  if type == \"nltk\":\n",
    "    tokens = nltk.word_tokenize(text)\n",
    "    tag = nltk.pos_tag(tokens)\n",
    "    return tag\n",
    "  elif type == \"spacy\":\n",
    "    doc = nlp(text)\n",
    "    postag = [(x, x.pos_) for x in doc]\n",
    "    return postag\n",
    "\n",
    "def postag_format(x):\n",
    "  \"\"\"\n",
    "  Input:\n",
    "    - x: (string) line from saved postag csv\n",
    "  Output: list of list (word, postag)\n",
    "  \"\"\"\n",
    "  temp = x.split(\"(\")\n",
    "  temp = temp[1:len(temp)]\n",
    "  postag = []\n",
    "  for i in temp:\n",
    "    i = i.replace('\\'',\"\")\\\n",
    "              .replace(\")\",\"\")\\\n",
    "              .replace(\"\\\"\",\"\")\\\n",
    "              .replace(\" \",\"\").split(',')\n",
    "    i = i[0:2]\n",
    "    postag.append(i)\n",
    "  return postag\n",
    "\n",
    "def embedded_format(x):\n",
    "  res = re.findall(r\"\\[\\s*\\+?(-?\\d+)\\s*\\.\\]\", x)\n",
    "  # return remove_special_character(x).split(\" \")[1:-1]\n",
    "  return res\n",
    "\n",
    "def summarize_weighted(x, y):\n",
    "  \"\"\"\n",
    "    Input:\n",
    "      - x: (dictionary) weighted vocab\n",
    "      - y: (dictionary) weighted vocab\n",
    "    Output: dict of total number of common words between x and y (weight x + weight y)\n",
    "  \"\"\"\n",
    "  len_x = len(x)\n",
    "  len_y = len(y)\n",
    "  if len_x > len_y:\n",
    "    for key in x.keys():\n",
    "      if key in y:\n",
    "        x[key] = x[key] + y[key]\n",
    "    return x\n",
    "  else:\n",
    "    for key in y.keys():\n",
    "      if key in x:\n",
    "        y[key] = y[key] + x[key]\n",
    "    return y\n",
    "\n",
    "def postag_embedding(sentence, list_postag):\n",
    "  \"\"\"\n",
    "  Input:\n",
    "    - sentence: (string) sentence that needs to be embedded\n",
    "    - list_postag: (1D iteration) POSTAG to embed\n",
    "  Output: Embedding vector\n",
    "  \"\"\"\n",
    "\n",
    "  embedding = np.zeros((len(list_postag),1))\n",
    "\n",
    "  pt = postagging(remove_special_character(sentence), type = \"nltk\")\n",
    "  try:\n",
    "    pt = get_weighted_vocab(np.array(pt).T[1], True)\n",
    "  except:\n",
    "    pt = {}\n",
    "\n",
    "  # print(pt)\n",
    "\n",
    "  for i, postag in enumerate(list_postag):\n",
    "    if postag in list(pt.keys()):\n",
    "      embedding[i] = pt[postag]\n",
    "  return embedding\n",
    "\n",
    "def name_postag(x, number):\n",
    "  return [i + number for i in x]"
   ]
  },
  {
   "cell_type": "code",
   "execution_count": null,
   "metadata": {
    "colab": {
     "base_uri": "https://localhost:8080/",
     "height": 35
    },
    "executionInfo": {
     "elapsed": 3,
     "status": "ok",
     "timestamp": 1684923158232,
     "user": {
      "displayName": "TÂM NGUYỄN MINH",
      "userId": "18113162964843854047"
     },
     "user_tz": -420
    },
    "id": "o4ENeijePYz5",
    "outputId": "23dbcdf4-5c73-4985-eb82-8726a10236bc"
   },
   "outputs": [
    {
     "data": {
      "application/vnd.google.colaboratory.intrinsic+json": {
       "type": "string"
      },
      "text/plain": [
       "'king om ruin'"
      ]
     },
     "execution_count": 17,
     "metadata": {},
     "output_type": "execute_result"
    }
   ],
   "source": [
    "remove_special_character(\"the_king_om_of_ruin\")"
   ]
  },
  {
   "cell_type": "markdown",
   "metadata": {
    "id": "c-hEW1vq4gXG"
   },
   "source": [
    "# Import datasets"
   ]
  },
  {
   "cell_type": "code",
   "execution_count": 5,
   "metadata": {
    "colab": {
     "base_uri": "https://localhost:8080/",
     "height": 423
    },
    "executionInfo": {
     "elapsed": 2437,
     "status": "ok",
     "timestamp": 1688070498681,
     "user": {
      "displayName": "Anh Trần Hoàng",
      "userId": "03160318258477081697"
     },
     "user_tz": -420
    },
    "id": "DjJ5Gvhmbayk",
    "outputId": "7606d86a-7d15-44df-d95e-d0773d0520f4"
   },
   "outputs": [
    {
     "data": {
      "text/html": [
       "\n",
       "  <div id=\"df-55d51305-6668-4c48-9bc5-20572f020ccc\">\n",
       "    <div class=\"colab-df-container\">\n",
       "      <div>\n",
       "<style scoped>\n",
       "    .dataframe tbody tr th:only-of-type {\n",
       "        vertical-align: middle;\n",
       "    }\n",
       "\n",
       "    .dataframe tbody tr th {\n",
       "        vertical-align: top;\n",
       "    }\n",
       "\n",
       "    .dataframe thead th {\n",
       "        text-align: right;\n",
       "    }\n",
       "</style>\n",
       "<table border=\"1\" class=\"dataframe\">\n",
       "  <thead>\n",
       "    <tr style=\"text-align: right;\">\n",
       "      <th></th>\n",
       "      <th>id1</th>\n",
       "      <th>id2</th>\n",
       "      <th>label</th>\n",
       "    </tr>\n",
       "  </thead>\n",
       "  <tbody>\n",
       "    <tr>\n",
       "      <th>0</th>\n",
       "      <td>9202</td>\n",
       "      <td>9202</td>\n",
       "      <td>1</td>\n",
       "    </tr>\n",
       "    <tr>\n",
       "      <th>1</th>\n",
       "      <td>410411</td>\n",
       "      <td>460254</td>\n",
       "      <td>0</td>\n",
       "    </tr>\n",
       "    <tr>\n",
       "      <th>2</th>\n",
       "      <td>211858</td>\n",
       "      <td>312074</td>\n",
       "      <td>1</td>\n",
       "    </tr>\n",
       "    <tr>\n",
       "      <th>3</th>\n",
       "      <td>253901</td>\n",
       "      <td>504325</td>\n",
       "      <td>0</td>\n",
       "    </tr>\n",
       "    <tr>\n",
       "      <th>4</th>\n",
       "      <td>415071</td>\n",
       "      <td>63239</td>\n",
       "      <td>0</td>\n",
       "    </tr>\n",
       "    <tr>\n",
       "      <th>...</th>\n",
       "      <td>...</td>\n",
       "      <td>...</td>\n",
       "      <td>...</td>\n",
       "    </tr>\n",
       "    <tr>\n",
       "      <th>948227</th>\n",
       "      <td>177447</td>\n",
       "      <td>82731</td>\n",
       "      <td>1</td>\n",
       "    </tr>\n",
       "    <tr>\n",
       "      <th>948228</th>\n",
       "      <td>141580</td>\n",
       "      <td>396615</td>\n",
       "      <td>0</td>\n",
       "    </tr>\n",
       "    <tr>\n",
       "      <th>948229</th>\n",
       "      <td>817680</td>\n",
       "      <td>271396</td>\n",
       "      <td>0</td>\n",
       "    </tr>\n",
       "    <tr>\n",
       "      <th>948230</th>\n",
       "      <td>756771</td>\n",
       "      <td>322480</td>\n",
       "      <td>0</td>\n",
       "    </tr>\n",
       "    <tr>\n",
       "      <th>948231</th>\n",
       "      <td>409066</td>\n",
       "      <td>251558</td>\n",
       "      <td>0</td>\n",
       "    </tr>\n",
       "  </tbody>\n",
       "</table>\n",
       "<p>948232 rows × 3 columns</p>\n",
       "</div>\n",
       "      <button class=\"colab-df-convert\" onclick=\"convertToInteractive('df-55d51305-6668-4c48-9bc5-20572f020ccc')\"\n",
       "              title=\"Convert this dataframe to an interactive table.\"\n",
       "              style=\"display:none;\">\n",
       "        \n",
       "  <svg xmlns=\"http://www.w3.org/2000/svg\" height=\"24px\"viewBox=\"0 0 24 24\"\n",
       "       width=\"24px\">\n",
       "    <path d=\"M0 0h24v24H0V0z\" fill=\"none\"/>\n",
       "    <path d=\"M18.56 5.44l.94 2.06.94-2.06 2.06-.94-2.06-.94-.94-2.06-.94 2.06-2.06.94zm-11 1L8.5 8.5l.94-2.06 2.06-.94-2.06-.94L8.5 2.5l-.94 2.06-2.06.94zm10 10l.94 2.06.94-2.06 2.06-.94-2.06-.94-.94-2.06-.94 2.06-2.06.94z\"/><path d=\"M17.41 7.96l-1.37-1.37c-.4-.4-.92-.59-1.43-.59-.52 0-1.04.2-1.43.59L10.3 9.45l-7.72 7.72c-.78.78-.78 2.05 0 2.83L4 21.41c.39.39.9.59 1.41.59.51 0 1.02-.2 1.41-.59l7.78-7.78 2.81-2.81c.8-.78.8-2.07 0-2.86zM5.41 20L4 18.59l7.72-7.72 1.47 1.35L5.41 20z\"/>\n",
       "  </svg>\n",
       "      </button>\n",
       "      \n",
       "  <style>\n",
       "    .colab-df-container {\n",
       "      display:flex;\n",
       "      flex-wrap:wrap;\n",
       "      gap: 12px;\n",
       "    }\n",
       "\n",
       "    .colab-df-convert {\n",
       "      background-color: #E8F0FE;\n",
       "      border: none;\n",
       "      border-radius: 50%;\n",
       "      cursor: pointer;\n",
       "      display: none;\n",
       "      fill: #1967D2;\n",
       "      height: 32px;\n",
       "      padding: 0 0 0 0;\n",
       "      width: 32px;\n",
       "    }\n",
       "\n",
       "    .colab-df-convert:hover {\n",
       "      background-color: #E2EBFA;\n",
       "      box-shadow: 0px 1px 2px rgba(60, 64, 67, 0.3), 0px 1px 3px 1px rgba(60, 64, 67, 0.15);\n",
       "      fill: #174EA6;\n",
       "    }\n",
       "\n",
       "    [theme=dark] .colab-df-convert {\n",
       "      background-color: #3B4455;\n",
       "      fill: #D2E3FC;\n",
       "    }\n",
       "\n",
       "    [theme=dark] .colab-df-convert:hover {\n",
       "      background-color: #434B5C;\n",
       "      box-shadow: 0px 1px 3px 1px rgba(0, 0, 0, 0.15);\n",
       "      filter: drop-shadow(0px 1px 2px rgba(0, 0, 0, 0.3));\n",
       "      fill: #FFFFFF;\n",
       "    }\n",
       "  </style>\n",
       "\n",
       "      <script>\n",
       "        const buttonEl =\n",
       "          document.querySelector('#df-55d51305-6668-4c48-9bc5-20572f020ccc button.colab-df-convert');\n",
       "        buttonEl.style.display =\n",
       "          google.colab.kernel.accessAllowed ? 'block' : 'none';\n",
       "\n",
       "        async function convertToInteractive(key) {\n",
       "          const element = document.querySelector('#df-55d51305-6668-4c48-9bc5-20572f020ccc');\n",
       "          const dataTable =\n",
       "            await google.colab.kernel.invokeFunction('convertToInteractive',\n",
       "                                                     [key], {});\n",
       "          if (!dataTable) return;\n",
       "\n",
       "          const docLinkHtml = 'Like what you see? Visit the ' +\n",
       "            '<a target=\"_blank\" href=https://colab.research.google.com/notebooks/data_table.ipynb>data table notebook</a>'\n",
       "            + ' to learn more about interactive tables.';\n",
       "          element.innerHTML = '';\n",
       "          dataTable['output_type'] = 'display_data';\n",
       "          await google.colab.output.renderOutput(dataTable, element);\n",
       "          const docLink = document.createElement('div');\n",
       "          docLink.innerHTML = docLinkHtml;\n",
       "          element.appendChild(docLink);\n",
       "        }\n",
       "      </script>\n",
       "    </div>\n",
       "  </div>\n",
       "  "
      ],
      "text/plain": [
       "           id1     id2  label\n",
       "0         9202    9202      1\n",
       "1       410411  460254      0\n",
       "2       211858  312074      1\n",
       "3       253901  504325      0\n",
       "4       415071   63239      0\n",
       "...        ...     ...    ...\n",
       "948227  177447   82731      1\n",
       "948228  141580  396615      0\n",
       "948229  817680  271396      0\n",
       "948230  756771  322480      0\n",
       "948231  409066  251558      0\n",
       "\n",
       "[948232 rows x 3 columns]"
      ]
     },
     "execution_count": 5,
     "metadata": {},
     "output_type": "execute_result"
    }
   ],
   "source": [
    "train = pd.read_csv(\"/content/drive/MyDrive/Code/DSAA/data/train.csv\").drop(['id'], axis=1)\n",
    "train"
   ]
  },
  {
   "cell_type": "code",
   "execution_count": 14,
   "metadata": {
    "colab": {
     "base_uri": "https://localhost:8080/"
    },
    "executionInfo": {
     "elapsed": 908,
     "status": "ok",
     "timestamp": 1688070929184,
     "user": {
      "displayName": "Anh Trần Hoàng",
      "userId": "03160318258477081697"
     },
     "user_tz": -420
    },
    "id": "0PISSfZU3i06",
    "outputId": "29c97f33-6da8-4ad8-db3e-b4a8218ccc38"
   },
   "outputs": [
    {
     "data": {
      "text/plain": [
       "0    512389\n",
       "1    435843\n",
       "Name: label, dtype: int64"
      ]
     },
     "execution_count": 14,
     "metadata": {},
     "output_type": "execute_result"
    }
   ],
   "source": [
    "train['label'].value_counts()"
   ]
  },
  {
   "cell_type": "code",
   "execution_count": 13,
   "metadata": {
    "colab": {
     "base_uri": "https://localhost:8080/",
     "height": 443
    },
    "executionInfo": {
     "elapsed": 436,
     "status": "ok",
     "timestamp": 1688070806631,
     "user": {
      "displayName": "Anh Trần Hoàng",
      "userId": "03160318258477081697"
     },
     "user_tz": -420
    },
    "id": "rYlYoLglRZiC",
    "outputId": "691813c8-654b-4ab6-becd-ee10cc1310c5"
   },
   "outputs": [
    {
     "data": {
      "text/plain": [
       "<Axes: >"
      ]
     },
     "execution_count": 13,
     "metadata": {},
     "output_type": "execute_result"
    },
    {
     "data": {
      "image/png": "[encoded data removed]",
      "text/plain": [
       "<Figure size 640x480 with 1 Axes>"
      ]
     },
     "metadata": {},
     "output_type": "display_data"
    }
   ],
   "source": [
    "train['label'].value_counts().plot(kind = \"bar\")"
   ]
  },
  {
   "cell_type": "markdown",
   "metadata": {
    "id": "HNanl9Mgbr4Z"
   },
   "source": [
    "Get 1-label indexes"
   ]
  },
  {
   "cell_type": "code",
   "execution_count": 17,
   "metadata": {
    "executionInfo": {
     "elapsed": 394,
     "status": "ok",
     "timestamp": 1688072690480,
     "user": {
      "displayName": "Anh Trần Hoàng",
      "userId": "03160318258477081697"
     },
     "user_tz": -420
    },
    "id": "fsiMOBdsZxJs"
   },
   "outputs": [],
   "source": [
    "index_label = train.index[train['label'] == 1].tolist()"
   ]
  },
  {
   "cell_type": "code",
   "execution_count": null,
   "metadata": {
    "colab": {
     "base_uri": "https://localhost:8080/",
     "height": 423
    },
    "executionInfo": {
     "elapsed": 626,
     "status": "ok",
     "timestamp": 1684923046618,
     "user": {
      "displayName": "TÂM NGUYỄN MINH",
      "userId": "18113162964843854047"
     },
     "user_tz": -420
    },
    "id": "twotdTgQOPlJ",
    "outputId": "3b906c8e-e6a7-42a1-8774-ca72dd5099a3"
   },
   "outputs": [
    {
     "data": {
      "text/html": [
       "\n",
       "  <div id=\"df-7306a169-d2be-4c5c-88ad-e2da7b847639\">\n",
       "    <div class=\"colab-df-container\">\n",
       "      <div>\n",
       "<style scoped>\n",
       "    .dataframe tbody tr th:only-of-type {\n",
       "        vertical-align: middle;\n",
       "    }\n",
       "\n",
       "    .dataframe tbody tr th {\n",
       "        vertical-align: top;\n",
       "    }\n",
       "\n",
       "    .dataframe thead th {\n",
       "        text-align: right;\n",
       "    }\n",
       "</style>\n",
       "<table border=\"1\" class=\"dataframe\">\n",
       "  <thead>\n",
       "    <tr style=\"text-align: right;\">\n",
       "      <th></th>\n",
       "      <th>id1</th>\n",
       "      <th>id2</th>\n",
       "    </tr>\n",
       "  </thead>\n",
       "  <tbody>\n",
       "    <tr>\n",
       "      <th>0</th>\n",
       "      <td>253077</td>\n",
       "      <td>253077</td>\n",
       "    </tr>\n",
       "    <tr>\n",
       "      <th>1</th>\n",
       "      <td>235274</td>\n",
       "      <td>65408</td>\n",
       "    </tr>\n",
       "    <tr>\n",
       "      <th>2</th>\n",
       "      <td>172772</td>\n",
       "      <td>677546</td>\n",
       "    </tr>\n",
       "    <tr>\n",
       "      <th>3</th>\n",
       "      <td>378856</td>\n",
       "      <td>175720</td>\n",
       "    </tr>\n",
       "    <tr>\n",
       "      <th>4</th>\n",
       "      <td>825250</td>\n",
       "      <td>35839</td>\n",
       "    </tr>\n",
       "    <tr>\n",
       "      <th>...</th>\n",
       "      <td>...</td>\n",
       "      <td>...</td>\n",
       "    </tr>\n",
       "    <tr>\n",
       "      <th>238359</th>\n",
       "      <td>187029</td>\n",
       "      <td>655064</td>\n",
       "    </tr>\n",
       "    <tr>\n",
       "      <th>238360</th>\n",
       "      <td>551893</td>\n",
       "      <td>705610</td>\n",
       "    </tr>\n",
       "    <tr>\n",
       "      <th>238361</th>\n",
       "      <td>60182</td>\n",
       "      <td>259001</td>\n",
       "    </tr>\n",
       "    <tr>\n",
       "      <th>238362</th>\n",
       "      <td>403303</td>\n",
       "      <td>391419</td>\n",
       "    </tr>\n",
       "    <tr>\n",
       "      <th>238363</th>\n",
       "      <td>563655</td>\n",
       "      <td>757551</td>\n",
       "    </tr>\n",
       "  </tbody>\n",
       "</table>\n",
       "<p>238364 rows × 2 columns</p>\n",
       "</div>\n",
       "      <button class=\"colab-df-convert\" onclick=\"convertToInteractive('df-7306a169-d2be-4c5c-88ad-e2da7b847639')\"\n",
       "              title=\"Convert this dataframe to an interactive table.\"\n",
       "              style=\"display:none;\">\n",
       "        \n",
       "  <svg xmlns=\"http://www.w3.org/2000/svg\" height=\"24px\"viewBox=\"0 0 24 24\"\n",
       "       width=\"24px\">\n",
       "    <path d=\"M0 0h24v24H0V0z\" fill=\"none\"/>\n",
       "    <path d=\"M18.56 5.44l.94 2.06.94-2.06 2.06-.94-2.06-.94-.94-2.06-.94 2.06-2.06.94zm-11 1L8.5 8.5l.94-2.06 2.06-.94-2.06-.94L8.5 2.5l-.94 2.06-2.06.94zm10 10l.94 2.06.94-2.06 2.06-.94-2.06-.94-.94-2.06-.94 2.06-2.06.94z\"/><path d=\"M17.41 7.96l-1.37-1.37c-.4-.4-.92-.59-1.43-.59-.52 0-1.04.2-1.43.59L10.3 9.45l-7.72 7.72c-.78.78-.78 2.05 0 2.83L4 21.41c.39.39.9.59 1.41.59.51 0 1.02-.2 1.41-.59l7.78-7.78 2.81-2.81c.8-.78.8-2.07 0-2.86zM5.41 20L4 18.59l7.72-7.72 1.47 1.35L5.41 20z\"/>\n",
       "  </svg>\n",
       "      </button>\n",
       "      \n",
       "  <style>\n",
       "    .colab-df-container {\n",
       "      display:flex;\n",
       "      flex-wrap:wrap;\n",
       "      gap: 12px;\n",
       "    }\n",
       "\n",
       "    .colab-df-convert {\n",
       "      background-color: #E8F0FE;\n",
       "      border: none;\n",
       "      border-radius: 50%;\n",
       "      cursor: pointer;\n",
       "      display: none;\n",
       "      fill: #1967D2;\n",
       "      height: 32px;\n",
       "      padding: 0 0 0 0;\n",
       "      width: 32px;\n",
       "    }\n",
       "\n",
       "    .colab-df-convert:hover {\n",
       "      background-color: #E2EBFA;\n",
       "      box-shadow: 0px 1px 2px rgba(60, 64, 67, 0.3), 0px 1px 3px 1px rgba(60, 64, 67, 0.15);\n",
       "      fill: #174EA6;\n",
       "    }\n",
       "\n",
       "    [theme=dark] .colab-df-convert {\n",
       "      background-color: #3B4455;\n",
       "      fill: #D2E3FC;\n",
       "    }\n",
       "\n",
       "    [theme=dark] .colab-df-convert:hover {\n",
       "      background-color: #434B5C;\n",
       "      box-shadow: 0px 1px 3px 1px rgba(0, 0, 0, 0.15);\n",
       "      filter: drop-shadow(0px 1px 2px rgba(0, 0, 0, 0.3));\n",
       "      fill: #FFFFFF;\n",
       "    }\n",
       "  </style>\n",
       "\n",
       "      <script>\n",
       "        const buttonEl =\n",
       "          document.querySelector('#df-7306a169-d2be-4c5c-88ad-e2da7b847639 button.colab-df-convert');\n",
       "        buttonEl.style.display =\n",
       "          google.colab.kernel.accessAllowed ? 'block' : 'none';\n",
       "\n",
       "        async function convertToInteractive(key) {\n",
       "          const element = document.querySelector('#df-7306a169-d2be-4c5c-88ad-e2da7b847639');\n",
       "          const dataTable =\n",
       "            await google.colab.kernel.invokeFunction('convertToInteractive',\n",
       "                                                     [key], {});\n",
       "          if (!dataTable) return;\n",
       "\n",
       "          const docLinkHtml = 'Like what you see? Visit the ' +\n",
       "            '<a target=\"_blank\" href=https://colab.research.google.com/notebooks/data_table.ipynb>data table notebook</a>'\n",
       "            + ' to learn more about interactive tables.';\n",
       "          element.innerHTML = '';\n",
       "          dataTable['output_type'] = 'display_data';\n",
       "          await google.colab.output.renderOutput(dataTable, element);\n",
       "          const docLink = document.createElement('div');\n",
       "          docLink.innerHTML = docLinkHtml;\n",
       "          element.appendChild(docLink);\n",
       "        }\n",
       "      </script>\n",
       "    </div>\n",
       "  </div>\n",
       "  "
      ],
      "text/plain": [
       "           id1     id2\n",
       "0       253077  253077\n",
       "1       235274   65408\n",
       "2       172772  677546\n",
       "3       378856  175720\n",
       "4       825250   35839\n",
       "...        ...     ...\n",
       "238359  187029  655064\n",
       "238360  551893  705610\n",
       "238361   60182  259001\n",
       "238362  403303  391419\n",
       "238363  563655  757551\n",
       "\n",
       "[238364 rows x 2 columns]"
      ]
     },
     "execution_count": 9,
     "metadata": {},
     "output_type": "execute_result"
    }
   ],
   "source": [
    "test = pd.read_csv(\"/content/drive/MyDrive/Code/DSAA/data/test.csv\").drop(['id'], axis=1)\n",
    "test"
   ]
  },
  {
   "cell_type": "code",
   "execution_count": null,
   "metadata": {
    "colab": {
     "base_uri": "https://localhost:8080/",
     "height": 423
    },
    "executionInfo": {
     "elapsed": 23974,
     "status": "ok",
     "timestamp": 1684923070589,
     "user": {
      "displayName": "TÂM NGUYỄN MINH",
      "userId": "18113162964843854047"
     },
     "user_tz": -420
    },
    "id": "d3hSglVMdL_r",
    "outputId": "3754861f-4052-463e-e59a-ce5102cac417"
   },
   "outputs": [
    {
     "data": {
      "text/html": [
       "\n",
       "  <div id=\"df-d6dcda6d-c534-4f11-8cef-51b9dba380d3\">\n",
       "    <div class=\"colab-df-container\">\n",
       "      <div>\n",
       "<style scoped>\n",
       "    .dataframe tbody tr th:only-of-type {\n",
       "        vertical-align: middle;\n",
       "    }\n",
       "\n",
       "    .dataframe tbody tr th {\n",
       "        vertical-align: top;\n",
       "    }\n",
       "\n",
       "    .dataframe thead th {\n",
       "        text-align: right;\n",
       "    }\n",
       "</style>\n",
       "<table border=\"1\" class=\"dataframe\">\n",
       "  <thead>\n",
       "    <tr style=\"text-align: right;\">\n",
       "      <th></th>\n",
       "      <th>id</th>\n",
       "      <th>text</th>\n",
       "    </tr>\n",
       "  </thead>\n",
       "  <tbody>\n",
       "    <tr>\n",
       "      <th>0</th>\n",
       "      <td>1</td>\n",
       "      <td>{{infobox person | name = clayton jacobson | i...</td>\n",
       "    </tr>\n",
       "    <tr>\n",
       "      <th>1</th>\n",
       "      <td>2</td>\n",
       "      <td>a '''cobra probe''' is a device to measure the...</td>\n",
       "    </tr>\n",
       "    <tr>\n",
       "      <th>2</th>\n",
       "      <td>3</td>\n",
       "      <td>the '''harmon foundation''' was established in...</td>\n",
       "    </tr>\n",
       "    <tr>\n",
       "      <th>3</th>\n",
       "      <td>4</td>\n",
       "      <td>'''structured finance''' is a sector of financ...</td>\n",
       "    </tr>\n",
       "    <tr>\n",
       "      <th>4</th>\n",
       "      <td>5</td>\n",
       "      <td>'''al-shohada'a stadium''' is a multi-use stad...</td>\n",
       "    </tr>\n",
       "    <tr>\n",
       "      <th>...</th>\n",
       "      <td>...</td>\n",
       "      <td>...</td>\n",
       "    </tr>\n",
       "    <tr>\n",
       "      <th>837829</th>\n",
       "      <td>836621</td>\n",
       "      <td>{{infobox publisher | name = houghton mifflin ...</td>\n",
       "    </tr>\n",
       "    <tr>\n",
       "      <th>837830</th>\n",
       "      <td>836622</td>\n",
       "      <td>{{infobox former subdivision |native_name = }}...</td>\n",
       "    </tr>\n",
       "    <tr>\n",
       "      <th>837831</th>\n",
       "      <td>836623</td>\n",
       "      <td>'''janjira''' may refer to: * janjira state, a...</td>\n",
       "    </tr>\n",
       "    <tr>\n",
       "      <th>837832</th>\n",
       "      <td>344599</td>\n",
       "      <td>'''serendip''' ('''search for extraterrestrial...</td>\n",
       "    </tr>\n",
       "    <tr>\n",
       "      <th>837833</th>\n",
       "      <td>836624</td>\n",
       "      <td>{{infobox book| &lt;!-- see wikiproject_novels or...</td>\n",
       "    </tr>\n",
       "  </tbody>\n",
       "</table>\n",
       "<p>837834 rows × 2 columns</p>\n",
       "</div>\n",
       "      <button class=\"colab-df-convert\" onclick=\"convertToInteractive('df-d6dcda6d-c534-4f11-8cef-51b9dba380d3')\"\n",
       "              title=\"Convert this dataframe to an interactive table.\"\n",
       "              style=\"display:none;\">\n",
       "        \n",
       "  <svg xmlns=\"http://www.w3.org/2000/svg\" height=\"24px\"viewBox=\"0 0 24 24\"\n",
       "       width=\"24px\">\n",
       "    <path d=\"M0 0h24v24H0V0z\" fill=\"none\"/>\n",
       "    <path d=\"M18.56 5.44l.94 2.06.94-2.06 2.06-.94-2.06-.94-.94-2.06-.94 2.06-2.06.94zm-11 1L8.5 8.5l.94-2.06 2.06-.94-2.06-.94L8.5 2.5l-.94 2.06-2.06.94zm10 10l.94 2.06.94-2.06 2.06-.94-2.06-.94-.94-2.06-.94 2.06-2.06.94z\"/><path d=\"M17.41 7.96l-1.37-1.37c-.4-.4-.92-.59-1.43-.59-.52 0-1.04.2-1.43.59L10.3 9.45l-7.72 7.72c-.78.78-.78 2.05 0 2.83L4 21.41c.39.39.9.59 1.41.59.51 0 1.02-.2 1.41-.59l7.78-7.78 2.81-2.81c.8-.78.8-2.07 0-2.86zM5.41 20L4 18.59l7.72-7.72 1.47 1.35L5.41 20z\"/>\n",
       "  </svg>\n",
       "      </button>\n",
       "      \n",
       "  <style>\n",
       "    .colab-df-container {\n",
       "      display:flex;\n",
       "      flex-wrap:wrap;\n",
       "      gap: 12px;\n",
       "    }\n",
       "\n",
       "    .colab-df-convert {\n",
       "      background-color: #E8F0FE;\n",
       "      border: none;\n",
       "      border-radius: 50%;\n",
       "      cursor: pointer;\n",
       "      display: none;\n",
       "      fill: #1967D2;\n",
       "      height: 32px;\n",
       "      padding: 0 0 0 0;\n",
       "      width: 32px;\n",
       "    }\n",
       "\n",
       "    .colab-df-convert:hover {\n",
       "      background-color: #E2EBFA;\n",
       "      box-shadow: 0px 1px 2px rgba(60, 64, 67, 0.3), 0px 1px 3px 1px rgba(60, 64, 67, 0.15);\n",
       "      fill: #174EA6;\n",
       "    }\n",
       "\n",
       "    [theme=dark] .colab-df-convert {\n",
       "      background-color: #3B4455;\n",
       "      fill: #D2E3FC;\n",
       "    }\n",
       "\n",
       "    [theme=dark] .colab-df-convert:hover {\n",
       "      background-color: #434B5C;\n",
       "      box-shadow: 0px 1px 3px 1px rgba(0, 0, 0, 0.15);\n",
       "      filter: drop-shadow(0px 1px 2px rgba(0, 0, 0, 0.3));\n",
       "      fill: #FFFFFF;\n",
       "    }\n",
       "  </style>\n",
       "\n",
       "      <script>\n",
       "        const buttonEl =\n",
       "          document.querySelector('#df-d6dcda6d-c534-4f11-8cef-51b9dba380d3 button.colab-df-convert');\n",
       "        buttonEl.style.display =\n",
       "          google.colab.kernel.accessAllowed ? 'block' : 'none';\n",
       "\n",
       "        async function convertToInteractive(key) {\n",
       "          const element = document.querySelector('#df-d6dcda6d-c534-4f11-8cef-51b9dba380d3');\n",
       "          const dataTable =\n",
       "            await google.colab.kernel.invokeFunction('convertToInteractive',\n",
       "                                                     [key], {});\n",
       "          if (!dataTable) return;\n",
       "\n",
       "          const docLinkHtml = 'Like what you see? Visit the ' +\n",
       "            '<a target=\"_blank\" href=https://colab.research.google.com/notebooks/data_table.ipynb>data table notebook</a>'\n",
       "            + ' to learn more about interactive tables.';\n",
       "          element.innerHTML = '';\n",
       "          dataTable['output_type'] = 'display_data';\n",
       "          await google.colab.output.renderOutput(dataTable, element);\n",
       "          const docLink = document.createElement('div');\n",
       "          docLink.innerHTML = docLinkHtml;\n",
       "          element.appendChild(docLink);\n",
       "        }\n",
       "      </script>\n",
       "    </div>\n",
       "  </div>\n",
       "  "
      ],
      "text/plain": [
       "            id                                               text\n",
       "0            1  {{infobox person | name = clayton jacobson | i...\n",
       "1            2  a '''cobra probe''' is a device to measure the...\n",
       "2            3  the '''harmon foundation''' was established in...\n",
       "3            4  '''structured finance''' is a sector of financ...\n",
       "4            5  '''al-shohada'a stadium''' is a multi-use stad...\n",
       "...        ...                                                ...\n",
       "837829  836621  {{infobox publisher | name = houghton mifflin ...\n",
       "837830  836622  {{infobox former subdivision |native_name = }}...\n",
       "837831  836623  '''janjira''' may refer to: * janjira state, a...\n",
       "837832  344599  '''serendip''' ('''search for extraterrestrial...\n",
       "837833  836624  {{infobox book| <!-- see wikiproject_novels or...\n",
       "\n",
       "[837834 rows x 2 columns]"
      ]
     },
     "execution_count": 10,
     "metadata": {},
     "output_type": "execute_result"
    }
   ],
   "source": [
    "nodes = pd.read_csv(\"/content/drive/MyDrive/Code/DSAA/data/nodes/nodes.tsv\", sep = \"\\t\", index_col=None)\n",
    "nodes"
   ]
  },
  {
   "cell_type": "code",
   "execution_count": null,
   "metadata": {
    "id": "UdsCajZaugWw"
   },
   "outputs": [],
   "source": [
    "node_ids = nodes['id']"
   ]
  },
  {
   "cell_type": "markdown",
   "metadata": {
    "id": "Lw_rrken4qGX"
   },
   "source": [
    "# Find insights"
   ]
  },
  {
   "cell_type": "markdown",
   "metadata": {
    "id": "7IsRUafR-fUz"
   },
   "source": [
    "## Length"
   ]
  },
  {
   "cell_type": "markdown",
   "metadata": {
    "id": "YgzXUoDs5C6m"
   },
   "source": [
    "### Get texts' length"
   ]
  },
  {
   "cell_type": "code",
   "execution_count": null,
   "metadata": {
    "id": "Fhgy9YYhhp-r"
   },
   "outputs": [],
   "source": [
    "text_length_word_r = [len(remove_special_character(str(x)).split(' ')) for x in nodes['text']]"
   ]
  },
  {
   "cell_type": "markdown",
   "metadata": {
    "id": "GS15RXxv5Jcs"
   },
   "source": [
    "Get whole dataset's vocabulary (remove special character + split by space)"
   ]
  },
  {
   "cell_type": "code",
   "execution_count": null,
   "metadata": {
    "colab": {
     "base_uri": "https://localhost:8080/"
    },
    "executionInfo": {
     "elapsed": 314,
     "status": "ok",
     "timestamp": 1684044620310,
     "user": {
      "displayName": "Anh Trần Hoàng",
      "userId": "03160318258477081697"
     },
     "user_tz": -420
    },
    "id": "slgzcgg9nntK",
    "outputId": "e8273ed3-02dd-4322-e517-1e1d9a1f728a"
   },
   "outputs": [
    {
     "name": "stdout",
     "output_type": "stream",
     "text": [
      "Vocabulary's length (word + remove spec character): 1465941\n"
     ]
    }
   ],
   "source": [
    "vocab_word_r = {\"\"}\n",
    "for text in nodes['text']:\n",
    "  for word in remove_special_character(str(text)).split(' '):\n",
    "    vocab_word_r.add(word)\n",
    "\n",
    "print(\"Vocabulary's length (word + remove spec character): {}\".format(len(vocab_word_r)))"
   ]
  },
  {
   "cell_type": "markdown",
   "metadata": {
    "id": "vfhy720C5eOr"
   },
   "source": [
    "Plot the distribution of texts' length"
   ]
  },
  {
   "cell_type": "code",
   "execution_count": null,
   "metadata": {
    "colab": {
     "base_uri": "https://localhost:8080/",
     "height": 691
    },
    "executionInfo": {
     "elapsed": 5258,
     "status": "ok",
     "timestamp": 1684006317373,
     "user": {
      "displayName": "Anh Trần Hoàng",
      "userId": "03160318258477081697"
     },
     "user_tz": -420
    },
    "id": "oxvHpZwLju21",
    "outputId": "c1dcb2a1-ff58-48f6-edfd-a08f28a2d38c"
   },
   "outputs": [
    {
     "name": "stderr",
     "output_type": "stream",
     "text": [
      "<ipython-input-73-9b87e6b50f2d>:1: UserWarning: \n",
      "\n",
      "`distplot` is a deprecated function and will be removed in seaborn v0.14.0.\n",
      "\n",
      "Please adapt your code to use either `displot` (a figure-level function with\n",
      "similar flexibility) or `histplot` (an axes-level function for histograms).\n",
      "\n",
      "For a guide to updating your code to use the new functions, please see\n",
      "https://gist.github.com/mwaskom/de44147ed2974457ad6372750bbe5751\n",
      "\n",
      "  sns.distplot(text_length).set(title=\"Distribution of texts' length by word (without special characters)\")\n"
     ]
    },
    {
     "data": {
      "text/plain": [
       "[Text(0.5, 1.0, \"Distribution of texts' length by word (without special characters)\")]"
      ]
     },
     "execution_count": 73,
     "metadata": {},
     "output_type": "execute_result"
    },
    {
     "data": {
      "image/png": "[encoded data removed]",
      "text/plain": [
       "<Figure size 640x480 with 1 Axes>"
      ]
     },
     "metadata": {},
     "output_type": "display_data"
    }
   ],
   "source": [
    "sns.distplot(text_length_word_r).set(title=\"Distribution of texts' length by word (without special characters)\")"
   ]
  },
  {
   "cell_type": "markdown",
   "metadata": {
    "id": "b06Q5gSa5mMP"
   },
   "source": [
    "Basic insights"
   ]
  },
  {
   "cell_type": "code",
   "execution_count": null,
   "metadata": {
    "colab": {
     "base_uri": "https://localhost:8080/",
     "height": 300
    },
    "executionInfo": {
     "elapsed": 6,
     "status": "ok",
     "timestamp": 1684005871944,
     "user": {
      "displayName": "Anh Trần Hoàng",
      "userId": "03160318258477081697"
     },
     "user_tz": -420
    },
    "id": "YIVfKDOckcRo",
    "outputId": "dbffe0b2-2c61-476e-f0a4-666383461bc4"
   },
   "outputs": [
    {
     "data": {
      "text/html": [
       "\n",
       "  <div id=\"df-70d544c4-bcc9-4626-b414-f0371cbf56e7\">\n",
       "    <div class=\"colab-df-container\">\n",
       "      <div>\n",
       "<style scoped>\n",
       "    .dataframe tbody tr th:only-of-type {\n",
       "        vertical-align: middle;\n",
       "    }\n",
       "\n",
       "    .dataframe tbody tr th {\n",
       "        vertical-align: top;\n",
       "    }\n",
       "\n",
       "    .dataframe thead th {\n",
       "        text-align: right;\n",
       "    }\n",
       "</style>\n",
       "<table border=\"1\" class=\"dataframe\">\n",
       "  <thead>\n",
       "    <tr style=\"text-align: right;\">\n",
       "      <th></th>\n",
       "      <th>0</th>\n",
       "    </tr>\n",
       "  </thead>\n",
       "  <tbody>\n",
       "    <tr>\n",
       "      <th>count</th>\n",
       "      <td>837834.000000</td>\n",
       "    </tr>\n",
       "    <tr>\n",
       "      <th>mean</th>\n",
       "      <td>115.782661</td>\n",
       "    </tr>\n",
       "    <tr>\n",
       "      <th>std</th>\n",
       "      <td>153.560819</td>\n",
       "    </tr>\n",
       "    <tr>\n",
       "      <th>min</th>\n",
       "      <td>1.000000</td>\n",
       "    </tr>\n",
       "    <tr>\n",
       "      <th>25%</th>\n",
       "      <td>47.000000</td>\n",
       "    </tr>\n",
       "    <tr>\n",
       "      <th>50%</th>\n",
       "      <td>79.000000</td>\n",
       "    </tr>\n",
       "    <tr>\n",
       "      <th>75%</th>\n",
       "      <td>144.000000</td>\n",
       "    </tr>\n",
       "    <tr>\n",
       "      <th>max</th>\n",
       "      <td>34889.000000</td>\n",
       "    </tr>\n",
       "  </tbody>\n",
       "</table>\n",
       "</div>\n",
       "      <button class=\"colab-df-convert\" onclick=\"convertToInteractive('df-70d544c4-bcc9-4626-b414-f0371cbf56e7')\"\n",
       "              title=\"Convert this dataframe to an interactive table.\"\n",
       "              style=\"display:none;\">\n",
       "        \n",
       "  <svg xmlns=\"http://www.w3.org/2000/svg\" height=\"24px\"viewBox=\"0 0 24 24\"\n",
       "       width=\"24px\">\n",
       "    <path d=\"M0 0h24v24H0V0z\" fill=\"none\"/>\n",
       "    <path d=\"M18.56 5.44l.94 2.06.94-2.06 2.06-.94-2.06-.94-.94-2.06-.94 2.06-2.06.94zm-11 1L8.5 8.5l.94-2.06 2.06-.94-2.06-.94L8.5 2.5l-.94 2.06-2.06.94zm10 10l.94 2.06.94-2.06 2.06-.94-2.06-.94-.94-2.06-.94 2.06-2.06.94z\"/><path d=\"M17.41 7.96l-1.37-1.37c-.4-.4-.92-.59-1.43-.59-.52 0-1.04.2-1.43.59L10.3 9.45l-7.72 7.72c-.78.78-.78 2.05 0 2.83L4 21.41c.39.39.9.59 1.41.59.51 0 1.02-.2 1.41-.59l7.78-7.78 2.81-2.81c.8-.78.8-2.07 0-2.86zM5.41 20L4 18.59l7.72-7.72 1.47 1.35L5.41 20z\"/>\n",
       "  </svg>\n",
       "      </button>\n",
       "      \n",
       "  <style>\n",
       "    .colab-df-container {\n",
       "      display:flex;\n",
       "      flex-wrap:wrap;\n",
       "      gap: 12px;\n",
       "    }\n",
       "\n",
       "    .colab-df-convert {\n",
       "      background-color: #E8F0FE;\n",
       "      border: none;\n",
       "      border-radius: 50%;\n",
       "      cursor: pointer;\n",
       "      display: none;\n",
       "      fill: #1967D2;\n",
       "      height: 32px;\n",
       "      padding: 0 0 0 0;\n",
       "      width: 32px;\n",
       "    }\n",
       "\n",
       "    .colab-df-convert:hover {\n",
       "      background-color: #E2EBFA;\n",
       "      box-shadow: 0px 1px 2px rgba(60, 64, 67, 0.3), 0px 1px 3px 1px rgba(60, 64, 67, 0.15);\n",
       "      fill: #174EA6;\n",
       "    }\n",
       "\n",
       "    [theme=dark] .colab-df-convert {\n",
       "      background-color: #3B4455;\n",
       "      fill: #D2E3FC;\n",
       "    }\n",
       "\n",
       "    [theme=dark] .colab-df-convert:hover {\n",
       "      background-color: #434B5C;\n",
       "      box-shadow: 0px 1px 3px 1px rgba(0, 0, 0, 0.15);\n",
       "      filter: drop-shadow(0px 1px 2px rgba(0, 0, 0, 0.3));\n",
       "      fill: #FFFFFF;\n",
       "    }\n",
       "  </style>\n",
       "\n",
       "      <script>\n",
       "        const buttonEl =\n",
       "          document.querySelector('#df-70d544c4-bcc9-4626-b414-f0371cbf56e7 button.colab-df-convert');\n",
       "        buttonEl.style.display =\n",
       "          google.colab.kernel.accessAllowed ? 'block' : 'none';\n",
       "\n",
       "        async function convertToInteractive(key) {\n",
       "          const element = document.querySelector('#df-70d544c4-bcc9-4626-b414-f0371cbf56e7');\n",
       "          const dataTable =\n",
       "            await google.colab.kernel.invokeFunction('convertToInteractive',\n",
       "                                                     [key], {});\n",
       "          if (!dataTable) return;\n",
       "\n",
       "          const docLinkHtml = 'Like what you see? Visit the ' +\n",
       "            '<a target=\"_blank\" href=https://colab.research.google.com/notebooks/data_table.ipynb>data table notebook</a>'\n",
       "            + ' to learn more about interactive tables.';\n",
       "          element.innerHTML = '';\n",
       "          dataTable['output_type'] = 'display_data';\n",
       "          await google.colab.output.renderOutput(dataTable, element);\n",
       "          const docLink = document.createElement('div');\n",
       "          docLink.innerHTML = docLinkHtml;\n",
       "          element.appendChild(docLink);\n",
       "        }\n",
       "      </script>\n",
       "    </div>\n",
       "  </div>\n",
       "  "
      ],
      "text/plain": [
       "                   0\n",
       "count  837834.000000\n",
       "mean      115.782661\n",
       "std       153.560819\n",
       "min         1.000000\n",
       "25%        47.000000\n",
       "50%        79.000000\n",
       "75%       144.000000\n",
       "max     34889.000000"
      ]
     },
     "execution_count": 66,
     "metadata": {},
     "output_type": "execute_result"
    }
   ],
   "source": [
    "pd.DataFrame(text_length_word_r).describe()"
   ]
  },
  {
   "cell_type": "markdown",
   "metadata": {
    "id": "Hz1sEo_UIiAn"
   },
   "source": [
    "### Common words between a pair of node"
   ]
  },
  {
   "cell_type": "code",
   "execution_count": null,
   "metadata": {
    "id": "3WWCJPyD6Une"
   },
   "outputs": [],
   "source": [
    "list_common = []\n",
    "for idx in tqdm(range(len(train))):\n",
    "  sen1, sen2 = get_sentence_pair(idx, train, nodes)\n",
    "\n",
    "  t1 = get_vocab(sen1, rm_character = True)\n",
    "  t2 = get_vocab(sen2, rm_character = True)\n",
    "  common_words = common(t1, t2)\n",
    "  list_common.append([len(sen1), len(sen2), len(common_words), common_words])"
   ]
  },
  {
   "cell_type": "code",
   "execution_count": null,
   "metadata": {
    "colab": {
     "base_uri": "https://localhost:8080/",
     "height": 423
    },
    "executionInfo": {
     "elapsed": 1599,
     "status": "ok",
     "timestamp": 1684048742906,
     "user": {
      "displayName": "Anh Trần Hoàng",
      "userId": "03160318258477081697"
     },
     "user_tz": -420
    },
    "id": "80x7Y3O8HnC4",
    "outputId": "5ca90ca8-c543-4a3a-a65c-0a76419a313f"
   },
   "outputs": [
    {
     "data": {
      "text/html": [
       "\n",
       "  <div id=\"df-a0d471a6-3b5e-4837-8596-19e76423769a\">\n",
       "    <div class=\"colab-df-container\">\n",
       "      <div>\n",
       "<style scoped>\n",
       "    .dataframe tbody tr th:only-of-type {\n",
       "        vertical-align: middle;\n",
       "    }\n",
       "\n",
       "    .dataframe tbody tr th {\n",
       "        vertical-align: top;\n",
       "    }\n",
       "\n",
       "    .dataframe thead th {\n",
       "        text-align: right;\n",
       "    }\n",
       "</style>\n",
       "<table border=\"1\" class=\"dataframe\">\n",
       "  <thead>\n",
       "    <tr style=\"text-align: right;\">\n",
       "      <th></th>\n",
       "      <th>sen1_len</th>\n",
       "      <th>sen2_len</th>\n",
       "      <th>common_len</th>\n",
       "      <th>common_words</th>\n",
       "    </tr>\n",
       "  </thead>\n",
       "  <tbody>\n",
       "    <tr>\n",
       "      <th>0</th>\n",
       "      <td>348</td>\n",
       "      <td>348</td>\n",
       "      <td>24</td>\n",
       "      <td>{, map, an, pskov, the, municipal, russia, is,...</td>\n",
       "    </tr>\n",
       "    <tr>\n",
       "      <th>1</th>\n",
       "      <td>271</td>\n",
       "      <td>202</td>\n",
       "      <td>6</td>\n",
       "      <td>{, of, it, is, in, the}</td>\n",
       "    </tr>\n",
       "    <tr>\n",
       "      <th>2</th>\n",
       "      <td>480</td>\n",
       "      <td>52</td>\n",
       "      <td>7</td>\n",
       "      <td>{, of, is, a, in, korea, the}</td>\n",
       "    </tr>\n",
       "    <tr>\n",
       "      <th>3</th>\n",
       "      <td>1218</td>\n",
       "      <td>1628</td>\n",
       "      <td>16</td>\n",
       "      <td>{, name, s, of, to, and, infobox, southern, by...</td>\n",
       "    </tr>\n",
       "    <tr>\n",
       "      <th>4</th>\n",
       "      <td>3</td>\n",
       "      <td>872</td>\n",
       "      <td>1</td>\n",
       "      <td>{}</td>\n",
       "    </tr>\n",
       "    <tr>\n",
       "      <th>...</th>\n",
       "      <td>...</td>\n",
       "      <td>...</td>\n",
       "      <td>...</td>\n",
       "      <td>...</td>\n",
       "    </tr>\n",
       "    <tr>\n",
       "      <th>948227</th>\n",
       "      <td>175</td>\n",
       "      <td>1116</td>\n",
       "      <td>8</td>\n",
       "      <td>{, of, is, in, a, the, lindsey, kirton}</td>\n",
       "    </tr>\n",
       "    <tr>\n",
       "      <th>948228</th>\n",
       "      <td>1436</td>\n",
       "      <td>1771</td>\n",
       "      <td>78</td>\n",
       "      <td>{, espncricinfo, born, clubnumber1, score2, ba...</td>\n",
       "    </tr>\n",
       "    <tr>\n",
       "      <th>948229</th>\n",
       "      <td>1015</td>\n",
       "      <td>148</td>\n",
       "      <td>3</td>\n",
       "      <td>{, of, the}</td>\n",
       "    </tr>\n",
       "    <tr>\n",
       "      <th>948230</th>\n",
       "      <td>86</td>\n",
       "      <td>81</td>\n",
       "      <td>1</td>\n",
       "      <td>{}</td>\n",
       "    </tr>\n",
       "    <tr>\n",
       "      <th>948231</th>\n",
       "      <td>4196</td>\n",
       "      <td>1732</td>\n",
       "      <td>24</td>\n",
       "      <td>{, as, to, an, within, the, established, part,...</td>\n",
       "    </tr>\n",
       "  </tbody>\n",
       "</table>\n",
       "<p>948232 rows × 4 columns</p>\n",
       "</div>\n",
       "      <button class=\"colab-df-convert\" onclick=\"convertToInteractive('df-a0d471a6-3b5e-4837-8596-19e76423769a')\"\n",
       "              title=\"Convert this dataframe to an interactive table.\"\n",
       "              style=\"display:none;\">\n",
       "        \n",
       "  <svg xmlns=\"http://www.w3.org/2000/svg\" height=\"24px\"viewBox=\"0 0 24 24\"\n",
       "       width=\"24px\">\n",
       "    <path d=\"M0 0h24v24H0V0z\" fill=\"none\"/>\n",
       "    <path d=\"M18.56 5.44l.94 2.06.94-2.06 2.06-.94-2.06-.94-.94-2.06-.94 2.06-2.06.94zm-11 1L8.5 8.5l.94-2.06 2.06-.94-2.06-.94L8.5 2.5l-.94 2.06-2.06.94zm10 10l.94 2.06.94-2.06 2.06-.94-2.06-.94-.94-2.06-.94 2.06-2.06.94z\"/><path d=\"M17.41 7.96l-1.37-1.37c-.4-.4-.92-.59-1.43-.59-.52 0-1.04.2-1.43.59L10.3 9.45l-7.72 7.72c-.78.78-.78 2.05 0 2.83L4 21.41c.39.39.9.59 1.41.59.51 0 1.02-.2 1.41-.59l7.78-7.78 2.81-2.81c.8-.78.8-2.07 0-2.86zM5.41 20L4 18.59l7.72-7.72 1.47 1.35L5.41 20z\"/>\n",
       "  </svg>\n",
       "      </button>\n",
       "      \n",
       "  <style>\n",
       "    .colab-df-container {\n",
       "      display:flex;\n",
       "      flex-wrap:wrap;\n",
       "      gap: 12px;\n",
       "    }\n",
       "\n",
       "    .colab-df-convert {\n",
       "      background-color: #E8F0FE;\n",
       "      border: none;\n",
       "      border-radius: 50%;\n",
       "      cursor: pointer;\n",
       "      display: none;\n",
       "      fill: #1967D2;\n",
       "      height: 32px;\n",
       "      padding: 0 0 0 0;\n",
       "      width: 32px;\n",
       "    }\n",
       "\n",
       "    .colab-df-convert:hover {\n",
       "      background-color: #E2EBFA;\n",
       "      box-shadow: 0px 1px 2px rgba(60, 64, 67, 0.3), 0px 1px 3px 1px rgba(60, 64, 67, 0.15);\n",
       "      fill: #174EA6;\n",
       "    }\n",
       "\n",
       "    [theme=dark] .colab-df-convert {\n",
       "      background-color: #3B4455;\n",
       "      fill: #D2E3FC;\n",
       "    }\n",
       "\n",
       "    [theme=dark] .colab-df-convert:hover {\n",
       "      background-color: #434B5C;\n",
       "      box-shadow: 0px 1px 3px 1px rgba(0, 0, 0, 0.15);\n",
       "      filter: drop-shadow(0px 1px 2px rgba(0, 0, 0, 0.3));\n",
       "      fill: #FFFFFF;\n",
       "    }\n",
       "  </style>\n",
       "\n",
       "      <script>\n",
       "        const buttonEl =\n",
       "          document.querySelector('#df-a0d471a6-3b5e-4837-8596-19e76423769a button.colab-df-convert');\n",
       "        buttonEl.style.display =\n",
       "          google.colab.kernel.accessAllowed ? 'block' : 'none';\n",
       "\n",
       "        async function convertToInteractive(key) {\n",
       "          const element = document.querySelector('#df-a0d471a6-3b5e-4837-8596-19e76423769a');\n",
       "          const dataTable =\n",
       "            await google.colab.kernel.invokeFunction('convertToInteractive',\n",
       "                                                     [key], {});\n",
       "          if (!dataTable) return;\n",
       "\n",
       "          const docLinkHtml = 'Like what you see? Visit the ' +\n",
       "            '<a target=\"_blank\" href=https://colab.research.google.com/notebooks/data_table.ipynb>data table notebook</a>'\n",
       "            + ' to learn more about interactive tables.';\n",
       "          element.innerHTML = '';\n",
       "          dataTable['output_type'] = 'display_data';\n",
       "          await google.colab.output.renderOutput(dataTable, element);\n",
       "          const docLink = document.createElement('div');\n",
       "          docLink.innerHTML = docLinkHtml;\n",
       "          element.appendChild(docLink);\n",
       "        }\n",
       "      </script>\n",
       "    </div>\n",
       "  </div>\n",
       "  "
      ],
      "text/plain": [
       "        sen1_len  sen2_len  common_len  \\\n",
       "0            348       348          24   \n",
       "1            271       202           6   \n",
       "2            480        52           7   \n",
       "3           1218      1628          16   \n",
       "4              3       872           1   \n",
       "...          ...       ...         ...   \n",
       "948227       175      1116           8   \n",
       "948228      1436      1771          78   \n",
       "948229      1015       148           3   \n",
       "948230        86        81           1   \n",
       "948231      4196      1732          24   \n",
       "\n",
       "                                             common_words  \n",
       "0       {, map, an, pskov, the, municipal, russia, is,...  \n",
       "1                                 {, of, it, is, in, the}  \n",
       "2                           {, of, is, a, in, korea, the}  \n",
       "3       {, name, s, of, to, and, infobox, southern, by...  \n",
       "4                                                      {}  \n",
       "...                                                   ...  \n",
       "948227            {, of, is, in, a, the, lindsey, kirton}  \n",
       "948228  {, espncricinfo, born, clubnumber1, score2, ba...  \n",
       "948229                                        {, of, the}  \n",
       "948230                                                 {}  \n",
       "948231  {, as, to, an, within, the, established, part,...  \n",
       "\n",
       "[948232 rows x 4 columns]"
      ]
     },
     "execution_count": 105,
     "metadata": {},
     "output_type": "execute_result"
    }
   ],
   "source": [
    "pd_common = pd.DataFrame(list_common)\n",
    "pd_common.columns = [\"sen1_len\", \"sen2_len\", \"common_len\", \"common_words\"]\n",
    "pd_common"
   ]
  },
  {
   "cell_type": "code",
   "execution_count": null,
   "metadata": {
    "id": "tux2HO-TOKBn"
   },
   "outputs": [],
   "source": [
    "#Save\n",
    "pd_common.to_csv(\"/content/drive/MyDrive/Code/DSAA/common.csv\")"
   ]
  },
  {
   "cell_type": "code",
   "execution_count": 15,
   "metadata": {
    "executionInfo": {
     "elapsed": 5999,
     "status": "ok",
     "timestamp": 1688072661026,
     "user": {
      "displayName": "Anh Trần Hoàng",
      "userId": "03160318258477081697"
     },
     "user_tz": -420
    },
    "id": "yyUkImCCb4_X"
   },
   "outputs": [],
   "source": [
    "#Load\n",
    "pd_common = pd.read_csv(\"/content/drive/MyDrive/Code/DSAA/common.csv\")"
   ]
  },
  {
   "cell_type": "code",
   "execution_count": 18,
   "metadata": {
    "colab": {
     "base_uri": "https://localhost:8080/",
     "height": 691
    },
    "executionInfo": {
     "elapsed": 2562,
     "status": "ok",
     "timestamp": 1688072699362,
     "user": {
      "displayName": "Anh Trần Hoàng",
      "userId": "03160318258477081697"
     },
     "user_tz": -420
    },
    "id": "EW_C5Qe8Ivoa",
    "outputId": "fb3779ee-b92f-4f58-e17b-f75d0d0225d3"
   },
   "outputs": [
    {
     "name": "stderr",
     "output_type": "stream",
     "text": [
      "<ipython-input-18-d3d5a5ded0a0>:1: UserWarning: \n",
      "\n",
      "`distplot` is a deprecated function and will be removed in seaborn v0.14.0.\n",
      "\n",
      "Please adapt your code to use either `displot` (a figure-level function with\n",
      "similar flexibility) or `histplot` (an axes-level function for histograms).\n",
      "\n",
      "For a guide to updating your code to use the new functions, please see\n",
      "https://gist.github.com/mwaskom/de44147ed2974457ad6372750bbe5751\n",
      "\n",
      "  sns.distplot(pd_common.loc[index_label]['common_len']).set(title = \"Distribution of common words' length between a pair of node\")\n"
     ]
    },
    {
     "data": {
      "text/plain": [
       "[Text(0.5, 1.0, \"Distribution of common words' length between a pair of node\")]"
      ]
     },
     "execution_count": 18,
     "metadata": {},
     "output_type": "execute_result"
    },
    {
     "data": {
      "image/png": "[encoded data removed]",
      "text/plain": [
       "<Figure size 640x480 with 1 Axes>"
      ]
     },
     "metadata": {},
     "output_type": "display_data"
    }
   ],
   "source": [
    "sns.distplot(pd_common.loc[index_label]['common_len']).set(title = \"Distribution of common words' length between a pair of node\")"
   ]
  },
  {
   "cell_type": "markdown",
   "metadata": {
    "id": "zKN29ni8JWyJ"
   },
   "source": [
    "Basic insight"
   ]
  },
  {
   "cell_type": "code",
   "execution_count": 19,
   "metadata": {
    "colab": {
     "base_uri": "https://localhost:8080/"
    },
    "executionInfo": {
     "elapsed": 392,
     "status": "ok",
     "timestamp": 1688072850183,
     "user": {
      "displayName": "Anh Trần Hoàng",
      "userId": "03160318258477081697"
     },
     "user_tz": -420
    },
    "id": "WGhI7M4yI-sE",
    "outputId": "c8955d0a-42dd-4c52-e69e-c5d30cdb640e"
   },
   "outputs": [
    {
     "data": {
      "text/plain": [
       "count    435843.000000\n",
       "mean         16.801713\n",
       "std          10.929580\n",
       "min           1.000000\n",
       "25%          10.000000\n",
       "50%          14.000000\n",
       "75%          20.000000\n",
       "max         492.000000\n",
       "Name: common_len, dtype: float64"
      ]
     },
     "execution_count": 19,
     "metadata": {},
     "output_type": "execute_result"
    }
   ],
   "source": [
    "pd_common.loc[index_label]['common_len'].describe()"
   ]
  },
  {
   "cell_type": "markdown",
   "metadata": {
    "id": "c_K9H5OIdsQX"
   },
   "source": [
    "### Weighted common words between a pair of node"
   ]
  },
  {
   "cell_type": "code",
   "execution_count": null,
   "metadata": {
    "colab": {
     "base_uri": "https://localhost:8080/"
    },
    "executionInfo": {
     "elapsed": 3161751,
     "status": "ok",
     "timestamp": 1684057526150,
     "user": {
      "displayName": "Anh Trần Hoàng",
      "userId": "03160318258477081697"
     },
     "user_tz": -420
    },
    "id": "vtnr3HuBJlA6",
    "outputId": "71ddc3ce-1227-40db-e173-fe24f77ceaaf"
   },
   "outputs": [
    {
     "name": "stderr",
     "output_type": "stream",
     "text": [
      "100%|██████████| 948232/948232 [52:41<00:00, 299.95it/s]\n"
     ]
    }
   ],
   "source": [
    "list_weighted_common = []\n",
    "for idx in tqdm(range(len(train))):\n",
    "  sen1, sen2 = get_sentence_pair(idx, train, nodes)\n",
    "\n",
    "  t1 = get_weighted_vocab(sen1, True)\n",
    "  t2 = get_weighted_vocab(sen2, True)\n",
    "\n",
    "  common_weighted = weighted_common(t1, t2)\n",
    "  list_weighted_common.append(common_weighted)"
   ]
  },
  {
   "cell_type": "code",
   "execution_count": null,
   "metadata": {
    "id": "DRTx1bkYb-CC"
   },
   "outputs": [],
   "source": [
    "import json\n",
    "with open('/content/drive/MyDrive/Code/DSAA/weighted_common.json', 'w') as fout:\n",
    "    json.dump(list_weighted_common, fout)"
   ]
  },
  {
   "cell_type": "markdown",
   "metadata": {
    "id": "CHDZ1A0-8dcM"
   },
   "source": [
    "Calculate mean of weight"
   ]
  },
  {
   "cell_type": "code",
   "execution_count": null,
   "metadata": {
    "id": "4u4UdqDy67jM"
   },
   "outputs": [],
   "source": [
    "list_mean_weight = []\n",
    "for vocab in list_weighted_common:\n",
    "  list_mean_weight.append(mean_weight(vocab))"
   ]
  },
  {
   "cell_type": "code",
   "execution_count": null,
   "metadata": {
    "colab": {
     "base_uri": "https://localhost:8080/",
     "height": 423
    },
    "executionInfo": {
     "elapsed": 489,
     "status": "ok",
     "timestamp": 1684070879518,
     "user": {
      "displayName": "Anh Trần Hoàng",
      "userId": "03160318258477081697"
     },
     "user_tz": -420
    },
    "id": "90hpBxbPcgmY",
    "outputId": "30e690cf-7db0-4c36-eea0-90fe88a70c8c"
   },
   "outputs": [
    {
     "data": {
      "text/html": [
       "\n",
       "  <div id=\"df-2354d7c9-88fa-4979-8aa4-bae07279f456\">\n",
       "    <div class=\"colab-df-container\">\n",
       "      <div>\n",
       "<style scoped>\n",
       "    .dataframe tbody tr th:only-of-type {\n",
       "        vertical-align: middle;\n",
       "    }\n",
       "\n",
       "    .dataframe tbody tr th {\n",
       "        vertical-align: top;\n",
       "    }\n",
       "\n",
       "    .dataframe thead th {\n",
       "        text-align: right;\n",
       "    }\n",
       "</style>\n",
       "<table border=\"1\" class=\"dataframe\">\n",
       "  <thead>\n",
       "    <tr style=\"text-align: right;\">\n",
       "      <th></th>\n",
       "      <th>0</th>\n",
       "    </tr>\n",
       "  </thead>\n",
       "  <tbody>\n",
       "    <tr>\n",
       "      <th>0</th>\n",
       "      <td>4.260870</td>\n",
       "    </tr>\n",
       "    <tr>\n",
       "      <th>2</th>\n",
       "      <td>2.571429</td>\n",
       "    </tr>\n",
       "    <tr>\n",
       "      <th>8</th>\n",
       "      <td>10.529412</td>\n",
       "    </tr>\n",
       "    <tr>\n",
       "      <th>13</th>\n",
       "      <td>6.000000</td>\n",
       "    </tr>\n",
       "    <tr>\n",
       "      <th>14</th>\n",
       "      <td>5.000000</td>\n",
       "    </tr>\n",
       "    <tr>\n",
       "      <th>...</th>\n",
       "      <td>...</td>\n",
       "    </tr>\n",
       "    <tr>\n",
       "      <th>948220</th>\n",
       "      <td>3.055556</td>\n",
       "    </tr>\n",
       "    <tr>\n",
       "      <th>948221</th>\n",
       "      <td>3.692308</td>\n",
       "    </tr>\n",
       "    <tr>\n",
       "      <th>948222</th>\n",
       "      <td>5.823529</td>\n",
       "    </tr>\n",
       "    <tr>\n",
       "      <th>948225</th>\n",
       "      <td>6.000000</td>\n",
       "    </tr>\n",
       "    <tr>\n",
       "      <th>948227</th>\n",
       "      <td>4.875000</td>\n",
       "    </tr>\n",
       "  </tbody>\n",
       "</table>\n",
       "<p>435843 rows × 1 columns</p>\n",
       "</div>\n",
       "      <button class=\"colab-df-convert\" onclick=\"convertToInteractive('df-2354d7c9-88fa-4979-8aa4-bae07279f456')\"\n",
       "              title=\"Convert this dataframe to an interactive table.\"\n",
       "              style=\"display:none;\">\n",
       "        \n",
       "  <svg xmlns=\"http://www.w3.org/2000/svg\" height=\"24px\"viewBox=\"0 0 24 24\"\n",
       "       width=\"24px\">\n",
       "    <path d=\"M0 0h24v24H0V0z\" fill=\"none\"/>\n",
       "    <path d=\"M18.56 5.44l.94 2.06.94-2.06 2.06-.94-2.06-.94-.94-2.06-.94 2.06-2.06.94zm-11 1L8.5 8.5l.94-2.06 2.06-.94-2.06-.94L8.5 2.5l-.94 2.06-2.06.94zm10 10l.94 2.06.94-2.06 2.06-.94-2.06-.94-.94-2.06-.94 2.06-2.06.94z\"/><path d=\"M17.41 7.96l-1.37-1.37c-.4-.4-.92-.59-1.43-.59-.52 0-1.04.2-1.43.59L10.3 9.45l-7.72 7.72c-.78.78-.78 2.05 0 2.83L4 21.41c.39.39.9.59 1.41.59.51 0 1.02-.2 1.41-.59l7.78-7.78 2.81-2.81c.8-.78.8-2.07 0-2.86zM5.41 20L4 18.59l7.72-7.72 1.47 1.35L5.41 20z\"/>\n",
       "  </svg>\n",
       "      </button>\n",
       "      \n",
       "  <style>\n",
       "    .colab-df-container {\n",
       "      display:flex;\n",
       "      flex-wrap:wrap;\n",
       "      gap: 12px;\n",
       "    }\n",
       "\n",
       "    .colab-df-convert {\n",
       "      background-color: #E8F0FE;\n",
       "      border: none;\n",
       "      border-radius: 50%;\n",
       "      cursor: pointer;\n",
       "      display: none;\n",
       "      fill: #1967D2;\n",
       "      height: 32px;\n",
       "      padding: 0 0 0 0;\n",
       "      width: 32px;\n",
       "    }\n",
       "\n",
       "    .colab-df-convert:hover {\n",
       "      background-color: #E2EBFA;\n",
       "      box-shadow: 0px 1px 2px rgba(60, 64, 67, 0.3), 0px 1px 3px 1px rgba(60, 64, 67, 0.15);\n",
       "      fill: #174EA6;\n",
       "    }\n",
       "\n",
       "    [theme=dark] .colab-df-convert {\n",
       "      background-color: #3B4455;\n",
       "      fill: #D2E3FC;\n",
       "    }\n",
       "\n",
       "    [theme=dark] .colab-df-convert:hover {\n",
       "      background-color: #434B5C;\n",
       "      box-shadow: 0px 1px 3px 1px rgba(0, 0, 0, 0.15);\n",
       "      filter: drop-shadow(0px 1px 2px rgba(0, 0, 0, 0.3));\n",
       "      fill: #FFFFFF;\n",
       "    }\n",
       "  </style>\n",
       "\n",
       "      <script>\n",
       "        const buttonEl =\n",
       "          document.querySelector('#df-2354d7c9-88fa-4979-8aa4-bae07279f456 button.colab-df-convert');\n",
       "        buttonEl.style.display =\n",
       "          google.colab.kernel.accessAllowed ? 'block' : 'none';\n",
       "\n",
       "        async function convertToInteractive(key) {\n",
       "          const element = document.querySelector('#df-2354d7c9-88fa-4979-8aa4-bae07279f456');\n",
       "          const dataTable =\n",
       "            await google.colab.kernel.invokeFunction('convertToInteractive',\n",
       "                                                     [key], {});\n",
       "          if (!dataTable) return;\n",
       "\n",
       "          const docLinkHtml = 'Like what you see? Visit the ' +\n",
       "            '<a target=\"_blank\" href=https://colab.research.google.com/notebooks/data_table.ipynb>data table notebook</a>'\n",
       "            + ' to learn more about interactive tables.';\n",
       "          element.innerHTML = '';\n",
       "          dataTable['output_type'] = 'display_data';\n",
       "          await google.colab.output.renderOutput(dataTable, element);\n",
       "          const docLink = document.createElement('div');\n",
       "          docLink.innerHTML = docLinkHtml;\n",
       "          element.appendChild(docLink);\n",
       "        }\n",
       "      </script>\n",
       "    </div>\n",
       "  </div>\n",
       "  "
      ],
      "text/plain": [
       "                0\n",
       "0        4.260870\n",
       "2        2.571429\n",
       "8       10.529412\n",
       "13       6.000000\n",
       "14       5.000000\n",
       "...           ...\n",
       "948220   3.055556\n",
       "948221   3.692308\n",
       "948222   5.823529\n",
       "948225   6.000000\n",
       "948227   4.875000\n",
       "\n",
       "[435843 rows x 1 columns]"
      ]
     },
     "execution_count": 108,
     "metadata": {},
     "output_type": "execute_result"
    }
   ],
   "source": [
    "pd.DataFrame(list_mean_weight).loc[index_label]"
   ]
  },
  {
   "cell_type": "code",
   "execution_count": null,
   "metadata": {
    "colab": {
     "base_uri": "https://localhost:8080/",
     "height": 691
    },
    "executionInfo": {
     "elapsed": 2415,
     "status": "ok",
     "timestamp": 1684070896871,
     "user": {
      "displayName": "Anh Trần Hoàng",
      "userId": "03160318258477081697"
     },
     "user_tz": -420
    },
    "id": "3g79Vq4k7PLp",
    "outputId": "594f27d8-24e4-4766-870c-6b464222d0ce"
   },
   "outputs": [
    {
     "name": "stderr",
     "output_type": "stream",
     "text": [
      "<ipython-input-109-e0ce3ae2458c>:1: UserWarning: \n",
      "\n",
      "`distplot` is a deprecated function and will be removed in seaborn v0.14.0.\n",
      "\n",
      "Please adapt your code to use either `displot` (a figure-level function with\n",
      "similar flexibility) or `histplot` (an axes-level function for histograms).\n",
      "\n",
      "For a guide to updating your code to use the new functions, please see\n",
      "https://gist.github.com/mwaskom/de44147ed2974457ad6372750bbe5751\n",
      "\n",
      "  sns.distplot(pd.DataFrame(list_mean_weight).loc[index_label]).set(title = \"Distribution of mean weight from common words between a pair of node\")\n"
     ]
    },
    {
     "data": {
      "text/plain": [
       "[Text(0.5, 1.0, 'Distribution of mean weight from common words between a pair of node')]"
      ]
     },
     "execution_count": 109,
     "metadata": {},
     "output_type": "execute_result"
    },
    {
     "data": {
      "image/png": "[encoded data removed]",
      "text/plain": [
       "<Figure size 640x480 with 1 Axes>"
      ]
     },
     "metadata": {},
     "output_type": "display_data"
    }
   ],
   "source": [
    "sns.distplot(pd.DataFrame(list_mean_weight).loc[index_label]).set(title = \"Distribution of mean weight from common words between a pair of node\")"
   ]
  },
  {
   "cell_type": "markdown",
   "metadata": {
    "id": "Dmhm-kzn8F2s"
   },
   "source": [
    "Basic insight"
   ]
  },
  {
   "cell_type": "code",
   "execution_count": null,
   "metadata": {
    "colab": {
     "base_uri": "https://localhost:8080/",
     "height": 300
    },
    "executionInfo": {
     "elapsed": 4,
     "status": "ok",
     "timestamp": 1684070905578,
     "user": {
      "displayName": "Anh Trần Hoàng",
      "userId": "03160318258477081697"
     },
     "user_tz": -420
    },
    "id": "ajFNyGya76PL",
    "outputId": "1c0ade9d-7e85-4c7c-8604-3d7c456a6f53"
   },
   "outputs": [
    {
     "data": {
      "text/html": [
       "\n",
       "  <div id=\"df-9738c605-c3e6-4ece-b9c6-c26933f53401\">\n",
       "    <div class=\"colab-df-container\">\n",
       "      <div>\n",
       "<style scoped>\n",
       "    .dataframe tbody tr th:only-of-type {\n",
       "        vertical-align: middle;\n",
       "    }\n",
       "\n",
       "    .dataframe tbody tr th {\n",
       "        vertical-align: top;\n",
       "    }\n",
       "\n",
       "    .dataframe thead th {\n",
       "        text-align: right;\n",
       "    }\n",
       "</style>\n",
       "<table border=\"1\" class=\"dataframe\">\n",
       "  <thead>\n",
       "    <tr style=\"text-align: right;\">\n",
       "      <th></th>\n",
       "      <th>0</th>\n",
       "    </tr>\n",
       "  </thead>\n",
       "  <tbody>\n",
       "    <tr>\n",
       "      <th>count</th>\n",
       "      <td>435843.000000</td>\n",
       "    </tr>\n",
       "    <tr>\n",
       "      <th>mean</th>\n",
       "      <td>5.940068</td>\n",
       "    </tr>\n",
       "    <tr>\n",
       "      <th>std</th>\n",
       "      <td>3.593831</td>\n",
       "    </tr>\n",
       "    <tr>\n",
       "      <th>min</th>\n",
       "      <td>0.000000</td>\n",
       "    </tr>\n",
       "    <tr>\n",
       "      <th>25%</th>\n",
       "      <td>3.800000</td>\n",
       "    </tr>\n",
       "    <tr>\n",
       "      <th>50%</th>\n",
       "      <td>5.000000</td>\n",
       "    </tr>\n",
       "    <tr>\n",
       "      <th>75%</th>\n",
       "      <td>7.000000</td>\n",
       "    </tr>\n",
       "    <tr>\n",
       "      <th>max</th>\n",
       "      <td>263.333333</td>\n",
       "    </tr>\n",
       "  </tbody>\n",
       "</table>\n",
       "</div>\n",
       "      <button class=\"colab-df-convert\" onclick=\"convertToInteractive('df-9738c605-c3e6-4ece-b9c6-c26933f53401')\"\n",
       "              title=\"Convert this dataframe to an interactive table.\"\n",
       "              style=\"display:none;\">\n",
       "        \n",
       "  <svg xmlns=\"http://www.w3.org/2000/svg\" height=\"24px\"viewBox=\"0 0 24 24\"\n",
       "       width=\"24px\">\n",
       "    <path d=\"M0 0h24v24H0V0z\" fill=\"none\"/>\n",
       "    <path d=\"M18.56 5.44l.94 2.06.94-2.06 2.06-.94-2.06-.94-.94-2.06-.94 2.06-2.06.94zm-11 1L8.5 8.5l.94-2.06 2.06-.94-2.06-.94L8.5 2.5l-.94 2.06-2.06.94zm10 10l.94 2.06.94-2.06 2.06-.94-2.06-.94-.94-2.06-.94 2.06-2.06.94z\"/><path d=\"M17.41 7.96l-1.37-1.37c-.4-.4-.92-.59-1.43-.59-.52 0-1.04.2-1.43.59L10.3 9.45l-7.72 7.72c-.78.78-.78 2.05 0 2.83L4 21.41c.39.39.9.59 1.41.59.51 0 1.02-.2 1.41-.59l7.78-7.78 2.81-2.81c.8-.78.8-2.07 0-2.86zM5.41 20L4 18.59l7.72-7.72 1.47 1.35L5.41 20z\"/>\n",
       "  </svg>\n",
       "      </button>\n",
       "      \n",
       "  <style>\n",
       "    .colab-df-container {\n",
       "      display:flex;\n",
       "      flex-wrap:wrap;\n",
       "      gap: 12px;\n",
       "    }\n",
       "\n",
       "    .colab-df-convert {\n",
       "      background-color: #E8F0FE;\n",
       "      border: none;\n",
       "      border-radius: 50%;\n",
       "      cursor: pointer;\n",
       "      display: none;\n",
       "      fill: #1967D2;\n",
       "      height: 32px;\n",
       "      padding: 0 0 0 0;\n",
       "      width: 32px;\n",
       "    }\n",
       "\n",
       "    .colab-df-convert:hover {\n",
       "      background-color: #E2EBFA;\n",
       "      box-shadow: 0px 1px 2px rgba(60, 64, 67, 0.3), 0px 1px 3px 1px rgba(60, 64, 67, 0.15);\n",
       "      fill: #174EA6;\n",
       "    }\n",
       "\n",
       "    [theme=dark] .colab-df-convert {\n",
       "      background-color: #3B4455;\n",
       "      fill: #D2E3FC;\n",
       "    }\n",
       "\n",
       "    [theme=dark] .colab-df-convert:hover {\n",
       "      background-color: #434B5C;\n",
       "      box-shadow: 0px 1px 3px 1px rgba(0, 0, 0, 0.15);\n",
       "      filter: drop-shadow(0px 1px 2px rgba(0, 0, 0, 0.3));\n",
       "      fill: #FFFFFF;\n",
       "    }\n",
       "  </style>\n",
       "\n",
       "      <script>\n",
       "        const buttonEl =\n",
       "          document.querySelector('#df-9738c605-c3e6-4ece-b9c6-c26933f53401 button.colab-df-convert');\n",
       "        buttonEl.style.display =\n",
       "          google.colab.kernel.accessAllowed ? 'block' : 'none';\n",
       "\n",
       "        async function convertToInteractive(key) {\n",
       "          const element = document.querySelector('#df-9738c605-c3e6-4ece-b9c6-c26933f53401');\n",
       "          const dataTable =\n",
       "            await google.colab.kernel.invokeFunction('convertToInteractive',\n",
       "                                                     [key], {});\n",
       "          if (!dataTable) return;\n",
       "\n",
       "          const docLinkHtml = 'Like what you see? Visit the ' +\n",
       "            '<a target=\"_blank\" href=https://colab.research.google.com/notebooks/data_table.ipynb>data table notebook</a>'\n",
       "            + ' to learn more about interactive tables.';\n",
       "          element.innerHTML = '';\n",
       "          dataTable['output_type'] = 'display_data';\n",
       "          await google.colab.output.renderOutput(dataTable, element);\n",
       "          const docLink = document.createElement('div');\n",
       "          docLink.innerHTML = docLinkHtml;\n",
       "          element.appendChild(docLink);\n",
       "        }\n",
       "      </script>\n",
       "    </div>\n",
       "  </div>\n",
       "  "
      ],
      "text/plain": [
       "                   0\n",
       "count  435843.000000\n",
       "mean        5.940068\n",
       "std         3.593831\n",
       "min         0.000000\n",
       "25%         3.800000\n",
       "50%         5.000000\n",
       "75%         7.000000\n",
       "max       263.333333"
      ]
     },
     "execution_count": 110,
     "metadata": {},
     "output_type": "execute_result"
    }
   ],
   "source": [
    "pd.DataFrame(list_mean_weight).loc[index_label].describe()"
   ]
  },
  {
   "cell_type": "markdown",
   "metadata": {
    "id": "TzqfDBsrowxi"
   },
   "source": [
    "## POS_TAG"
   ]
  },
  {
   "cell_type": "markdown",
   "metadata": {
    "id": "VCgtygUpnkfb"
   },
   "source": [
    "Make weighted common postag without a pre-postagging </br>\n",
    "Could crash the session"
   ]
  },
  {
   "cell_type": "markdown",
   "metadata": {
    "id": "pWwTQIpw6jxl"
   },
   "source": [
    "### Calculate number of common postag' appearance (weighted) of a pair of node in trainset"
   ]
  },
  {
   "cell_type": "code",
   "execution_count": null,
   "metadata": {
    "colab": {
     "base_uri": "https://localhost:8080/"
    },
    "id": "631qvNikTlc2",
    "outputId": "771976ae-657a-411f-8253-52c9e92c30d7"
   },
   "outputs": [
    {
     "name": "stderr",
     "output_type": "stream",
     "text": [
      " 29%|██▉       | 277906/948232 [1:14:23<3:54:40, 47.61it/s]"
     ]
    }
   ],
   "source": [
    "list_weighted_common_pos = []\n",
    "for idx in tqdm(range(len(train))):\n",
    "  sen1, sen2 = get_sentence_pair(idx, train, nodes)\n",
    "  p1 = postagging(clean_data(sen1), type = \"nltk\")\n",
    "  p2 = postagging(clean_data(sen2), type = \"nltk\")\n",
    "  try:\n",
    "    t1 = get_weighted_vocab(np.array(p1).T[1], True)\n",
    "    t2 = get_weighted_vocab(np.array(p2).T[1], True)\n",
    "  except:\n",
    "    t1 = {}\n",
    "    t2 = {}\n",
    "  common_weighted = weighted_common(t1, t2)\n",
    "  list_weighted_common_pos.append(common_weighted)"
   ]
  },
  {
   "cell_type": "code",
   "execution_count": null,
   "metadata": {
    "id": "FnXSwRLIdjcJ"
   },
   "outputs": [],
   "source": [
    "del nodes"
   ]
  },
  {
   "cell_type": "code",
   "execution_count": null,
   "metadata": {
    "id": "wlVK4w5hVpQH"
   },
   "outputs": [],
   "source": [
    "# Save\n",
    "import json\n",
    "with open('/content/drive/MyDrive/Code/DSAA/weighted_common_pos_Tam.json', 'w') as fout:\n",
    "    json.dump(list_weighted_common_pos, fout)"
   ]
  },
  {
   "cell_type": "code",
   "execution_count": null,
   "metadata": {
    "id": "VsEDfQXHrrfd"
   },
   "outputs": [],
   "source": [
    "# Load\n",
    "import json\n",
    "\n",
    "# f = open('/content/drive/MyDrive/Code/DSAA/clean_weighted_common_pos.json')\n",
    "f = open('/content/drive/MyDrive/Code/DSAA/weighted_common_pos.json')\n",
    "list_weighted_common_pos = json.load(f)"
   ]
  },
  {
   "cell_type": "code",
   "execution_count": null,
   "metadata": {
    "colab": {
     "base_uri": "https://localhost:8080/"
    },
    "executionInfo": {
     "elapsed": 1170,
     "status": "ok",
     "timestamp": 1684741028881,
     "user": {
      "displayName": "Anh Trần Hoàng",
      "userId": "03160318258477081697"
     },
     "user_tz": -420
    },
    "id": "f9YsBXns1bmd",
    "outputId": "f63d974c-de2a-4599-9007-44af9d482dd7"
   },
   "outputs": [
    {
     "data": {
      "text/plain": [
       "948232"
      ]
     },
     "execution_count": 10,
     "metadata": {},
     "output_type": "execute_result"
    }
   ],
   "source": [
    "len(list_weighted_common_pos)"
   ]
  },
  {
   "cell_type": "code",
   "execution_count": null,
   "metadata": {
    "colab": {
     "base_uri": "https://localhost:8080/"
    },
    "executionInfo": {
     "elapsed": 505,
     "status": "ok",
     "timestamp": 1684584197236,
     "user": {
      "displayName": "Anh Trần Hoàng",
      "userId": "03160318258477081697"
     },
     "user_tz": -420
    },
    "id": "VgsM3-5rCqal",
    "outputId": "b4ae45af-4079-47f2-969c-973a25377956"
   },
   "outputs": [
    {
     "data": {
      "text/plain": [
       "{'NN': 46,\n",
       " 'IN': 12,\n",
       " ':': 6,\n",
       " '(': 4,\n",
       " 'JJ': 20,\n",
       " ')': 4,\n",
       " 'FW': 4,\n",
       " 'VBZ': 2,\n",
       " 'DT': 6,\n",
       " 'CC': 2,\n",
       " 'NNS': 2,\n",
       " ',': 8}"
      ]
     },
     "execution_count": 11,
     "metadata": {},
     "output_type": "execute_result"
    }
   ],
   "source": [
    "list_weighted_common_pos[0]"
   ]
  },
  {
   "cell_type": "markdown",
   "metadata": {
    "id": "iUSDfJZX5ZkM"
   },
   "source": [
    "### Number of common postag's appearance (not weighted) for the whole trainset"
   ]
  },
  {
   "cell_type": "code",
   "execution_count": null,
   "metadata": {
    "colab": {
     "base_uri": "https://localhost:8080/"
    },
    "executionInfo": {
     "elapsed": 7549,
     "status": "ok",
     "timestamp": 1684760714104,
     "user": {
      "displayName": "Anh Trần Hoàng",
      "userId": "03160318258477081697"
     },
     "user_tz": -420
    },
    "id": "C9cI8WcusvjN",
    "outputId": "6b0b37b5-6467-416f-ce27-e909d5a89792"
   },
   "outputs": [
    {
     "name": "stderr",
     "output_type": "stream",
     "text": [
      "100%|██████████| 948232/948232 [00:07<00:00, 127467.08it/s]\n"
     ]
    }
   ],
   "source": [
    "list_contain_postag_label1 = []\n",
    "for i in tqdm(range(len(list_weighted_common_pos))):\n",
    "  if train['label'][i] == 1:\n",
    "    list_contain_postag_label1 += list(list_weighted_common_pos[i].keys())"
   ]
  },
  {
   "cell_type": "code",
   "execution_count": null,
   "metadata": {
    "id": "FsS4rKc47ut1"
   },
   "outputs": [],
   "source": [
    "postag = list(set(list_contain_postag_label1))"
   ]
  },
  {
   "cell_type": "code",
   "execution_count": null,
   "metadata": {
    "id": "7Ow9ThBkx2wf"
   },
   "outputs": [],
   "source": [
    "summarize_postag = [[postag[i], list_contain_postag_label1.count(postag[i])] for i in range(len(postag))]\n",
    "summarize_postag = pd.DataFrame(summarize_postag)\n",
    "summarize_postag.columns = [\"postag\", \"count\"]\n",
    "summarize_postag.sort_values('count', inplace = True)"
   ]
  },
  {
   "cell_type": "code",
   "execution_count": null,
   "metadata": {
    "colab": {
     "base_uri": "https://localhost:8080/",
     "height": 533
    },
    "executionInfo": {
     "elapsed": 1799,
     "status": "ok",
     "timestamp": 1684513612167,
     "user": {
      "displayName": "Anh Trần Hoàng",
      "userId": "03160318258477081697"
     },
     "user_tz": -420
    },
    "id": "CdGEY5CLxrSS",
    "outputId": "003c2ee5-6eb4-4bb2-8195-f363300b4eda"
   },
   "outputs": [
    {
     "data": {
      "text/plain": [
       "[Text(0.5, 1.0, \"Number of common postag's appearance (not weighted) for the whole trainset\")]"
      ]
     },
     "execution_count": 44,
     "metadata": {},
     "output_type": "execute_result"
    },
    {
     "data": {
      "image/png": "[encoded data removed]",
      "text/plain": [
       "<Figure size 640x480 with 1 Axes>"
      ]
     },
     "metadata": {},
     "output_type": "display_data"
    }
   ],
   "source": [
    "plot = sns.barplot(data = summarize_postag, x = 'postag', y= \"count\")\n",
    "plot.set_xticklabels(plot.get_xticklabels(), rotation=90)\n",
    "plot.set(title = \"Number of common postag's appearance (not weighted) for the whole trainset\")"
   ]
  },
  {
   "cell_type": "markdown",
   "metadata": {
    "id": "Xo1wzmcHCDVS"
   },
   "source": [
    "#### ------- Label 0"
   ]
  },
  {
   "cell_type": "code",
   "execution_count": null,
   "metadata": {
    "colab": {
     "base_uri": "https://localhost:8080/"
    },
    "executionInfo": {
     "elapsed": 8328,
     "status": "ok",
     "timestamp": 1684741058197,
     "user": {
      "displayName": "Anh Trần Hoàng",
      "userId": "03160318258477081697"
     },
     "user_tz": -420
    },
    "id": "7W5FKZv0CFp6",
    "outputId": "57529d92-ed1a-4fa8-f743-5166c3ce5a5d"
   },
   "outputs": [
    {
     "name": "stderr",
     "output_type": "stream",
     "text": [
      "100%|██████████| 948232/948232 [00:08<00:00, 118113.39it/s]\n"
     ]
    }
   ],
   "source": [
    "list_contain_postag_label0 = []\n",
    "for i in tqdm(range(len(list_weighted_common_pos))):\n",
    "  if train['label'][i] == 0:\n",
    "    list_contain_postag_label0 += list(list_weighted_common_pos[i].keys())"
   ]
  },
  {
   "cell_type": "code",
   "execution_count": null,
   "metadata": {
    "colab": {
     "base_uri": "https://localhost:8080/",
     "height": 500
    },
    "executionInfo": {
     "elapsed": 4214,
     "status": "ok",
     "timestamp": 1684741062397,
     "user": {
      "displayName": "Anh Trần Hoàng",
      "userId": "03160318258477081697"
     },
     "user_tz": -420
    },
    "id": "0b-nAU5-COuv",
    "outputId": "676faa75-c7c3-4d78-f488-593ce8aa8100"
   },
   "outputs": [
    {
     "data": {
      "text/plain": [
       "[Text(0.5, 1.0, \"Number of common postag's appearance (not weighted) for the whole trainset (Label 0)\")]"
      ]
     },
     "execution_count": 15,
     "metadata": {},
     "output_type": "execute_result"
    },
    {
     "data": {
      "image/png": "[encoded data removed]",
      "text/plain": [
       "<Figure size 640x480 with 1 Axes>"
      ]
     },
     "metadata": {},
     "output_type": "display_data"
    }
   ],
   "source": [
    "summarize_postag_0 = [[postag[i], list_contain_postag_label0.count(postag[i])] for i in range(len(postag))]\n",
    "summarize_postag_0 = pd.DataFrame(summarize_postag_0)\n",
    "summarize_postag_0.columns = [\"postag\", \"count\"]\n",
    "summarize_postag_0.sort_values('count', inplace = True)\n",
    "\n",
    "plot = sns.barplot(data = summarize_postag_0, x = 'postag', y= \"count\")\n",
    "plot.set_xticklabels(plot.get_xticklabels(), rotation=90)\n",
    "plot.set(title = \"Number of common postag's appearance (not weighted) for the whole trainset (Label 0)\")"
   ]
  },
  {
   "cell_type": "markdown",
   "metadata": {
    "id": "bIMzmlfw7KYf"
   },
   "source": [
    "### Number of common postag's appearance (weighted) for the whole trainset"
   ]
  },
  {
   "cell_type": "code",
   "execution_count": null,
   "metadata": {
    "id": "2pNgpCoK7w2Q"
   },
   "outputs": [],
   "source": [
    "postag = list(set(list_contain_postag_label1))"
   ]
  },
  {
   "cell_type": "code",
   "execution_count": null,
   "metadata": {
    "colab": {
     "base_uri": "https://localhost:8080/"
    },
    "executionInfo": {
     "elapsed": 10591,
     "status": "ok",
     "timestamp": 1684741072979,
     "user": {
      "displayName": "Anh Trần Hoàng",
      "userId": "03160318258477081697"
     },
     "user_tz": -420
    },
    "id": "Fc-npqp-739p",
    "outputId": "e98e5465-e55c-48d4-9108-34b5a34f548d"
   },
   "outputs": [
    {
     "name": "stderr",
     "output_type": "stream",
     "text": [
      "100%|██████████| 948231/948231 [00:10<00:00, 88684.18it/s] \n"
     ]
    }
   ],
   "source": [
    "dict_contain_weighted_postag_label1 = list_weighted_common_pos[0]\n",
    "for i in tqdm(range(1, len(list_weighted_common_pos))):\n",
    "  if train['label'][i] == 1:\n",
    "    dict_contain_weighted_postag_label1 = summarize_weighted(\\\n",
    "                                            dict_contain_weighted_postag_label1,\\\n",
    "                                            list_weighted_common_pos[i])"
   ]
  },
  {
   "cell_type": "code",
   "execution_count": null,
   "metadata": {
    "colab": {
     "base_uri": "https://localhost:8080/",
     "height": 895
    },
    "executionInfo": {
     "elapsed": 27,
     "status": "ok",
     "timestamp": 1684741072980,
     "user": {
      "displayName": "Anh Trần Hoàng",
      "userId": "03160318258477081697"
     },
     "user_tz": -420
    },
    "id": "6JGPs352-40h",
    "outputId": "8bbb810d-de30-4652-ca9f-9bdc1987460f"
   },
   "outputs": [
    {
     "data": {
      "text/html": [
       "\n",
       "  <div id=\"df-461fe60d-59d2-4d68-ad5a-5bc40202b7c8\">\n",
       "    <div class=\"colab-df-container\">\n",
       "      <div>\n",
       "<style scoped>\n",
       "    .dataframe tbody tr th:only-of-type {\n",
       "        vertical-align: middle;\n",
       "    }\n",
       "\n",
       "    .dataframe tbody tr th {\n",
       "        vertical-align: top;\n",
       "    }\n",
       "\n",
       "    .dataframe thead th {\n",
       "        text-align: right;\n",
       "    }\n",
       "</style>\n",
       "<table border=\"1\" class=\"dataframe\">\n",
       "  <thead>\n",
       "    <tr style=\"text-align: right;\">\n",
       "      <th></th>\n",
       "      <th>postag</th>\n",
       "      <th>count</th>\n",
       "    </tr>\n",
       "  </thead>\n",
       "  <tbody>\n",
       "    <tr>\n",
       "      <th>14</th>\n",
       "      <td>EX</td>\n",
       "      <td>524</td>\n",
       "    </tr>\n",
       "    <tr>\n",
       "      <th>15</th>\n",
       "      <td>RBR</td>\n",
       "      <td>860</td>\n",
       "    </tr>\n",
       "    <tr>\n",
       "      <th>23</th>\n",
       "      <td>PDT</td>\n",
       "      <td>1417</td>\n",
       "    </tr>\n",
       "    <tr>\n",
       "      <th>16</th>\n",
       "      <td>JJR</td>\n",
       "      <td>4462</td>\n",
       "    </tr>\n",
       "    <tr>\n",
       "      <th>25</th>\n",
       "      <td>RBS</td>\n",
       "      <td>5096</td>\n",
       "    </tr>\n",
       "    <tr>\n",
       "      <th>17</th>\n",
       "      <td>JJS</td>\n",
       "      <td>8509</td>\n",
       "    </tr>\n",
       "    <tr>\n",
       "      <th>21</th>\n",
       "      <td>MD</td>\n",
       "      <td>17626</td>\n",
       "    </tr>\n",
       "    <tr>\n",
       "      <th>22</th>\n",
       "      <td>WRB</td>\n",
       "      <td>18571</td>\n",
       "    </tr>\n",
       "    <tr>\n",
       "      <th>26</th>\n",
       "      <td>WP</td>\n",
       "      <td>23926</td>\n",
       "    </tr>\n",
       "    <tr>\n",
       "      <th>8</th>\n",
       "      <td>WDT</td>\n",
       "      <td>104026</td>\n",
       "    </tr>\n",
       "    <tr>\n",
       "      <th>13</th>\n",
       "      <td>PRP$</td>\n",
       "      <td>171483</td>\n",
       "    </tr>\n",
       "    <tr>\n",
       "      <th>20</th>\n",
       "      <td>PRP</td>\n",
       "      <td>686324</td>\n",
       "    </tr>\n",
       "    <tr>\n",
       "      <th>7</th>\n",
       "      <td>TO</td>\n",
       "      <td>751888</td>\n",
       "    </tr>\n",
       "    <tr>\n",
       "      <th>3</th>\n",
       "      <td>VBG</td>\n",
       "      <td>821278</td>\n",
       "    </tr>\n",
       "    <tr>\n",
       "      <th>19</th>\n",
       "      <td>VB</td>\n",
       "      <td>874259</td>\n",
       "    </tr>\n",
       "    <tr>\n",
       "      <th>11</th>\n",
       "      <td>RB</td>\n",
       "      <td>1781827</td>\n",
       "    </tr>\n",
       "    <tr>\n",
       "      <th>5</th>\n",
       "      <td>CC</td>\n",
       "      <td>2327962</td>\n",
       "    </tr>\n",
       "    <tr>\n",
       "      <th>9</th>\n",
       "      <td>VBN</td>\n",
       "      <td>2367533</td>\n",
       "    </tr>\n",
       "    <tr>\n",
       "      <th>12</th>\n",
       "      <td>VBP</td>\n",
       "      <td>2405590</td>\n",
       "    </tr>\n",
       "    <tr>\n",
       "      <th>2</th>\n",
       "      <td>VBZ</td>\n",
       "      <td>2859889</td>\n",
       "    </tr>\n",
       "    <tr>\n",
       "      <th>24</th>\n",
       "      <td>VBD</td>\n",
       "      <td>3263877</td>\n",
       "    </tr>\n",
       "    <tr>\n",
       "      <th>4</th>\n",
       "      <td>NNS</td>\n",
       "      <td>8703753</td>\n",
       "    </tr>\n",
       "    <tr>\n",
       "      <th>18</th>\n",
       "      <td>CD</td>\n",
       "      <td>9261089</td>\n",
       "    </tr>\n",
       "    <tr>\n",
       "      <th>6</th>\n",
       "      <td>DT</td>\n",
       "      <td>10174090</td>\n",
       "    </tr>\n",
       "    <tr>\n",
       "      <th>10</th>\n",
       "      <td>IN</td>\n",
       "      <td>14400212</td>\n",
       "    </tr>\n",
       "    <tr>\n",
       "      <th>0</th>\n",
       "      <td>JJ</td>\n",
       "      <td>19947787</td>\n",
       "    </tr>\n",
       "    <tr>\n",
       "      <th>1</th>\n",
       "      <td>NN</td>\n",
       "      <td>54274997</td>\n",
       "    </tr>\n",
       "  </tbody>\n",
       "</table>\n",
       "</div>\n",
       "      <button class=\"colab-df-convert\" onclick=\"convertToInteractive('df-461fe60d-59d2-4d68-ad5a-5bc40202b7c8')\"\n",
       "              title=\"Convert this dataframe to an interactive table.\"\n",
       "              style=\"display:none;\">\n",
       "        \n",
       "  <svg xmlns=\"http://www.w3.org/2000/svg\" height=\"24px\"viewBox=\"0 0 24 24\"\n",
       "       width=\"24px\">\n",
       "    <path d=\"M0 0h24v24H0V0z\" fill=\"none\"/>\n",
       "    <path d=\"M18.56 5.44l.94 2.06.94-2.06 2.06-.94-2.06-.94-.94-2.06-.94 2.06-2.06.94zm-11 1L8.5 8.5l.94-2.06 2.06-.94-2.06-.94L8.5 2.5l-.94 2.06-2.06.94zm10 10l.94 2.06.94-2.06 2.06-.94-2.06-.94-.94-2.06-.94 2.06-2.06.94z\"/><path d=\"M17.41 7.96l-1.37-1.37c-.4-.4-.92-.59-1.43-.59-.52 0-1.04.2-1.43.59L10.3 9.45l-7.72 7.72c-.78.78-.78 2.05 0 2.83L4 21.41c.39.39.9.59 1.41.59.51 0 1.02-.2 1.41-.59l7.78-7.78 2.81-2.81c.8-.78.8-2.07 0-2.86zM5.41 20L4 18.59l7.72-7.72 1.47 1.35L5.41 20z\"/>\n",
       "  </svg>\n",
       "      </button>\n",
       "      \n",
       "  <style>\n",
       "    .colab-df-container {\n",
       "      display:flex;\n",
       "      flex-wrap:wrap;\n",
       "      gap: 12px;\n",
       "    }\n",
       "\n",
       "    .colab-df-convert {\n",
       "      background-color: #E8F0FE;\n",
       "      border: none;\n",
       "      border-radius: 50%;\n",
       "      cursor: pointer;\n",
       "      display: none;\n",
       "      fill: #1967D2;\n",
       "      height: 32px;\n",
       "      padding: 0 0 0 0;\n",
       "      width: 32px;\n",
       "    }\n",
       "\n",
       "    .colab-df-convert:hover {\n",
       "      background-color: #E2EBFA;\n",
       "      box-shadow: 0px 1px 2px rgba(60, 64, 67, 0.3), 0px 1px 3px 1px rgba(60, 64, 67, 0.15);\n",
       "      fill: #174EA6;\n",
       "    }\n",
       "\n",
       "    [theme=dark] .colab-df-convert {\n",
       "      background-color: #3B4455;\n",
       "      fill: #D2E3FC;\n",
       "    }\n",
       "\n",
       "    [theme=dark] .colab-df-convert:hover {\n",
       "      background-color: #434B5C;\n",
       "      box-shadow: 0px 1px 3px 1px rgba(0, 0, 0, 0.15);\n",
       "      filter: drop-shadow(0px 1px 2px rgba(0, 0, 0, 0.3));\n",
       "      fill: #FFFFFF;\n",
       "    }\n",
       "  </style>\n",
       "\n",
       "      <script>\n",
       "        const buttonEl =\n",
       "          document.querySelector('#df-461fe60d-59d2-4d68-ad5a-5bc40202b7c8 button.colab-df-convert');\n",
       "        buttonEl.style.display =\n",
       "          google.colab.kernel.accessAllowed ? 'block' : 'none';\n",
       "\n",
       "        async function convertToInteractive(key) {\n",
       "          const element = document.querySelector('#df-461fe60d-59d2-4d68-ad5a-5bc40202b7c8');\n",
       "          const dataTable =\n",
       "            await google.colab.kernel.invokeFunction('convertToInteractive',\n",
       "                                                     [key], {});\n",
       "          if (!dataTable) return;\n",
       "\n",
       "          const docLinkHtml = 'Like what you see? Visit the ' +\n",
       "            '<a target=\"_blank\" href=https://colab.research.google.com/notebooks/data_table.ipynb>data table notebook</a>'\n",
       "            + ' to learn more about interactive tables.';\n",
       "          element.innerHTML = '';\n",
       "          dataTable['output_type'] = 'display_data';\n",
       "          await google.colab.output.renderOutput(dataTable, element);\n",
       "          const docLink = document.createElement('div');\n",
       "          docLink.innerHTML = docLinkHtml;\n",
       "          element.appendChild(docLink);\n",
       "        }\n",
       "      </script>\n",
       "    </div>\n",
       "  </div>\n",
       "  "
      ],
      "text/plain": [
       "   postag     count\n",
       "14     EX       524\n",
       "15    RBR       860\n",
       "23    PDT      1417\n",
       "16    JJR      4462\n",
       "25    RBS      5096\n",
       "17    JJS      8509\n",
       "21     MD     17626\n",
       "22    WRB     18571\n",
       "26     WP     23926\n",
       "8     WDT    104026\n",
       "13   PRP$    171483\n",
       "20    PRP    686324\n",
       "7      TO    751888\n",
       "3     VBG    821278\n",
       "19     VB    874259\n",
       "11     RB   1781827\n",
       "5      CC   2327962\n",
       "9     VBN   2367533\n",
       "12    VBP   2405590\n",
       "2     VBZ   2859889\n",
       "24    VBD   3263877\n",
       "4     NNS   8703753\n",
       "18     CD   9261089\n",
       "6      DT  10174090\n",
       "10     IN  14400212\n",
       "0      JJ  19947787\n",
       "1      NN  54274997"
      ]
     },
     "execution_count": 18,
     "metadata": {},
     "output_type": "execute_result"
    }
   ],
   "source": [
    "summarize_postag_weighted = pd.DataFrame(list(dict_contain_weighted_postag_label1.items()))\n",
    "summarize_postag_weighted.columns = [\"postag\", \"count\"]\n",
    "summarize_postag_weighted.sort_values('count', inplace = True)\n",
    "summarize_postag_weighted"
   ]
  },
  {
   "cell_type": "code",
   "execution_count": null,
   "metadata": {
    "colab": {
     "base_uri": "https://localhost:8080/",
     "height": 526
    },
    "executionInfo": {
     "elapsed": 655,
     "status": "ok",
     "timestamp": 1684518774014,
     "user": {
      "displayName": "Anh Trần Hoàng",
      "userId": "03160318258477081697"
     },
     "user_tz": -420
    },
    "id": "0LGbuqf__-4N",
    "outputId": "0ad06ea0-336e-4dea-cc17-caed9123e09d"
   },
   "outputs": [
    {
     "data": {
      "text/plain": [
       "[Text(0.5, 1.0, \"Number of common postag's appearance (weighted) for the whole trainset\")]"
      ]
     },
     "execution_count": 80,
     "metadata": {},
     "output_type": "execute_result"
    },
    {
     "data": {
      "image/png": "[encoded data removed]",
      "text/plain": [
       "<Figure size 640x480 with 1 Axes>"
      ]
     },
     "metadata": {},
     "output_type": "display_data"
    }
   ],
   "source": [
    "plot = sns.barplot(data = summarize_postag_weighted, x = 'postag', y= \"count\")\n",
    "plot.set_xticklabels(plot.get_xticklabels(), rotation=90)\n",
    "plot.set(title = \"Number of common postag's appearance (weighted) for the whole trainset\")"
   ]
  },
  {
   "cell_type": "markdown",
   "metadata": {
    "id": "ulnlYvWWBCeM"
   },
   "source": [
    "#### -------- Label 0"
   ]
  },
  {
   "cell_type": "code",
   "execution_count": null,
   "metadata": {
    "colab": {
     "base_uri": "https://localhost:8080/"
    },
    "executionInfo": {
     "elapsed": 6882,
     "status": "ok",
     "timestamp": 1684741079838,
     "user": {
      "displayName": "Anh Trần Hoàng",
      "userId": "03160318258477081697"
     },
     "user_tz": -420
    },
    "id": "8kZqZX7MBEXZ",
    "outputId": "6261e80f-285b-45f0-a57c-e78f13b345ba"
   },
   "outputs": [
    {
     "name": "stderr",
     "output_type": "stream",
     "text": [
      "100%|██████████| 948231/948231 [00:07<00:00, 132983.08it/s]\n"
     ]
    }
   ],
   "source": [
    "dict_contain_weighted_postag_label0 = list_weighted_common_pos[0]\n",
    "for i in tqdm(range(1, len(list_weighted_common_pos))):\n",
    "  if train['label'][i] == 0:\n",
    "    dict_contain_weighted_postag_label0 = summarize_weighted(\\\n",
    "                                            dict_contain_weighted_postag_label0,\\\n",
    "                                            list_weighted_common_pos[i])"
   ]
  },
  {
   "cell_type": "code",
   "execution_count": null,
   "metadata": {
    "colab": {
     "base_uri": "https://localhost:8080/",
     "height": 534
    },
    "executionInfo": {
     "elapsed": 909,
     "status": "ok",
     "timestamp": 1684741080727,
     "user": {
      "displayName": "Anh Trần Hoàng",
      "userId": "03160318258477081697"
     },
     "user_tz": -420
    },
    "id": "s4pjUQ6tBMwb",
    "outputId": "e8ca981f-f374-439c-93c9-fd950c8b128c"
   },
   "outputs": [
    {
     "data": {
      "text/plain": [
       "[Text(0.5, 1.0, \"Number of common postag's appearance (weighted) for the whole trainset (label 0)\")]"
      ]
     },
     "execution_count": 20,
     "metadata": {},
     "output_type": "execute_result"
    },
    {
     "data": {
      "image/png": "[encoded data removed]",
      "text/plain": [
       "<Figure size 640x480 with 1 Axes>"
      ]
     },
     "metadata": {},
     "output_type": "display_data"
    }
   ],
   "source": [
    "summarize_postag_weighted_0 = pd.DataFrame(list(dict_contain_weighted_postag_label0.items()))\n",
    "summarize_postag_weighted_0.columns = [\"postag\", \"count\"]\n",
    "summarize_postag_weighted_0.sort_values('count', inplace = True)\n",
    "\n",
    "plot = sns.barplot(data = summarize_postag_weighted_0, x = 'postag', y= \"count\")\n",
    "plot.set_xticklabels(plot.get_xticklabels(), rotation=90)\n",
    "plot.set(title = \"Number of common postag's appearance (weighted) for the whole trainset (label 0)\")"
   ]
  },
  {
   "cell_type": "markdown",
   "metadata": {
    "id": "KEauvq7JBCSk"
   },
   "source": [
    "### Summarize"
   ]
  },
  {
   "cell_type": "code",
   "execution_count": null,
   "metadata": {
    "id": "uFOdoqFZGjSM"
   },
   "outputs": [],
   "source": [
    "summarize_postag.sort_values(\"postag\", inplace = True)\n",
    "summarize_postag.columns = [\"postag\", \"count_1\"]\n",
    "\n",
    "summarize_postag_0.sort_values(\"postag\", inplace = True)\n",
    "summarize_postag_0.columns = [\"postag\", \"count_0\"]\n",
    "\n",
    "summarize_postag_weighted.sort_values(\"postag\", inplace = True)\n",
    "summarize_postag_weighted.columns = [\"postag\", \"count_1_weighted\"]\n",
    "\n",
    "summarize_postag_weighted_0.sort_values(\"postag\", inplace = True)\n",
    "summarize_postag_weighted_0.columns = [\"postag\", \"count_0_weighted\"]"
   ]
  },
  {
   "cell_type": "code",
   "execution_count": null,
   "metadata": {
    "id": "3eZDjeh9Gz3i"
   },
   "outputs": [],
   "source": [
    "summarize = summarize_postag.merge(summarize_postag_0, how = \"inner\", on = \"postag\")\n",
    "summarize = summarize.merge(summarize_postag_weighted, how = \"inner\", on = \"postag\")\n",
    "summarize = summarize.merge(summarize_postag_weighted_0, how = \"inner\", on = \"postag\")"
   ]
  },
  {
   "cell_type": "code",
   "execution_count": null,
   "metadata": {
    "colab": {
     "base_uri": "https://localhost:8080/",
     "height": 770
    },
    "executionInfo": {
     "elapsed": 21,
     "status": "ok",
     "timestamp": 1684741080729,
     "user": {
      "displayName": "Anh Trần Hoàng",
      "userId": "03160318258477081697"
     },
     "user_tz": -420
    },
    "id": "Dwu8Osg1rzVR",
    "outputId": "392dbe37-640c-4627-f709-293e9b974b0e"
   },
   "outputs": [
    {
     "data": {
      "text/html": [
       "\n",
       "  <div id=\"df-255a47da-278d-47bd-9296-ef282862b88b\">\n",
       "    <div class=\"colab-df-container\">\n",
       "      <div>\n",
       "<style scoped>\n",
       "    .dataframe tbody tr th:only-of-type {\n",
       "        vertical-align: middle;\n",
       "    }\n",
       "\n",
       "    .dataframe tbody tr th {\n",
       "        vertical-align: top;\n",
       "    }\n",
       "\n",
       "    .dataframe thead th {\n",
       "        text-align: right;\n",
       "    }\n",
       "</style>\n",
       "<table border=\"1\" class=\"dataframe\">\n",
       "  <thead>\n",
       "    <tr style=\"text-align: right;\">\n",
       "      <th></th>\n",
       "      <th>postag</th>\n",
       "      <th>count_1</th>\n",
       "      <th>count_0</th>\n",
       "      <th>count_1_weighted</th>\n",
       "      <th>count_0_weighted</th>\n",
       "    </tr>\n",
       "  </thead>\n",
       "  <tbody>\n",
       "    <tr>\n",
       "      <th>0</th>\n",
       "      <td>CC</td>\n",
       "      <td>228715</td>\n",
       "      <td>288039</td>\n",
       "      <td>2327962</td>\n",
       "      <td>2170937</td>\n",
       "    </tr>\n",
       "    <tr>\n",
       "      <th>1</th>\n",
       "      <td>CD</td>\n",
       "      <td>319293</td>\n",
       "      <td>408570</td>\n",
       "      <td>9261089</td>\n",
       "      <td>9213107</td>\n",
       "    </tr>\n",
       "    <tr>\n",
       "      <th>2</th>\n",
       "      <td>DT</td>\n",
       "      <td>408049</td>\n",
       "      <td>474811</td>\n",
       "      <td>10174090</td>\n",
       "      <td>8269955</td>\n",
       "    </tr>\n",
       "    <tr>\n",
       "      <th>3</th>\n",
       "      <td>IN</td>\n",
       "      <td>412859</td>\n",
       "      <td>469299</td>\n",
       "      <td>14400212</td>\n",
       "      <td>11707646</td>\n",
       "    </tr>\n",
       "    <tr>\n",
       "      <th>4</th>\n",
       "      <td>JJ</td>\n",
       "      <td>421892</td>\n",
       "      <td>480844</td>\n",
       "      <td>19947787</td>\n",
       "      <td>17822116</td>\n",
       "    </tr>\n",
       "    <tr>\n",
       "      <th>5</th>\n",
       "      <td>JJR</td>\n",
       "      <td>13346</td>\n",
       "      <td>9434</td>\n",
       "      <td>4462</td>\n",
       "      <td>25319</td>\n",
       "    </tr>\n",
       "    <tr>\n",
       "      <th>6</th>\n",
       "      <td>JJS</td>\n",
       "      <td>19713</td>\n",
       "      <td>12261</td>\n",
       "      <td>8509</td>\n",
       "      <td>43791</td>\n",
       "    </tr>\n",
       "    <tr>\n",
       "      <th>7</th>\n",
       "      <td>MD</td>\n",
       "      <td>42531</td>\n",
       "      <td>24836</td>\n",
       "      <td>17626</td>\n",
       "      <td>65422</td>\n",
       "    </tr>\n",
       "    <tr>\n",
       "      <th>8</th>\n",
       "      <td>NN</td>\n",
       "      <td>435092</td>\n",
       "      <td>504043</td>\n",
       "      <td>54274997</td>\n",
       "      <td>54672403</td>\n",
       "    </tr>\n",
       "    <tr>\n",
       "      <th>9</th>\n",
       "      <td>NNS</td>\n",
       "      <td>368000</td>\n",
       "      <td>411579</td>\n",
       "      <td>8703753</td>\n",
       "      <td>7699174</td>\n",
       "    </tr>\n",
       "    <tr>\n",
       "      <th>10</th>\n",
       "      <td>PRP</td>\n",
       "      <td>147483</td>\n",
       "      <td>142348</td>\n",
       "      <td>686324</td>\n",
       "      <td>677812</td>\n",
       "    </tr>\n",
       "    <tr>\n",
       "      <th>11</th>\n",
       "      <td>PRP$</td>\n",
       "      <td>40159</td>\n",
       "      <td>36422</td>\n",
       "      <td>171483</td>\n",
       "      <td>149313</td>\n",
       "    </tr>\n",
       "    <tr>\n",
       "      <th>12</th>\n",
       "      <td>RB</td>\n",
       "      <td>194985</td>\n",
       "      <td>261229</td>\n",
       "      <td>1781827</td>\n",
       "      <td>1824052</td>\n",
       "    </tr>\n",
       "    <tr>\n",
       "      <th>13</th>\n",
       "      <td>TO</td>\n",
       "      <td>133268</td>\n",
       "      <td>108733</td>\n",
       "      <td>751888</td>\n",
       "      <td>480965</td>\n",
       "    </tr>\n",
       "    <tr>\n",
       "      <th>14</th>\n",
       "      <td>VB</td>\n",
       "      <td>141008</td>\n",
       "      <td>137878</td>\n",
       "      <td>874259</td>\n",
       "      <td>638419</td>\n",
       "    </tr>\n",
       "    <tr>\n",
       "      <th>15</th>\n",
       "      <td>VBD</td>\n",
       "      <td>271005</td>\n",
       "      <td>358867</td>\n",
       "      <td>3263877</td>\n",
       "      <td>3602759</td>\n",
       "    </tr>\n",
       "    <tr>\n",
       "      <th>16</th>\n",
       "      <td>VBG</td>\n",
       "      <td>132774</td>\n",
       "      <td>113436</td>\n",
       "      <td>821278</td>\n",
       "      <td>644617</td>\n",
       "    </tr>\n",
       "    <tr>\n",
       "      <th>17</th>\n",
       "      <td>VBN</td>\n",
       "      <td>257333</td>\n",
       "      <td>268456</td>\n",
       "      <td>2367533</td>\n",
       "      <td>2074554</td>\n",
       "    </tr>\n",
       "    <tr>\n",
       "      <th>18</th>\n",
       "      <td>VBP</td>\n",
       "      <td>244847</td>\n",
       "      <td>316489</td>\n",
       "      <td>2405590</td>\n",
       "      <td>2772254</td>\n",
       "    </tr>\n",
       "    <tr>\n",
       "      <th>19</th>\n",
       "      <td>VBZ</td>\n",
       "      <td>302800</td>\n",
       "      <td>360828</td>\n",
       "      <td>2859889</td>\n",
       "      <td>2624625</td>\n",
       "    </tr>\n",
       "    <tr>\n",
       "      <th>20</th>\n",
       "      <td>WDT</td>\n",
       "      <td>31676</td>\n",
       "      <td>25410</td>\n",
       "      <td>104026</td>\n",
       "      <td>75971</td>\n",
       "    </tr>\n",
       "    <tr>\n",
       "      <th>21</th>\n",
       "      <td>WP</td>\n",
       "      <td>9409</td>\n",
       "      <td>18217</td>\n",
       "      <td>23926</td>\n",
       "      <td>42408</td>\n",
       "    </tr>\n",
       "    <tr>\n",
       "      <th>22</th>\n",
       "      <td>WRB</td>\n",
       "      <td>6685</td>\n",
       "      <td>2505</td>\n",
       "      <td>18571</td>\n",
       "      <td>5598</td>\n",
       "    </tr>\n",
       "  </tbody>\n",
       "</table>\n",
       "</div>\n",
       "      <button class=\"colab-df-convert\" onclick=\"convertToInteractive('df-255a47da-278d-47bd-9296-ef282862b88b')\"\n",
       "              title=\"Convert this dataframe to an interactive table.\"\n",
       "              style=\"display:none;\">\n",
       "        \n",
       "  <svg xmlns=\"http://www.w3.org/2000/svg\" height=\"24px\"viewBox=\"0 0 24 24\"\n",
       "       width=\"24px\">\n",
       "    <path d=\"M0 0h24v24H0V0z\" fill=\"none\"/>\n",
       "    <path d=\"M18.56 5.44l.94 2.06.94-2.06 2.06-.94-2.06-.94-.94-2.06-.94 2.06-2.06.94zm-11 1L8.5 8.5l.94-2.06 2.06-.94-2.06-.94L8.5 2.5l-.94 2.06-2.06.94zm10 10l.94 2.06.94-2.06 2.06-.94-2.06-.94-.94-2.06-.94 2.06-2.06.94z\"/><path d=\"M17.41 7.96l-1.37-1.37c-.4-.4-.92-.59-1.43-.59-.52 0-1.04.2-1.43.59L10.3 9.45l-7.72 7.72c-.78.78-.78 2.05 0 2.83L4 21.41c.39.39.9.59 1.41.59.51 0 1.02-.2 1.41-.59l7.78-7.78 2.81-2.81c.8-.78.8-2.07 0-2.86zM5.41 20L4 18.59l7.72-7.72 1.47 1.35L5.41 20z\"/>\n",
       "  </svg>\n",
       "      </button>\n",
       "      \n",
       "  <style>\n",
       "    .colab-df-container {\n",
       "      display:flex;\n",
       "      flex-wrap:wrap;\n",
       "      gap: 12px;\n",
       "    }\n",
       "\n",
       "    .colab-df-convert {\n",
       "      background-color: #E8F0FE;\n",
       "      border: none;\n",
       "      border-radius: 50%;\n",
       "      cursor: pointer;\n",
       "      display: none;\n",
       "      fill: #1967D2;\n",
       "      height: 32px;\n",
       "      padding: 0 0 0 0;\n",
       "      width: 32px;\n",
       "    }\n",
       "\n",
       "    .colab-df-convert:hover {\n",
       "      background-color: #E2EBFA;\n",
       "      box-shadow: 0px 1px 2px rgba(60, 64, 67, 0.3), 0px 1px 3px 1px rgba(60, 64, 67, 0.15);\n",
       "      fill: #174EA6;\n",
       "    }\n",
       "\n",
       "    [theme=dark] .colab-df-convert {\n",
       "      background-color: #3B4455;\n",
       "      fill: #D2E3FC;\n",
       "    }\n",
       "\n",
       "    [theme=dark] .colab-df-convert:hover {\n",
       "      background-color: #434B5C;\n",
       "      box-shadow: 0px 1px 3px 1px rgba(0, 0, 0, 0.15);\n",
       "      filter: drop-shadow(0px 1px 2px rgba(0, 0, 0, 0.3));\n",
       "      fill: #FFFFFF;\n",
       "    }\n",
       "  </style>\n",
       "\n",
       "      <script>\n",
       "        const buttonEl =\n",
       "          document.querySelector('#df-255a47da-278d-47bd-9296-ef282862b88b button.colab-df-convert');\n",
       "        buttonEl.style.display =\n",
       "          google.colab.kernel.accessAllowed ? 'block' : 'none';\n",
       "\n",
       "        async function convertToInteractive(key) {\n",
       "          const element = document.querySelector('#df-255a47da-278d-47bd-9296-ef282862b88b');\n",
       "          const dataTable =\n",
       "            await google.colab.kernel.invokeFunction('convertToInteractive',\n",
       "                                                     [key], {});\n",
       "          if (!dataTable) return;\n",
       "\n",
       "          const docLinkHtml = 'Like what you see? Visit the ' +\n",
       "            '<a target=\"_blank\" href=https://colab.research.google.com/notebooks/data_table.ipynb>data table notebook</a>'\n",
       "            + ' to learn more about interactive tables.';\n",
       "          element.innerHTML = '';\n",
       "          dataTable['output_type'] = 'display_data';\n",
       "          await google.colab.output.renderOutput(dataTable, element);\n",
       "          const docLink = document.createElement('div');\n",
       "          docLink.innerHTML = docLinkHtml;\n",
       "          element.appendChild(docLink);\n",
       "        }\n",
       "      </script>\n",
       "    </div>\n",
       "  </div>\n",
       "  "
      ],
      "text/plain": [
       "   postag  count_1  count_0  count_1_weighted  count_0_weighted\n",
       "0      CC   228715   288039           2327962           2170937\n",
       "1      CD   319293   408570           9261089           9213107\n",
       "2      DT   408049   474811          10174090           8269955\n",
       "3      IN   412859   469299          14400212          11707646\n",
       "4      JJ   421892   480844          19947787          17822116\n",
       "5     JJR    13346     9434              4462             25319\n",
       "6     JJS    19713    12261              8509             43791\n",
       "7      MD    42531    24836             17626             65422\n",
       "8      NN   435092   504043          54274997          54672403\n",
       "9     NNS   368000   411579           8703753           7699174\n",
       "10    PRP   147483   142348            686324            677812\n",
       "11   PRP$    40159    36422            171483            149313\n",
       "12     RB   194985   261229           1781827           1824052\n",
       "13     TO   133268   108733            751888            480965\n",
       "14     VB   141008   137878            874259            638419\n",
       "15    VBD   271005   358867           3263877           3602759\n",
       "16    VBG   132774   113436            821278            644617\n",
       "17    VBN   257333   268456           2367533           2074554\n",
       "18    VBP   244847   316489           2405590           2772254\n",
       "19    VBZ   302800   360828           2859889           2624625\n",
       "20    WDT    31676    25410            104026             75971\n",
       "21     WP     9409    18217             23926             42408\n",
       "22    WRB     6685     2505             18571              5598"
      ]
     },
     "execution_count": 23,
     "metadata": {},
     "output_type": "execute_result"
    }
   ],
   "source": [
    "summarize"
   ]
  },
  {
   "cell_type": "code",
   "execution_count": null,
   "metadata": {
    "id": "bUaSDcl_HqFO"
   },
   "outputs": [],
   "source": [
    "summarize.to_excel(\"/content/drive/MyDrive/Code/DSAA/analyze/summarize_old_tagging.xlsx\", index = False)"
   ]
  },
  {
   "cell_type": "markdown",
   "metadata": {
    "id": "mTcApb3x2xC6"
   },
   "source": [
    "### Create tokenized list for faster pos-tagging </br>\n",
    "Preventing crashing\n",
    "</br> Failed (retrieval time takes too long)"
   ]
  },
  {
   "cell_type": "markdown",
   "metadata": {
    "id": "K8OZRFiAn6uX"
   },
   "source": [
    "**First tokenize sentences**"
   ]
  },
  {
   "cell_type": "code",
   "execution_count": null,
   "metadata": {
    "colab": {
     "base_uri": "https://localhost:8080/"
    },
    "executionInfo": {
     "elapsed": 516376,
     "status": "ok",
     "timestamp": 1684076354096,
     "user": {
      "displayName": "Anh Trần Hoàng",
      "userId": "03160318258477081697"
     },
     "user_tz": -420
    },
    "id": "NR3OXKC-ghkF",
    "outputId": "eb9db810-d772-4660-cc2e-76490b8bc2a7"
   },
   "outputs": [
    {
     "name": "stderr",
     "output_type": "stream",
     "text": [
      "100%|██████████| 837834/837834 [08:35<00:00, 1623.79it/s]\n"
     ]
    }
   ],
   "source": [
    "tokenized_list = []\n",
    "for i in tqdm(range(len(nodes['text']))):\n",
    "  tokenized = nltk.word_tokenize(remove_special_character(str(nodes['text'][i])))\n",
    "  tokenized_list.append(tokenized)"
   ]
  },
  {
   "cell_type": "code",
   "execution_count": null,
   "metadata": {
    "id": "aar5Ddk8xdpC"
   },
   "outputs": [],
   "source": [
    "#Save\n",
    "import csv\n",
    "\n",
    "with open(\"/content/drive/MyDrive/Code/DSAA/tokenized.csv\", \"w\", newline=\"\") as f:\n",
    "    writer = csv.writer(f)\n",
    "    writer.writerows(tokenized_list)"
   ]
  },
  {
   "cell_type": "code",
   "execution_count": null,
   "metadata": {
    "id": "hQ3dUC4myfUN"
   },
   "outputs": [],
   "source": [
    "#Load\n",
    "file1 = open(\"/content/drive/MyDrive/Code/DSAA/tokenized.csv\", 'r')\n",
    "lines = file1.readlines()\n",
    "\n",
    "tokenized_list = []\n",
    "for line in lines:\n",
    "  tokenized_list.append(line.replace('\\n',\"\").split(','))\n",
    "del file1\n",
    "del lines"
   ]
  },
  {
   "cell_type": "markdown",
   "metadata": {
    "id": "08N9veVq2_Fy"
   },
   "source": [
    "**pos-tagging entire nodeset** </br>\n",
    "split into 2 half because the free colab's memory couldn't handle the whole thing"
   ]
  },
  {
   "cell_type": "code",
   "execution_count": null,
   "metadata": {
    "colab": {
     "base_uri": "https://localhost:8080/"
    },
    "executionInfo": {
     "elapsed": 3,
     "status": "ok",
     "timestamp": 1684079691335,
     "user": {
      "displayName": "Anh Trần Hoàng",
      "userId": "03160318258477081697"
     },
     "user_tz": -420
    },
    "id": "2j6KUl4w-IOh",
    "outputId": "c12de547-ecb5-418f-c636-8400dbeaca45"
   },
   "outputs": [
    {
     "data": {
      "text/plain": [
       "418917"
      ]
     },
     "execution_count": 5,
     "metadata": {},
     "output_type": "execute_result"
    }
   ],
   "source": [
    "half = len(tokenized_list)//2\n",
    "half"
   ]
  },
  {
   "cell_type": "code",
   "execution_count": null,
   "metadata": {
    "id": "NxfiCHhZ2TR7"
   },
   "outputs": [],
   "source": [
    "list_pos = pos_tag_sents(tokenized_list[418917:len(tokenized_list)])\n",
    "del tokenized_list"
   ]
  },
  {
   "cell_type": "code",
   "execution_count": null,
   "metadata": {
    "id": "87gkBxaS9HAR"
   },
   "outputs": [],
   "source": [
    "#Save\n",
    "import csv\n",
    "\n",
    "with open(\"/content/drive/MyDrive/Code/DSAA/postag_2.csv\", \"w\", newline=\"\") as f:\n",
    "    writer = csv.writer(f)\n",
    "    writer.writerows(list_pos)"
   ]
  },
  {
   "cell_type": "code",
   "execution_count": null,
   "metadata": {
    "id": "UpAe-HQee1n1"
   },
   "outputs": [],
   "source": [
    "#Load\n",
    "file1 = open(\"/content/drive/MyDrive/Code/DSAA/postag_1.csv\", 'r')\n",
    "lines = file1.readlines()\n",
    "\n",
    "list_pos = []\n",
    "for line in lines:\n",
    "  list_pos.append(postag_format(line))\n",
    "del file1\n",
    "del lines"
   ]
  },
  {
   "cell_type": "code",
   "execution_count": null,
   "metadata": {
    "id": "R38J-rH7v16i"
   },
   "outputs": [],
   "source": [
    "file1 = open(\"/content/drive/MyDrive/Code/DSAA/postag_2.csv\", 'r')\n",
    "lines = file1.readlines()"
   ]
  },
  {
   "cell_type": "code",
   "execution_count": null,
   "metadata": {
    "colab": {
     "base_uri": "https://localhost:8080/"
    },
    "executionInfo": {
     "elapsed": 2161225,
     "status": "ok",
     "timestamp": 1684134296034,
     "user": {
      "displayName": "Anh Trần Hoàng",
      "userId": "03160318258477081697"
     },
     "user_tz": -420
    },
    "id": "ZCbSbX-0u-fT",
    "outputId": "75801337-8788-4458-afbd-5afb486af4c7"
   },
   "outputs": [
    {
     "name": "stderr",
     "output_type": "stream",
     "text": [
      "100%|██████████| 418917/418917 [59:24<00:00, 117.53it/s]\n"
     ]
    }
   ],
   "source": [
    "#Save to txt file\n",
    "\n",
    "for i in tqdm(range(418917, len(nodes))):\n",
    "  with open(\"/content/drive/MyDrive/Code/DSAA/data/pos_tag/{}.txt\".format(node_ids[i]), \"w\") as f:\n",
    "      pt = postag_format(lines[i - 418917])\n",
    "      for part in pt:\n",
    "          f.write(\"{},{}\".format(part[0], part[1]))\n",
    "          f.write(\"\\n\")\n",
    "\n",
    "# del file1\n",
    "# del lines"
   ]
  },
  {
   "cell_type": "code",
   "execution_count": null,
   "metadata": {
    "id": "HUsQKaOUC72Y"
   },
   "outputs": [],
   "source": [
    "file1 = open(\"/content/drive/MyDrive/Code/DSAA/data/pos_tag/1.txt\", 'r')\n",
    "lines = file1.readlines()"
   ]
  },
  {
   "cell_type": "markdown",
   "metadata": {
    "id": "UjhjX8gLDB8K"
   },
   "source": [
    "# Embedding by POSTAGGING\n",
    "No need now, coz we can make embedded nodeset"
   ]
  },
  {
   "cell_type": "markdown",
   "metadata": {
    "id": "SxmcWf1CwjUk"
   },
   "source": [
    "![image.png](data:image/png;base64,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)"
   ]
  },
  {
   "cell_type": "code",
   "execution_count": null,
   "metadata": {
    "colab": {
     "base_uri": "https://localhost:8080/"
    },
    "executionInfo": {
     "elapsed": 5,
     "status": "ok",
     "timestamp": 1684514765197,
     "user": {
      "displayName": "Anh Trần Hoàng",
      "userId": "03160318258477081697"
     },
     "user_tz": -420
    },
    "id": "QPJX-zA1EfYm",
    "outputId": "4ed50966-33a4-4545-afa0-2ad02253bcdc"
   },
   "outputs": [
    {
     "data": {
      "text/plain": [
       "array([[7.],\n",
       "       [3.],\n",
       "       [1.],\n",
       "       [2.],\n",
       "       [0.],\n",
       "       [1.],\n",
       "       [1.]])"
      ]
     },
     "execution_count": 62,
     "metadata": {},
     "output_type": "execute_result"
    }
   ],
   "source": [
    "# embed_postag = [\"NN\", \"JJ\", \"IN\", \"DT\", \"NNS\",\"CD\",\"VBD\",\"VBZ\",\"VBP\",\"VBN\"]\n",
    "embed_postag = [\"NN\", \"JJ\", \"IN\", \"DT\", \"NNS\",\"CD\",\"VBZ\"]\n",
    "sentence = nodes['text'][5]\n",
    "\n",
    "postag_embedding(sentence, embed_postag)"
   ]
  },
  {
   "cell_type": "code",
   "execution_count": null,
   "metadata": {
    "colab": {
     "base_uri": "https://localhost:8080/"
    },
    "executionInfo": {
     "elapsed": 3183627,
     "status": "ok",
     "timestamp": 1684517955356,
     "user": {
      "displayName": "Anh Trần Hoàng",
      "userId": "03160318258477081697"
     },
     "user_tz": -420
    },
    "id": "msCnGn2XHCI1",
    "outputId": "20405239-fbc8-416a-e175-e7d41e4479a0"
   },
   "outputs": [
    {
     "name": "stderr",
     "output_type": "stream",
     "text": [
      "100%|██████████| 837834/837834 [53:03<00:00, 263.19it/s]\n"
     ]
    }
   ],
   "source": [
    "embedded_nodes = []\n",
    "for i in tqdm(range(len(nodes))):\n",
    "  embedded_nodes.append([nodes['id'][i], postag_embedding(str(nodes['text'][i]), embed_postag)])"
   ]
  },
  {
   "cell_type": "code",
   "execution_count": null,
   "metadata": {
    "id": "QFPwmd4gITCl"
   },
   "outputs": [],
   "source": [
    "embedded_df = pd.DataFrame(embedded_nodes)\n",
    "embedded_df.columns = [\"id\",\"embedded_postag\"]"
   ]
  },
  {
   "cell_type": "code",
   "execution_count": null,
   "metadata": {
    "id": "gMaJbCWGq8At"
   },
   "outputs": [],
   "source": [
    "# Save\n",
    "embedded_df.to_csv(\"/content/drive/MyDrive/Code/DSAA/data/embedded/clean_nodes_embedded_nltk_7_vbz.csv\")"
   ]
  },
  {
   "cell_type": "code",
   "execution_count": null,
   "metadata": {
    "colab": {
     "base_uri": "https://localhost:8080/",
     "height": 423
    },
    "executionInfo": {
     "elapsed": 5917,
     "status": "ok",
     "timestamp": 1684518169856,
     "user": {
      "displayName": "Anh Trần Hoàng",
      "userId": "03160318258477081697"
     },
     "user_tz": -420
    },
    "id": "C0LA2T5NpK6L",
    "outputId": "e70cbb75-31d8-4921-fef8-43015ccdb0c7"
   },
   "outputs": [
    {
     "data": {
      "text/html": [
       "\n",
       "  <div id=\"df-1f1f366e-ae8a-48e8-b3a2-983b7550227e\">\n",
       "    <div class=\"colab-df-container\">\n",
       "      <div>\n",
       "<style scoped>\n",
       "    .dataframe tbody tr th:only-of-type {\n",
       "        vertical-align: middle;\n",
       "    }\n",
       "\n",
       "    .dataframe tbody tr th {\n",
       "        vertical-align: top;\n",
       "    }\n",
       "\n",
       "    .dataframe thead th {\n",
       "        text-align: right;\n",
       "    }\n",
       "</style>\n",
       "<table border=\"1\" class=\"dataframe\">\n",
       "  <thead>\n",
       "    <tr style=\"text-align: right;\">\n",
       "      <th></th>\n",
       "      <th>Unnamed: 0</th>\n",
       "      <th>id</th>\n",
       "      <th>embedded_postag</th>\n",
       "    </tr>\n",
       "  </thead>\n",
       "  <tbody>\n",
       "    <tr>\n",
       "      <th>0</th>\n",
       "      <td>0</td>\n",
       "      <td>1</td>\n",
       "      <td>[27, 7, 8, 6, 3, 5, 4]</td>\n",
       "    </tr>\n",
       "    <tr>\n",
       "      <th>1</th>\n",
       "      <td>1</td>\n",
       "      <td>2</td>\n",
       "      <td>[37, 23, 22, 26, 11, 5, 7]</td>\n",
       "    </tr>\n",
       "    <tr>\n",
       "      <th>2</th>\n",
       "      <td>2</td>\n",
       "      <td>3</td>\n",
       "      <td>[60, 32, 40, 24, 25, 10, 2]</td>\n",
       "    </tr>\n",
       "    <tr>\n",
       "      <th>3</th>\n",
       "      <td>3</td>\n",
       "      <td>4</td>\n",
       "      <td>[32, 12, 11, 6, 10, 1, 3]</td>\n",
       "    </tr>\n",
       "    <tr>\n",
       "      <th>4</th>\n",
       "      <td>4</td>\n",
       "      <td>5</td>\n",
       "      <td>[11, 2, 4, 3, 4, 1, 3]</td>\n",
       "    </tr>\n",
       "    <tr>\n",
       "      <th>...</th>\n",
       "      <td>...</td>\n",
       "      <td>...</td>\n",
       "      <td>...</td>\n",
       "    </tr>\n",
       "    <tr>\n",
       "      <th>837829</th>\n",
       "      <td>837829</td>\n",
       "      <td>836621</td>\n",
       "      <td>[12, 3, 3, 3, 7, 0, 2]</td>\n",
       "    </tr>\n",
       "    <tr>\n",
       "      <th>837830</th>\n",
       "      <td>837830</td>\n",
       "      <td>836622</td>\n",
       "      <td>[76, 48, 54, 46, 28, 14, 0]</td>\n",
       "    </tr>\n",
       "    <tr>\n",
       "      <th>837831</th>\n",
       "      <td>837831</td>\n",
       "      <td>836623</td>\n",
       "      <td>[23, 14, 8, 9, 0, 2, 0]</td>\n",
       "    </tr>\n",
       "    <tr>\n",
       "      <th>837832</th>\n",
       "      <td>837832</td>\n",
       "      <td>344599</td>\n",
       "      <td>[27, 8, 11, 5, 6, 0, 3]</td>\n",
       "    </tr>\n",
       "    <tr>\n",
       "      <th>837833</th>\n",
       "      <td>837833</td>\n",
       "      <td>836624</td>\n",
       "      <td>[17, 5, 4, 3, 1, 0, 1]</td>\n",
       "    </tr>\n",
       "  </tbody>\n",
       "</table>\n",
       "<p>837834 rows × 3 columns</p>\n",
       "</div>\n",
       "      <button class=\"colab-df-convert\" onclick=\"convertToInteractive('df-1f1f366e-ae8a-48e8-b3a2-983b7550227e')\"\n",
       "              title=\"Convert this dataframe to an interactive table.\"\n",
       "              style=\"display:none;\">\n",
       "        \n",
       "  <svg xmlns=\"http://www.w3.org/2000/svg\" height=\"24px\"viewBox=\"0 0 24 24\"\n",
       "       width=\"24px\">\n",
       "    <path d=\"M0 0h24v24H0V0z\" fill=\"none\"/>\n",
       "    <path d=\"M18.56 5.44l.94 2.06.94-2.06 2.06-.94-2.06-.94-.94-2.06-.94 2.06-2.06.94zm-11 1L8.5 8.5l.94-2.06 2.06-.94-2.06-.94L8.5 2.5l-.94 2.06-2.06.94zm10 10l.94 2.06.94-2.06 2.06-.94-2.06-.94-.94-2.06-.94 2.06-2.06.94z\"/><path d=\"M17.41 7.96l-1.37-1.37c-.4-.4-.92-.59-1.43-.59-.52 0-1.04.2-1.43.59L10.3 9.45l-7.72 7.72c-.78.78-.78 2.05 0 2.83L4 21.41c.39.39.9.59 1.41.59.51 0 1.02-.2 1.41-.59l7.78-7.78 2.81-2.81c.8-.78.8-2.07 0-2.86zM5.41 20L4 18.59l7.72-7.72 1.47 1.35L5.41 20z\"/>\n",
       "  </svg>\n",
       "      </button>\n",
       "      \n",
       "  <style>\n",
       "    .colab-df-container {\n",
       "      display:flex;\n",
       "      flex-wrap:wrap;\n",
       "      gap: 12px;\n",
       "    }\n",
       "\n",
       "    .colab-df-convert {\n",
       "      background-color: #E8F0FE;\n",
       "      border: none;\n",
       "      border-radius: 50%;\n",
       "      cursor: pointer;\n",
       "      display: none;\n",
       "      fill: #1967D2;\n",
       "      height: 32px;\n",
       "      padding: 0 0 0 0;\n",
       "      width: 32px;\n",
       "    }\n",
       "\n",
       "    .colab-df-convert:hover {\n",
       "      background-color: #E2EBFA;\n",
       "      box-shadow: 0px 1px 2px rgba(60, 64, 67, 0.3), 0px 1px 3px 1px rgba(60, 64, 67, 0.15);\n",
       "      fill: #174EA6;\n",
       "    }\n",
       "\n",
       "    [theme=dark] .colab-df-convert {\n",
       "      background-color: #3B4455;\n",
       "      fill: #D2E3FC;\n",
       "    }\n",
       "\n",
       "    [theme=dark] .colab-df-convert:hover {\n",
       "      background-color: #434B5C;\n",
       "      box-shadow: 0px 1px 3px 1px rgba(0, 0, 0, 0.15);\n",
       "      filter: drop-shadow(0px 1px 2px rgba(0, 0, 0, 0.3));\n",
       "      fill: #FFFFFF;\n",
       "    }\n",
       "  </style>\n",
       "\n",
       "      <script>\n",
       "        const buttonEl =\n",
       "          document.querySelector('#df-1f1f366e-ae8a-48e8-b3a2-983b7550227e button.colab-df-convert');\n",
       "        buttonEl.style.display =\n",
       "          google.colab.kernel.accessAllowed ? 'block' : 'none';\n",
       "\n",
       "        async function convertToInteractive(key) {\n",
       "          const element = document.querySelector('#df-1f1f366e-ae8a-48e8-b3a2-983b7550227e');\n",
       "          const dataTable =\n",
       "            await google.colab.kernel.invokeFunction('convertToInteractive',\n",
       "                                                     [key], {});\n",
       "          if (!dataTable) return;\n",
       "\n",
       "          const docLinkHtml = 'Like what you see? Visit the ' +\n",
       "            '<a target=\"_blank\" href=https://colab.research.google.com/notebooks/data_table.ipynb>data table notebook</a>'\n",
       "            + ' to learn more about interactive tables.';\n",
       "          element.innerHTML = '';\n",
       "          dataTable['output_type'] = 'display_data';\n",
       "          await google.colab.output.renderOutput(dataTable, element);\n",
       "          const docLink = document.createElement('div');\n",
       "          docLink.innerHTML = docLinkHtml;\n",
       "          element.appendChild(docLink);\n",
       "        }\n",
       "      </script>\n",
       "    </div>\n",
       "  </div>\n",
       "  "
      ],
      "text/plain": [
       "        Unnamed: 0      id              embedded_postag\n",
       "0                0       1       [27, 7, 8, 6, 3, 5, 4]\n",
       "1                1       2   [37, 23, 22, 26, 11, 5, 7]\n",
       "2                2       3  [60, 32, 40, 24, 25, 10, 2]\n",
       "3                3       4    [32, 12, 11, 6, 10, 1, 3]\n",
       "4                4       5       [11, 2, 4, 3, 4, 1, 3]\n",
       "...            ...     ...                          ...\n",
       "837829      837829  836621       [12, 3, 3, 3, 7, 0, 2]\n",
       "837830      837830  836622  [76, 48, 54, 46, 28, 14, 0]\n",
       "837831      837831  836623      [23, 14, 8, 9, 0, 2, 0]\n",
       "837832      837832  344599      [27, 8, 11, 5, 6, 0, 3]\n",
       "837833      837833  836624       [17, 5, 4, 3, 1, 0, 1]\n",
       "\n",
       "[837834 rows x 3 columns]"
      ]
     },
     "execution_count": 66,
     "metadata": {},
     "output_type": "execute_result"
    }
   ],
   "source": [
    "# Load\n",
    "embedded_df = pd.read_csv(\"/content/drive/MyDrive/Code/DSAA/data/embedded/clean_nodes_embedded_nltk_7_vbz.csv\")\n",
    "embedded_df['embedded_postag'] = embedded_df['embedded_postag'].apply(embedded_format)\n",
    "embedded_df"
   ]
  },
  {
   "cell_type": "code",
   "execution_count": null,
   "metadata": {
    "colab": {
     "base_uri": "https://localhost:8080/"
    },
    "executionInfo": {
     "elapsed": 520,
     "status": "ok",
     "timestamp": 1684518177166,
     "user": {
      "displayName": "Anh Trần Hoàng",
      "userId": "03160318258477081697"
     },
     "user_tz": -420
    },
    "id": "rbIECjEHinPY",
    "outputId": "a0edcf95-e0a9-45bc-d2f5-8c8e91616388"
   },
   "outputs": [
    {
     "data": {
      "text/plain": [
       "['35', '11', '16', '9', '4', '7', '2', '11', '2', '4', '3', '1', '2', '1']"
      ]
     },
     "execution_count": 67,
     "metadata": {},
     "output_type": "execute_result"
    }
   ],
   "source": [
    "# Try to get a pair of embedded postag in trainset\n",
    "id = 3\n",
    "p1, p2 = get_postag_pair(id, train, embedded_df)\n",
    "p1 + p2"
   ]
  },
  {
   "cell_type": "markdown",
   "metadata": {
    "id": "tzXtuf_FJivV"
   },
   "source": [
    "#  Make embedded nodeset"
   ]
  },
  {
   "cell_type": "code",
   "execution_count": null,
   "metadata": {
    "id": "g7iRbcPAKNJ-"
   },
   "outputs": [],
   "source": [
    "postag = list(set(list_contain_postag_label1))"
   ]
  },
  {
   "cell_type": "code",
   "execution_count": null,
   "metadata": {
    "id": "z9Gmvt8yLIyA"
   },
   "outputs": [],
   "source": [
    "node_embedding = np.zeros((len(nodes), 1 + len(postag)))"
   ]
  },
  {
   "cell_type": "code",
   "execution_count": null,
   "metadata": {
    "colab": {
     "base_uri": "https://localhost:8080/"
    },
    "executionInfo": {
     "elapsed": 329,
     "status": "ok",
     "timestamp": 1684760867656,
     "user": {
      "displayName": "Anh Trần Hoàng",
      "userId": "03160318258477081697"
     },
     "user_tz": -420
    },
    "id": "qYF-D0ptkpE0",
    "outputId": "fc97e7a2-5066-4652-f893-4eda19c2beb2"
   },
   "outputs": [
    {
     "data": {
      "text/plain": [
       "(837834, 38)"
      ]
     },
     "execution_count": 15,
     "metadata": {},
     "output_type": "execute_result"
    }
   ],
   "source": [
    "node_embedding.shape"
   ]
  },
  {
   "cell_type": "code",
   "execution_count": null,
   "metadata": {
    "colab": {
     "base_uri": "https://localhost:8080/"
    },
    "executionInfo": {
     "elapsed": 6843923,
     "status": "ok",
     "timestamp": 1684767848834,
     "user": {
      "displayName": "Anh Trần Hoàng",
      "userId": "03160318258477081697"
     },
     "user_tz": -420
    },
    "id": "vUWYhQyoJmOS",
    "outputId": "ce3bd467-4265-4205-a2bb-3a143765fc9e"
   },
   "outputs": [
    {
     "name": "stderr",
     "output_type": "stream",
     "text": [
      "100%|██████████| 837834/837834 [1:54:03<00:00, 122.42it/s]\n"
     ]
    }
   ],
   "source": [
    "for i in tqdm(range(len(nodes))):\n",
    "  node_embedding[i][0] = nodes['id'][i]\n",
    "  node_embedding[i][1:45] = postag_embedding(nodes['text'][i], postag).reshape(node_embedding.shape[1] - 1 ,)"
   ]
  },
  {
   "cell_type": "code",
   "execution_count": null,
   "metadata": {
    "colab": {
     "base_uri": "https://localhost:8080/",
     "height": 487
    },
    "executionInfo": {
     "elapsed": 12,
     "status": "ok",
     "timestamp": 1684767850363,
     "user": {
      "displayName": "Anh Trần Hoàng",
      "userId": "03160318258477081697"
     },
     "user_tz": -420
    },
    "id": "6j-4pXK1MJNF",
    "outputId": "c53e4fc0-6d4f-435a-b0af-92188bf94b58"
   },
   "outputs": [
    {
     "data": {
      "text/html": [
       "\n",
       "  <div id=\"df-d78ecb16-0300-4489-9786-243985704ae8\">\n",
       "    <div class=\"colab-df-container\">\n",
       "      <div>\n",
       "<style scoped>\n",
       "    .dataframe tbody tr th:only-of-type {\n",
       "        vertical-align: middle;\n",
       "    }\n",
       "\n",
       "    .dataframe tbody tr th {\n",
       "        vertical-align: top;\n",
       "    }\n",
       "\n",
       "    .dataframe thead th {\n",
       "        text-align: right;\n",
       "    }\n",
       "</style>\n",
       "<table border=\"1\" class=\"dataframe\">\n",
       "  <thead>\n",
       "    <tr style=\"text-align: right;\">\n",
       "      <th></th>\n",
       "      <th>id</th>\n",
       "      <th>$</th>\n",
       "      <th>VBD</th>\n",
       "      <th>UH</th>\n",
       "      <th>NNS</th>\n",
       "      <th>JJS</th>\n",
       "      <th>NNP</th>\n",
       "      <th>''</th>\n",
       "      <th>PDT</th>\n",
       "      <th>IN</th>\n",
       "      <th>...</th>\n",
       "      <th>PRP$</th>\n",
       "      <th>RB</th>\n",
       "      <th>WP$</th>\n",
       "      <th>CD</th>\n",
       "      <th>DT</th>\n",
       "      <th>TO</th>\n",
       "      <th>MD</th>\n",
       "      <th>PRP</th>\n",
       "      <th>WRB</th>\n",
       "      <th>WP</th>\n",
       "    </tr>\n",
       "  </thead>\n",
       "  <tbody>\n",
       "    <tr>\n",
       "      <th>0</th>\n",
       "      <td>1.0</td>\n",
       "      <td>0.0</td>\n",
       "      <td>3.0</td>\n",
       "      <td>0.0</td>\n",
       "      <td>5.0</td>\n",
       "      <td>0.0</td>\n",
       "      <td>0.0</td>\n",
       "      <td>0.0</td>\n",
       "      <td>0.0</td>\n",
       "      <td>7.0</td>\n",
       "      <td>...</td>\n",
       "      <td>1.0</td>\n",
       "      <td>3.0</td>\n",
       "      <td>0.0</td>\n",
       "      <td>6.0</td>\n",
       "      <td>6.0</td>\n",
       "      <td>1.0</td>\n",
       "      <td>0.0</td>\n",
       "      <td>2.0</td>\n",
       "      <td>0.0</td>\n",
       "      <td>0.0</td>\n",
       "    </tr>\n",
       "    <tr>\n",
       "      <th>1</th>\n",
       "      <td>2.0</td>\n",
       "      <td>0.0</td>\n",
       "      <td>1.0</td>\n",
       "      <td>0.0</td>\n",
       "      <td>10.0</td>\n",
       "      <td>0.0</td>\n",
       "      <td>0.0</td>\n",
       "      <td>0.0</td>\n",
       "      <td>0.0</td>\n",
       "      <td>23.0</td>\n",
       "      <td>...</td>\n",
       "      <td>0.0</td>\n",
       "      <td>4.0</td>\n",
       "      <td>0.0</td>\n",
       "      <td>13.0</td>\n",
       "      <td>26.0</td>\n",
       "      <td>2.0</td>\n",
       "      <td>0.0</td>\n",
       "      <td>3.0</td>\n",
       "      <td>1.0</td>\n",
       "      <td>0.0</td>\n",
       "    </tr>\n",
       "    <tr>\n",
       "      <th>2</th>\n",
       "      <td>3.0</td>\n",
       "      <td>0.0</td>\n",
       "      <td>16.0</td>\n",
       "      <td>0.0</td>\n",
       "      <td>24.0</td>\n",
       "      <td>1.0</td>\n",
       "      <td>0.0</td>\n",
       "      <td>0.0</td>\n",
       "      <td>0.0</td>\n",
       "      <td>40.0</td>\n",
       "      <td>...</td>\n",
       "      <td>3.0</td>\n",
       "      <td>4.0</td>\n",
       "      <td>0.0</td>\n",
       "      <td>12.0</td>\n",
       "      <td>24.0</td>\n",
       "      <td>4.0</td>\n",
       "      <td>1.0</td>\n",
       "      <td>2.0</td>\n",
       "      <td>0.0</td>\n",
       "      <td>1.0</td>\n",
       "    </tr>\n",
       "    <tr>\n",
       "      <th>3</th>\n",
       "      <td>4.0</td>\n",
       "      <td>0.0</td>\n",
       "      <td>1.0</td>\n",
       "      <td>0.0</td>\n",
       "      <td>15.0</td>\n",
       "      <td>0.0</td>\n",
       "      <td>0.0</td>\n",
       "      <td>0.0</td>\n",
       "      <td>0.0</td>\n",
       "      <td>13.0</td>\n",
       "      <td>...</td>\n",
       "      <td>1.0</td>\n",
       "      <td>6.0</td>\n",
       "      <td>0.0</td>\n",
       "      <td>1.0</td>\n",
       "      <td>6.0</td>\n",
       "      <td>3.0</td>\n",
       "      <td>1.0</td>\n",
       "      <td>0.0</td>\n",
       "      <td>0.0</td>\n",
       "      <td>0.0</td>\n",
       "    </tr>\n",
       "    <tr>\n",
       "      <th>4</th>\n",
       "      <td>5.0</td>\n",
       "      <td>0.0</td>\n",
       "      <td>0.0</td>\n",
       "      <td>0.0</td>\n",
       "      <td>5.0</td>\n",
       "      <td>0.0</td>\n",
       "      <td>0.0</td>\n",
       "      <td>0.0</td>\n",
       "      <td>0.0</td>\n",
       "      <td>4.0</td>\n",
       "      <td>...</td>\n",
       "      <td>0.0</td>\n",
       "      <td>3.0</td>\n",
       "      <td>0.0</td>\n",
       "      <td>2.0</td>\n",
       "      <td>4.0</td>\n",
       "      <td>0.0</td>\n",
       "      <td>0.0</td>\n",
       "      <td>1.0</td>\n",
       "      <td>0.0</td>\n",
       "      <td>0.0</td>\n",
       "    </tr>\n",
       "    <tr>\n",
       "      <th>...</th>\n",
       "      <td>...</td>\n",
       "      <td>...</td>\n",
       "      <td>...</td>\n",
       "      <td>...</td>\n",
       "      <td>...</td>\n",
       "      <td>...</td>\n",
       "      <td>...</td>\n",
       "      <td>...</td>\n",
       "      <td>...</td>\n",
       "      <td>...</td>\n",
       "      <td>...</td>\n",
       "      <td>...</td>\n",
       "      <td>...</td>\n",
       "      <td>...</td>\n",
       "      <td>...</td>\n",
       "      <td>...</td>\n",
       "      <td>...</td>\n",
       "      <td>...</td>\n",
       "      <td>...</td>\n",
       "      <td>...</td>\n",
       "      <td>...</td>\n",
       "    </tr>\n",
       "    <tr>\n",
       "      <th>837829</th>\n",
       "      <td>836621.0</td>\n",
       "      <td>0.0</td>\n",
       "      <td>4.0</td>\n",
       "      <td>0.0</td>\n",
       "      <td>19.0</td>\n",
       "      <td>0.0</td>\n",
       "      <td>1.0</td>\n",
       "      <td>0.0</td>\n",
       "      <td>0.0</td>\n",
       "      <td>5.0</td>\n",
       "      <td>...</td>\n",
       "      <td>0.0</td>\n",
       "      <td>0.0</td>\n",
       "      <td>0.0</td>\n",
       "      <td>8.0</td>\n",
       "      <td>3.0</td>\n",
       "      <td>0.0</td>\n",
       "      <td>0.0</td>\n",
       "      <td>2.0</td>\n",
       "      <td>0.0</td>\n",
       "      <td>0.0</td>\n",
       "    </tr>\n",
       "    <tr>\n",
       "      <th>837830</th>\n",
       "      <td>836622.0</td>\n",
       "      <td>0.0</td>\n",
       "      <td>20.0</td>\n",
       "      <td>0.0</td>\n",
       "      <td>28.0</td>\n",
       "      <td>0.0</td>\n",
       "      <td>0.0</td>\n",
       "      <td>0.0</td>\n",
       "      <td>0.0</td>\n",
       "      <td>68.0</td>\n",
       "      <td>...</td>\n",
       "      <td>5.0</td>\n",
       "      <td>11.0</td>\n",
       "      <td>0.0</td>\n",
       "      <td>27.0</td>\n",
       "      <td>55.0</td>\n",
       "      <td>5.0</td>\n",
       "      <td>2.0</td>\n",
       "      <td>1.0</td>\n",
       "      <td>2.0</td>\n",
       "      <td>0.0</td>\n",
       "    </tr>\n",
       "    <tr>\n",
       "      <th>837831</th>\n",
       "      <td>836623.0</td>\n",
       "      <td>0.0</td>\n",
       "      <td>0.0</td>\n",
       "      <td>0.0</td>\n",
       "      <td>1.0</td>\n",
       "      <td>0.0</td>\n",
       "      <td>0.0</td>\n",
       "      <td>0.0</td>\n",
       "      <td>0.0</td>\n",
       "      <td>8.0</td>\n",
       "      <td>...</td>\n",
       "      <td>0.0</td>\n",
       "      <td>2.0</td>\n",
       "      <td>0.0</td>\n",
       "      <td>3.0</td>\n",
       "      <td>9.0</td>\n",
       "      <td>1.0</td>\n",
       "      <td>1.0</td>\n",
       "      <td>0.0</td>\n",
       "      <td>0.0</td>\n",
       "      <td>0.0</td>\n",
       "    </tr>\n",
       "    <tr>\n",
       "      <th>837832</th>\n",
       "      <td>344599.0</td>\n",
       "      <td>0.0</td>\n",
       "      <td>1.0</td>\n",
       "      <td>0.0</td>\n",
       "      <td>5.0</td>\n",
       "      <td>0.0</td>\n",
       "      <td>0.0</td>\n",
       "      <td>0.0</td>\n",
       "      <td>0.0</td>\n",
       "      <td>11.0</td>\n",
       "      <td>...</td>\n",
       "      <td>1.0</td>\n",
       "      <td>1.0</td>\n",
       "      <td>0.0</td>\n",
       "      <td>0.0</td>\n",
       "      <td>5.0</td>\n",
       "      <td>0.0</td>\n",
       "      <td>0.0</td>\n",
       "      <td>1.0</td>\n",
       "      <td>0.0</td>\n",
       "      <td>0.0</td>\n",
       "    </tr>\n",
       "    <tr>\n",
       "      <th>837833</th>\n",
       "      <td>836624.0</td>\n",
       "      <td>0.0</td>\n",
       "      <td>1.0</td>\n",
       "      <td>0.0</td>\n",
       "      <td>8.0</td>\n",
       "      <td>0.0</td>\n",
       "      <td>0.0</td>\n",
       "      <td>0.0</td>\n",
       "      <td>0.0</td>\n",
       "      <td>6.0</td>\n",
       "      <td>...</td>\n",
       "      <td>1.0</td>\n",
       "      <td>0.0</td>\n",
       "      <td>0.0</td>\n",
       "      <td>4.0</td>\n",
       "      <td>3.0</td>\n",
       "      <td>0.0</td>\n",
       "      <td>0.0</td>\n",
       "      <td>0.0</td>\n",
       "      <td>0.0</td>\n",
       "      <td>0.0</td>\n",
       "    </tr>\n",
       "  </tbody>\n",
       "</table>\n",
       "<p>837834 rows × 38 columns</p>\n",
       "</div>\n",
       "      <button class=\"colab-df-convert\" onclick=\"convertToInteractive('df-d78ecb16-0300-4489-9786-243985704ae8')\"\n",
       "              title=\"Convert this dataframe to an interactive table.\"\n",
       "              style=\"display:none;\">\n",
       "        \n",
       "  <svg xmlns=\"http://www.w3.org/2000/svg\" height=\"24px\"viewBox=\"0 0 24 24\"\n",
       "       width=\"24px\">\n",
       "    <path d=\"M0 0h24v24H0V0z\" fill=\"none\"/>\n",
       "    <path d=\"M18.56 5.44l.94 2.06.94-2.06 2.06-.94-2.06-.94-.94-2.06-.94 2.06-2.06.94zm-11 1L8.5 8.5l.94-2.06 2.06-.94-2.06-.94L8.5 2.5l-.94 2.06-2.06.94zm10 10l.94 2.06.94-2.06 2.06-.94-2.06-.94-.94-2.06-.94 2.06-2.06.94z\"/><path d=\"M17.41 7.96l-1.37-1.37c-.4-.4-.92-.59-1.43-.59-.52 0-1.04.2-1.43.59L10.3 9.45l-7.72 7.72c-.78.78-.78 2.05 0 2.83L4 21.41c.39.39.9.59 1.41.59.51 0 1.02-.2 1.41-.59l7.78-7.78 2.81-2.81c.8-.78.8-2.07 0-2.86zM5.41 20L4 18.59l7.72-7.72 1.47 1.35L5.41 20z\"/>\n",
       "  </svg>\n",
       "      </button>\n",
       "      \n",
       "  <style>\n",
       "    .colab-df-container {\n",
       "      display:flex;\n",
       "      flex-wrap:wrap;\n",
       "      gap: 12px;\n",
       "    }\n",
       "\n",
       "    .colab-df-convert {\n",
       "      background-color: #E8F0FE;\n",
       "      border: none;\n",
       "      border-radius: 50%;\n",
       "      cursor: pointer;\n",
       "      display: none;\n",
       "      fill: #1967D2;\n",
       "      height: 32px;\n",
       "      padding: 0 0 0 0;\n",
       "      width: 32px;\n",
       "    }\n",
       "\n",
       "    .colab-df-convert:hover {\n",
       "      background-color: #E2EBFA;\n",
       "      box-shadow: 0px 1px 2px rgba(60, 64, 67, 0.3), 0px 1px 3px 1px rgba(60, 64, 67, 0.15);\n",
       "      fill: #174EA6;\n",
       "    }\n",
       "\n",
       "    [theme=dark] .colab-df-convert {\n",
       "      background-color: #3B4455;\n",
       "      fill: #D2E3FC;\n",
       "    }\n",
       "\n",
       "    [theme=dark] .colab-df-convert:hover {\n",
       "      background-color: #434B5C;\n",
       "      box-shadow: 0px 1px 3px 1px rgba(0, 0, 0, 0.15);\n",
       "      filter: drop-shadow(0px 1px 2px rgba(0, 0, 0, 0.3));\n",
       "      fill: #FFFFFF;\n",
       "    }\n",
       "  </style>\n",
       "\n",
       "      <script>\n",
       "        const buttonEl =\n",
       "          document.querySelector('#df-d78ecb16-0300-4489-9786-243985704ae8 button.colab-df-convert');\n",
       "        buttonEl.style.display =\n",
       "          google.colab.kernel.accessAllowed ? 'block' : 'none';\n",
       "\n",
       "        async function convertToInteractive(key) {\n",
       "          const element = document.querySelector('#df-d78ecb16-0300-4489-9786-243985704ae8');\n",
       "          const dataTable =\n",
       "            await google.colab.kernel.invokeFunction('convertToInteractive',\n",
       "                                                     [key], {});\n",
       "          if (!dataTable) return;\n",
       "\n",
       "          const docLinkHtml = 'Like what you see? Visit the ' +\n",
       "            '<a target=\"_blank\" href=https://colab.research.google.com/notebooks/data_table.ipynb>data table notebook</a>'\n",
       "            + ' to learn more about interactive tables.';\n",
       "          element.innerHTML = '';\n",
       "          dataTable['output_type'] = 'display_data';\n",
       "          await google.colab.output.renderOutput(dataTable, element);\n",
       "          const docLink = document.createElement('div');\n",
       "          docLink.innerHTML = docLinkHtml;\n",
       "          element.appendChild(docLink);\n",
       "        }\n",
       "      </script>\n",
       "    </div>\n",
       "  </div>\n",
       "  "
      ],
      "text/plain": [
       "              id    $   VBD   UH   NNS  JJS  NNP   ''  PDT    IN  ...  PRP$  \\\n",
       "0            1.0  0.0   3.0  0.0   5.0  0.0  0.0  0.0  0.0   7.0  ...   1.0   \n",
       "1            2.0  0.0   1.0  0.0  10.0  0.0  0.0  0.0  0.0  23.0  ...   0.0   \n",
       "2            3.0  0.0  16.0  0.0  24.0  1.0  0.0  0.0  0.0  40.0  ...   3.0   \n",
       "3            4.0  0.0   1.0  0.0  15.0  0.0  0.0  0.0  0.0  13.0  ...   1.0   \n",
       "4            5.0  0.0   0.0  0.0   5.0  0.0  0.0  0.0  0.0   4.0  ...   0.0   \n",
       "...          ...  ...   ...  ...   ...  ...  ...  ...  ...   ...  ...   ...   \n",
       "837829  836621.0  0.0   4.0  0.0  19.0  0.0  1.0  0.0  0.0   5.0  ...   0.0   \n",
       "837830  836622.0  0.0  20.0  0.0  28.0  0.0  0.0  0.0  0.0  68.0  ...   5.0   \n",
       "837831  836623.0  0.0   0.0  0.0   1.0  0.0  0.0  0.0  0.0   8.0  ...   0.0   \n",
       "837832  344599.0  0.0   1.0  0.0   5.0  0.0  0.0  0.0  0.0  11.0  ...   1.0   \n",
       "837833  836624.0  0.0   1.0  0.0   8.0  0.0  0.0  0.0  0.0   6.0  ...   1.0   \n",
       "\n",
       "          RB  WP$    CD    DT   TO   MD  PRP  WRB   WP  \n",
       "0        3.0  0.0   6.0   6.0  1.0  0.0  2.0  0.0  0.0  \n",
       "1        4.0  0.0  13.0  26.0  2.0  0.0  3.0  1.0  0.0  \n",
       "2        4.0  0.0  12.0  24.0  4.0  1.0  2.0  0.0  1.0  \n",
       "3        6.0  0.0   1.0   6.0  3.0  1.0  0.0  0.0  0.0  \n",
       "4        3.0  0.0   2.0   4.0  0.0  0.0  1.0  0.0  0.0  \n",
       "...      ...  ...   ...   ...  ...  ...  ...  ...  ...  \n",
       "837829   0.0  0.0   8.0   3.0  0.0  0.0  2.0  0.0  0.0  \n",
       "837830  11.0  0.0  27.0  55.0  5.0  2.0  1.0  2.0  0.0  \n",
       "837831   2.0  0.0   3.0   9.0  1.0  1.0  0.0  0.0  0.0  \n",
       "837832   1.0  0.0   0.0   5.0  0.0  0.0  1.0  0.0  0.0  \n",
       "837833   0.0  0.0   4.0   3.0  0.0  0.0  0.0  0.0  0.0  \n",
       "\n",
       "[837834 rows x 38 columns]"
      ]
     },
     "execution_count": 22,
     "metadata": {},
     "output_type": "execute_result"
    }
   ],
   "source": [
    "df_node_embedding = pd.DataFrame(node_embedding)\n",
    "df_node_embedding.columns = [\"id\"] + postag\n",
    "df_node_embedding"
   ]
  },
  {
   "cell_type": "code",
   "execution_count": null,
   "metadata": {
    "id": "meNz3ngvOcr4"
   },
   "outputs": [],
   "source": [
    "df_node_embedding.to_csv(\"/content/drive/MyDrive/Code/DSAA/data/nodes/node_embedding_Tam.csv\", index = False)"
   ]
  },
  {
   "cell_type": "code",
   "execution_count": null,
   "metadata": {
    "id": "EF7eRd9PeHVL"
   },
   "outputs": [],
   "source": [
    "df_node_embedding = pd.read_csv(\"/content/drive/MyDrive/Code/DSAA/data/nodes/node_embedding.csv\")\n",
    "df_node_embedding['id'] = df_node_embedding['id'].astype(int)"
   ]
  },
  {
   "cell_type": "code",
   "execution_count": null,
   "metadata": {
    "colab": {
     "base_uri": "https://localhost:8080/",
     "height": 487
    },
    "executionInfo": {
     "elapsed": 5,
     "status": "ok",
     "timestamp": 1684838915649,
     "user": {
      "displayName": "Anh Trần Hoàng",
      "userId": "03160318258477081697"
     },
     "user_tz": -420
    },
    "id": "pMM7ZJNTMWyR",
    "outputId": "c180a0c9-9c26-4a2f-a498-24f4263006fa"
   },
   "outputs": [
    {
     "data": {
      "text/html": [
       "\n",
       "  <div id=\"df-44f40641-ec91-4505-8fc0-f8c7513c1ea7\">\n",
       "    <div class=\"colab-df-container\">\n",
       "      <div>\n",
       "<style scoped>\n",
       "    .dataframe tbody tr th:only-of-type {\n",
       "        vertical-align: middle;\n",
       "    }\n",
       "\n",
       "    .dataframe tbody tr th {\n",
       "        vertical-align: top;\n",
       "    }\n",
       "\n",
       "    .dataframe thead th {\n",
       "        text-align: right;\n",
       "    }\n",
       "</style>\n",
       "<table border=\"1\" class=\"dataframe\">\n",
       "  <thead>\n",
       "    <tr style=\"text-align: right;\">\n",
       "      <th></th>\n",
       "      <th>id</th>\n",
       "      <th>.</th>\n",
       "      <th>(</th>\n",
       "      <th>NNPS</th>\n",
       "      <th>WDT</th>\n",
       "      <th>VBP</th>\n",
       "      <th>RBS</th>\n",
       "      <th>NNS</th>\n",
       "      <th>JJR</th>\n",
       "      <th>VBG</th>\n",
       "      <th>...</th>\n",
       "      <th>MD</th>\n",
       "      <th>PRP$</th>\n",
       "      <th>CC</th>\n",
       "      <th>SYM</th>\n",
       "      <th>WRB</th>\n",
       "      <th>NNP</th>\n",
       "      <th>VBZ</th>\n",
       "      <th>''</th>\n",
       "      <th>VBN</th>\n",
       "      <th>CD</th>\n",
       "    </tr>\n",
       "  </thead>\n",
       "  <tbody>\n",
       "    <tr>\n",
       "      <th>0</th>\n",
       "      <td>1</td>\n",
       "      <td>6.0</td>\n",
       "      <td>3.0</td>\n",
       "      <td>0.0</td>\n",
       "      <td>0.0</td>\n",
       "      <td>1.0</td>\n",
       "      <td>0.0</td>\n",
       "      <td>3.0</td>\n",
       "      <td>0.0</td>\n",
       "      <td>2.0</td>\n",
       "      <td>...</td>\n",
       "      <td>0.0</td>\n",
       "      <td>1.0</td>\n",
       "      <td>1.0</td>\n",
       "      <td>0.0</td>\n",
       "      <td>0.0</td>\n",
       "      <td>0.0</td>\n",
       "      <td>4.0</td>\n",
       "      <td>0.0</td>\n",
       "      <td>3.0</td>\n",
       "      <td>5.0</td>\n",
       "    </tr>\n",
       "    <tr>\n",
       "      <th>1</th>\n",
       "      <td>2</td>\n",
       "      <td>8.0</td>\n",
       "      <td>0.0</td>\n",
       "      <td>0.0</td>\n",
       "      <td>2.0</td>\n",
       "      <td>3.0</td>\n",
       "      <td>0.0</td>\n",
       "      <td>11.0</td>\n",
       "      <td>0.0</td>\n",
       "      <td>1.0</td>\n",
       "      <td>...</td>\n",
       "      <td>0.0</td>\n",
       "      <td>0.0</td>\n",
       "      <td>5.0</td>\n",
       "      <td>0.0</td>\n",
       "      <td>1.0</td>\n",
       "      <td>0.0</td>\n",
       "      <td>7.0</td>\n",
       "      <td>0.0</td>\n",
       "      <td>5.0</td>\n",
       "      <td>5.0</td>\n",
       "    </tr>\n",
       "    <tr>\n",
       "      <th>2</th>\n",
       "      <td>3</td>\n",
       "      <td>10.0</td>\n",
       "      <td>2.0</td>\n",
       "      <td>0.0</td>\n",
       "      <td>1.0</td>\n",
       "      <td>1.0</td>\n",
       "      <td>0.0</td>\n",
       "      <td>25.0</td>\n",
       "      <td>0.0</td>\n",
       "      <td>4.0</td>\n",
       "      <td>...</td>\n",
       "      <td>1.0</td>\n",
       "      <td>3.0</td>\n",
       "      <td>9.0</td>\n",
       "      <td>0.0</td>\n",
       "      <td>0.0</td>\n",
       "      <td>0.0</td>\n",
       "      <td>2.0</td>\n",
       "      <td>0.0</td>\n",
       "      <td>11.0</td>\n",
       "      <td>10.0</td>\n",
       "    </tr>\n",
       "    <tr>\n",
       "      <th>3</th>\n",
       "      <td>4</td>\n",
       "      <td>4.0</td>\n",
       "      <td>1.0</td>\n",
       "      <td>0.0</td>\n",
       "      <td>0.0</td>\n",
       "      <td>1.0</td>\n",
       "      <td>0.0</td>\n",
       "      <td>10.0</td>\n",
       "      <td>0.0</td>\n",
       "      <td>0.0</td>\n",
       "      <td>...</td>\n",
       "      <td>1.0</td>\n",
       "      <td>1.0</td>\n",
       "      <td>6.0</td>\n",
       "      <td>0.0</td>\n",
       "      <td>0.0</td>\n",
       "      <td>2.0</td>\n",
       "      <td>3.0</td>\n",
       "      <td>0.0</td>\n",
       "      <td>4.0</td>\n",
       "      <td>1.0</td>\n",
       "    </tr>\n",
       "    <tr>\n",
       "      <th>4</th>\n",
       "      <td>5</td>\n",
       "      <td>3.0</td>\n",
       "      <td>2.0</td>\n",
       "      <td>0.0</td>\n",
       "      <td>0.0</td>\n",
       "      <td>0.0</td>\n",
       "      <td>0.0</td>\n",
       "      <td>4.0</td>\n",
       "      <td>0.0</td>\n",
       "      <td>0.0</td>\n",
       "      <td>...</td>\n",
       "      <td>0.0</td>\n",
       "      <td>0.0</td>\n",
       "      <td>1.0</td>\n",
       "      <td>0.0</td>\n",
       "      <td>0.0</td>\n",
       "      <td>0.0</td>\n",
       "      <td>3.0</td>\n",
       "      <td>0.0</td>\n",
       "      <td>1.0</td>\n",
       "      <td>1.0</td>\n",
       "    </tr>\n",
       "    <tr>\n",
       "      <th>...</th>\n",
       "      <td>...</td>\n",
       "      <td>...</td>\n",
       "      <td>...</td>\n",
       "      <td>...</td>\n",
       "      <td>...</td>\n",
       "      <td>...</td>\n",
       "      <td>...</td>\n",
       "      <td>...</td>\n",
       "      <td>...</td>\n",
       "      <td>...</td>\n",
       "      <td>...</td>\n",
       "      <td>...</td>\n",
       "      <td>...</td>\n",
       "      <td>...</td>\n",
       "      <td>...</td>\n",
       "      <td>...</td>\n",
       "      <td>...</td>\n",
       "      <td>...</td>\n",
       "      <td>...</td>\n",
       "      <td>...</td>\n",
       "      <td>...</td>\n",
       "    </tr>\n",
       "    <tr>\n",
       "      <th>837829</th>\n",
       "      <td>836621</td>\n",
       "      <td>2.0</td>\n",
       "      <td>1.0</td>\n",
       "      <td>0.0</td>\n",
       "      <td>0.0</td>\n",
       "      <td>0.0</td>\n",
       "      <td>0.0</td>\n",
       "      <td>7.0</td>\n",
       "      <td>0.0</td>\n",
       "      <td>0.0</td>\n",
       "      <td>...</td>\n",
       "      <td>0.0</td>\n",
       "      <td>0.0</td>\n",
       "      <td>3.0</td>\n",
       "      <td>0.0</td>\n",
       "      <td>0.0</td>\n",
       "      <td>0.0</td>\n",
       "      <td>2.0</td>\n",
       "      <td>0.0</td>\n",
       "      <td>1.0</td>\n",
       "      <td>0.0</td>\n",
       "    </tr>\n",
       "    <tr>\n",
       "      <th>837830</th>\n",
       "      <td>836622</td>\n",
       "      <td>12.0</td>\n",
       "      <td>7.0</td>\n",
       "      <td>0.0</td>\n",
       "      <td>1.0</td>\n",
       "      <td>0.0</td>\n",
       "      <td>0.0</td>\n",
       "      <td>28.0</td>\n",
       "      <td>1.0</td>\n",
       "      <td>7.0</td>\n",
       "      <td>...</td>\n",
       "      <td>1.0</td>\n",
       "      <td>5.0</td>\n",
       "      <td>10.0</td>\n",
       "      <td>0.0</td>\n",
       "      <td>2.0</td>\n",
       "      <td>0.0</td>\n",
       "      <td>0.0</td>\n",
       "      <td>0.0</td>\n",
       "      <td>10.0</td>\n",
       "      <td>14.0</td>\n",
       "    </tr>\n",
       "    <tr>\n",
       "      <th>837831</th>\n",
       "      <td>836623</td>\n",
       "      <td>2.0</td>\n",
       "      <td>1.0</td>\n",
       "      <td>0.0</td>\n",
       "      <td>0.0</td>\n",
       "      <td>0.0</td>\n",
       "      <td>0.0</td>\n",
       "      <td>0.0</td>\n",
       "      <td>0.0</td>\n",
       "      <td>0.0</td>\n",
       "      <td>...</td>\n",
       "      <td>1.0</td>\n",
       "      <td>0.0</td>\n",
       "      <td>1.0</td>\n",
       "      <td>0.0</td>\n",
       "      <td>0.0</td>\n",
       "      <td>0.0</td>\n",
       "      <td>0.0</td>\n",
       "      <td>0.0</td>\n",
       "      <td>3.0</td>\n",
       "      <td>2.0</td>\n",
       "    </tr>\n",
       "    <tr>\n",
       "      <th>837832</th>\n",
       "      <td>344599</td>\n",
       "      <td>3.0</td>\n",
       "      <td>2.0</td>\n",
       "      <td>0.0</td>\n",
       "      <td>0.0</td>\n",
       "      <td>2.0</td>\n",
       "      <td>0.0</td>\n",
       "      <td>6.0</td>\n",
       "      <td>0.0</td>\n",
       "      <td>3.0</td>\n",
       "      <td>...</td>\n",
       "      <td>0.0</td>\n",
       "      <td>1.0</td>\n",
       "      <td>1.0</td>\n",
       "      <td>0.0</td>\n",
       "      <td>0.0</td>\n",
       "      <td>0.0</td>\n",
       "      <td>3.0</td>\n",
       "      <td>0.0</td>\n",
       "      <td>2.0</td>\n",
       "      <td>0.0</td>\n",
       "    </tr>\n",
       "    <tr>\n",
       "      <th>837833</th>\n",
       "      <td>836624</td>\n",
       "      <td>1.0</td>\n",
       "      <td>0.0</td>\n",
       "      <td>0.0</td>\n",
       "      <td>0.0</td>\n",
       "      <td>0.0</td>\n",
       "      <td>0.0</td>\n",
       "      <td>1.0</td>\n",
       "      <td>0.0</td>\n",
       "      <td>1.0</td>\n",
       "      <td>...</td>\n",
       "      <td>0.0</td>\n",
       "      <td>1.0</td>\n",
       "      <td>2.0</td>\n",
       "      <td>0.0</td>\n",
       "      <td>0.0</td>\n",
       "      <td>0.0</td>\n",
       "      <td>1.0</td>\n",
       "      <td>0.0</td>\n",
       "      <td>1.0</td>\n",
       "      <td>0.0</td>\n",
       "    </tr>\n",
       "  </tbody>\n",
       "</table>\n",
       "<p>837834 rows × 45 columns</p>\n",
       "</div>\n",
       "      <button class=\"colab-df-convert\" onclick=\"convertToInteractive('df-44f40641-ec91-4505-8fc0-f8c7513c1ea7')\"\n",
       "              title=\"Convert this dataframe to an interactive table.\"\n",
       "              style=\"display:none;\">\n",
       "        \n",
       "  <svg xmlns=\"http://www.w3.org/2000/svg\" height=\"24px\"viewBox=\"0 0 24 24\"\n",
       "       width=\"24px\">\n",
       "    <path d=\"M0 0h24v24H0V0z\" fill=\"none\"/>\n",
       "    <path d=\"M18.56 5.44l.94 2.06.94-2.06 2.06-.94-2.06-.94-.94-2.06-.94 2.06-2.06.94zm-11 1L8.5 8.5l.94-2.06 2.06-.94-2.06-.94L8.5 2.5l-.94 2.06-2.06.94zm10 10l.94 2.06.94-2.06 2.06-.94-2.06-.94-.94-2.06-.94 2.06-2.06.94z\"/><path d=\"M17.41 7.96l-1.37-1.37c-.4-.4-.92-.59-1.43-.59-.52 0-1.04.2-1.43.59L10.3 9.45l-7.72 7.72c-.78.78-.78 2.05 0 2.83L4 21.41c.39.39.9.59 1.41.59.51 0 1.02-.2 1.41-.59l7.78-7.78 2.81-2.81c.8-.78.8-2.07 0-2.86zM5.41 20L4 18.59l7.72-7.72 1.47 1.35L5.41 20z\"/>\n",
       "  </svg>\n",
       "      </button>\n",
       "      \n",
       "  <style>\n",
       "    .colab-df-container {\n",
       "      display:flex;\n",
       "      flex-wrap:wrap;\n",
       "      gap: 12px;\n",
       "    }\n",
       "\n",
       "    .colab-df-convert {\n",
       "      background-color: #E8F0FE;\n",
       "      border: none;\n",
       "      border-radius: 50%;\n",
       "      cursor: pointer;\n",
       "      display: none;\n",
       "      fill: #1967D2;\n",
       "      height: 32px;\n",
       "      padding: 0 0 0 0;\n",
       "      width: 32px;\n",
       "    }\n",
       "\n",
       "    .colab-df-convert:hover {\n",
       "      background-color: #E2EBFA;\n",
       "      box-shadow: 0px 1px 2px rgba(60, 64, 67, 0.3), 0px 1px 3px 1px rgba(60, 64, 67, 0.15);\n",
       "      fill: #174EA6;\n",
       "    }\n",
       "\n",
       "    [theme=dark] .colab-df-convert {\n",
       "      background-color: #3B4455;\n",
       "      fill: #D2E3FC;\n",
       "    }\n",
       "\n",
       "    [theme=dark] .colab-df-convert:hover {\n",
       "      background-color: #434B5C;\n",
       "      box-shadow: 0px 1px 3px 1px rgba(0, 0, 0, 0.15);\n",
       "      filter: drop-shadow(0px 1px 2px rgba(0, 0, 0, 0.3));\n",
       "      fill: #FFFFFF;\n",
       "    }\n",
       "  </style>\n",
       "\n",
       "      <script>\n",
       "        const buttonEl =\n",
       "          document.querySelector('#df-44f40641-ec91-4505-8fc0-f8c7513c1ea7 button.colab-df-convert');\n",
       "        buttonEl.style.display =\n",
       "          google.colab.kernel.accessAllowed ? 'block' : 'none';\n",
       "\n",
       "        async function convertToInteractive(key) {\n",
       "          const element = document.querySelector('#df-44f40641-ec91-4505-8fc0-f8c7513c1ea7');\n",
       "          const dataTable =\n",
       "            await google.colab.kernel.invokeFunction('convertToInteractive',\n",
       "                                                     [key], {});\n",
       "          if (!dataTable) return;\n",
       "\n",
       "          const docLinkHtml = 'Like what you see? Visit the ' +\n",
       "            '<a target=\"_blank\" href=https://colab.research.google.com/notebooks/data_table.ipynb>data table notebook</a>'\n",
       "            + ' to learn more about interactive tables.';\n",
       "          element.innerHTML = '';\n",
       "          dataTable['output_type'] = 'display_data';\n",
       "          await google.colab.output.renderOutput(dataTable, element);\n",
       "          const docLink = document.createElement('div');\n",
       "          docLink.innerHTML = docLinkHtml;\n",
       "          element.appendChild(docLink);\n",
       "        }\n",
       "      </script>\n",
       "    </div>\n",
       "  </div>\n",
       "  "
      ],
      "text/plain": [
       "            id     .    (  NNPS  WDT  VBP  RBS   NNS  JJR  VBG  ...   MD  \\\n",
       "0            1   6.0  3.0   0.0  0.0  1.0  0.0   3.0  0.0  2.0  ...  0.0   \n",
       "1            2   8.0  0.0   0.0  2.0  3.0  0.0  11.0  0.0  1.0  ...  0.0   \n",
       "2            3  10.0  2.0   0.0  1.0  1.0  0.0  25.0  0.0  4.0  ...  1.0   \n",
       "3            4   4.0  1.0   0.0  0.0  1.0  0.0  10.0  0.0  0.0  ...  1.0   \n",
       "4            5   3.0  2.0   0.0  0.0  0.0  0.0   4.0  0.0  0.0  ...  0.0   \n",
       "...        ...   ...  ...   ...  ...  ...  ...   ...  ...  ...  ...  ...   \n",
       "837829  836621   2.0  1.0   0.0  0.0  0.0  0.0   7.0  0.0  0.0  ...  0.0   \n",
       "837830  836622  12.0  7.0   0.0  1.0  0.0  0.0  28.0  1.0  7.0  ...  1.0   \n",
       "837831  836623   2.0  1.0   0.0  0.0  0.0  0.0   0.0  0.0  0.0  ...  1.0   \n",
       "837832  344599   3.0  2.0   0.0  0.0  2.0  0.0   6.0  0.0  3.0  ...  0.0   \n",
       "837833  836624   1.0  0.0   0.0  0.0  0.0  0.0   1.0  0.0  1.0  ...  0.0   \n",
       "\n",
       "        PRP$    CC  SYM  WRB  NNP  VBZ   ''   VBN    CD  \n",
       "0        1.0   1.0  0.0  0.0  0.0  4.0  0.0   3.0   5.0  \n",
       "1        0.0   5.0  0.0  1.0  0.0  7.0  0.0   5.0   5.0  \n",
       "2        3.0   9.0  0.0  0.0  0.0  2.0  0.0  11.0  10.0  \n",
       "3        1.0   6.0  0.0  0.0  2.0  3.0  0.0   4.0   1.0  \n",
       "4        0.0   1.0  0.0  0.0  0.0  3.0  0.0   1.0   1.0  \n",
       "...      ...   ...  ...  ...  ...  ...  ...   ...   ...  \n",
       "837829   0.0   3.0  0.0  0.0  0.0  2.0  0.0   1.0   0.0  \n",
       "837830   5.0  10.0  0.0  2.0  0.0  0.0  0.0  10.0  14.0  \n",
       "837831   0.0   1.0  0.0  0.0  0.0  0.0  0.0   3.0   2.0  \n",
       "837832   1.0   1.0  0.0  0.0  0.0  3.0  0.0   2.0   0.0  \n",
       "837833   1.0   2.0  0.0  0.0  0.0  1.0  0.0   1.0   0.0  \n",
       "\n",
       "[837834 rows x 45 columns]"
      ]
     },
     "execution_count": 10,
     "metadata": {},
     "output_type": "execute_result"
    }
   ],
   "source": [
    "df_node_embedding"
   ]
  },
  {
   "cell_type": "markdown",
   "metadata": {
    "id": "w63mYP35nK64"
   },
   "source": [
    "# Make embedded training set"
   ]
  },
  {
   "cell_type": "code",
   "execution_count": null,
   "metadata": {
    "id": "FEu5M8ptjC85"
   },
   "outputs": [],
   "source": [
    "nametrain = \"trainset_embedded_nltk_full\"\n",
    "nametest = \"testset_embedded_nltk_full\""
   ]
  },
  {
   "cell_type": "code",
   "execution_count": null,
   "metadata": {
    "id": "rArbPY5Hes0o"
   },
   "outputs": [],
   "source": [
    "# embed_postag = [\"NN\", \"IN\", \"JJ\", \"DT\", \"NNS\",\",\",\".\",\"CD\",\"CC\",\"VBZ\",\"VBN\",\"VBD\"]\n",
    "embed_postag = list(df_node_embedding.columns)\n",
    "embed_postag.remove(\"id\")\n",
    "# embed_postag = [\"CC\",\"CD\",\"DT\",\"IN\",\"JJ\",\"JJR\",\"JJS\",\"MD\",\"NN\",\"NNS\",\"PRP\",\"PRP$\",\"RB\",\"TO\",\"VB\",\"VBD\",\"VBG\",\"VBN\"]\n",
    "# embed_postag = postag\n",
    "embedded_nodeset = df_node_embedding[embed_postag]"
   ]
  },
  {
   "cell_type": "code",
   "execution_count": null,
   "metadata": {
    "colab": {
     "base_uri": "https://localhost:8080/"
    },
    "executionInfo": {
     "elapsed": 3,
     "status": "ok",
     "timestamp": 1684915555047,
     "user": {
      "displayName": "Anh Trần Hoàng",
      "userId": "03160318258477081697"
     },
     "user_tz": -420
    },
    "id": "Nyd1H5w4ROje",
    "outputId": "76b0ff52-3b7d-4b87-f065-765d5addaf57"
   },
   "outputs": [
    {
     "data": {
      "text/plain": [
       "37"
      ]
     },
     "execution_count": 32,
     "metadata": {},
     "output_type": "execute_result"
    }
   ],
   "source": [
    "len(embed_postag)"
   ]
  },
  {
   "cell_type": "code",
   "execution_count": null,
   "metadata": {
    "colab": {
     "base_uri": "https://localhost:8080/"
    },
    "executionInfo": {
     "elapsed": 149732,
     "status": "ok",
     "timestamp": 1684915704777,
     "user": {
      "displayName": "Anh Trần Hoàng",
      "userId": "03160318258477081697"
     },
     "user_tz": -420
    },
    "id": "Kd9c5eAheRV2",
    "outputId": "42da0a3b-9528-4351-d422-5da9d8426323"
   },
   "outputs": [
    {
     "name": "stderr",
     "output_type": "stream",
     "text": [
      "100%|██████████| 948232/948232 [02:29<00:00, 6323.88it/s]\n"
     ]
    }
   ],
   "source": [
    "train_embedded_test = []\n",
    "\n",
    "for i in tqdm(range(len(train))):\n",
    "  idx1 = train['id1'][i]\n",
    "  idx2 = train['id2'][i]\n",
    "  train_embedded_test.append(list(embedded_nodeset.loc[idx1]) + list(embedded_nodeset.loc[idx2]))"
   ]
  },
  {
   "cell_type": "code",
   "execution_count": null,
   "metadata": {
    "id": "u5ef-68Rnc6y"
   },
   "outputs": [],
   "source": [
    "# train_embedded = []\n",
    "# for i in tqdm(range(len(train))):\n",
    "#   p1, p2 = get_postag_pair(i, train, embedded_df)\n",
    "#   train_embedded.append(p1+p2)"
   ]
  },
  {
   "cell_type": "code",
   "execution_count": null,
   "metadata": {
    "colab": {
     "base_uri": "https://localhost:8080/"
    },
    "executionInfo": {
     "elapsed": 25180,
     "status": "ok",
     "timestamp": 1684915729948,
     "user": {
      "displayName": "Anh Trần Hoàng",
      "userId": "03160318258477081697"
     },
     "user_tz": -420
    },
    "id": "BtU5whsPypBX",
    "outputId": "8ff59c59-0e47-4adc-9408-e08b2006c803"
   },
   "outputs": [
    {
     "data": {
      "text/html": [
       "\n",
       "  <div id=\"df-c2d6996a-ade7-4146-bac5-66a3b0fa5431\">\n",
       "    <div class=\"colab-df-container\">\n",
       "      <div>\n",
       "<style scoped>\n",
       "    .dataframe tbody tr th:only-of-type {\n",
       "        vertical-align: middle;\n",
       "    }\n",
       "\n",
       "    .dataframe tbody tr th {\n",
       "        vertical-align: top;\n",
       "    }\n",
       "\n",
       "    .dataframe thead th {\n",
       "        text-align: right;\n",
       "    }\n",
       "</style>\n",
       "<table border=\"1\" class=\"dataframe\">\n",
       "  <thead>\n",
       "    <tr style=\"text-align: right;\">\n",
       "      <th></th>\n",
       "      <th>$1</th>\n",
       "      <th>VBD1</th>\n",
       "      <th>UH1</th>\n",
       "      <th>NNS1</th>\n",
       "      <th>JJS1</th>\n",
       "      <th>NNP1</th>\n",
       "      <th>''1</th>\n",
       "      <th>PDT1</th>\n",
       "      <th>IN1</th>\n",
       "      <th>JJR1</th>\n",
       "      <th>...</th>\n",
       "      <th>RB2</th>\n",
       "      <th>WP$2</th>\n",
       "      <th>CD2</th>\n",
       "      <th>DT2</th>\n",
       "      <th>TO2</th>\n",
       "      <th>MD2</th>\n",
       "      <th>PRP2</th>\n",
       "      <th>WRB2</th>\n",
       "      <th>WP2</th>\n",
       "      <th>label</th>\n",
       "    </tr>\n",
       "  </thead>\n",
       "  <tbody>\n",
       "    <tr>\n",
       "      <th>0</th>\n",
       "      <td>0.0</td>\n",
       "      <td>2.0</td>\n",
       "      <td>0.0</td>\n",
       "      <td>8.0</td>\n",
       "      <td>0.0</td>\n",
       "      <td>0.0</td>\n",
       "      <td>0.0</td>\n",
       "      <td>0.0</td>\n",
       "      <td>6.0</td>\n",
       "      <td>0.0</td>\n",
       "      <td>...</td>\n",
       "      <td>1.0</td>\n",
       "      <td>0.0</td>\n",
       "      <td>2.0</td>\n",
       "      <td>2.0</td>\n",
       "      <td>0.0</td>\n",
       "      <td>0.0</td>\n",
       "      <td>0.0</td>\n",
       "      <td>0.0</td>\n",
       "      <td>0.0</td>\n",
       "      <td>1</td>\n",
       "    </tr>\n",
       "    <tr>\n",
       "      <th>1</th>\n",
       "      <td>0.0</td>\n",
       "      <td>0.0</td>\n",
       "      <td>0.0</td>\n",
       "      <td>4.0</td>\n",
       "      <td>0.0</td>\n",
       "      <td>0.0</td>\n",
       "      <td>0.0</td>\n",
       "      <td>0.0</td>\n",
       "      <td>3.0</td>\n",
       "      <td>0.0</td>\n",
       "      <td>...</td>\n",
       "      <td>1.0</td>\n",
       "      <td>0.0</td>\n",
       "      <td>41.0</td>\n",
       "      <td>4.0</td>\n",
       "      <td>0.0</td>\n",
       "      <td>0.0</td>\n",
       "      <td>1.0</td>\n",
       "      <td>0.0</td>\n",
       "      <td>0.0</td>\n",
       "      <td>0</td>\n",
       "    </tr>\n",
       "    <tr>\n",
       "      <th>2</th>\n",
       "      <td>0.0</td>\n",
       "      <td>4.0</td>\n",
       "      <td>0.0</td>\n",
       "      <td>30.0</td>\n",
       "      <td>2.0</td>\n",
       "      <td>0.0</td>\n",
       "      <td>0.0</td>\n",
       "      <td>0.0</td>\n",
       "      <td>49.0</td>\n",
       "      <td>0.0</td>\n",
       "      <td>...</td>\n",
       "      <td>1.0</td>\n",
       "      <td>0.0</td>\n",
       "      <td>6.0</td>\n",
       "      <td>2.0</td>\n",
       "      <td>1.0</td>\n",
       "      <td>0.0</td>\n",
       "      <td>1.0</td>\n",
       "      <td>0.0</td>\n",
       "      <td>0.0</td>\n",
       "      <td>1</td>\n",
       "    </tr>\n",
       "    <tr>\n",
       "      <th>3</th>\n",
       "      <td>0.0</td>\n",
       "      <td>13.0</td>\n",
       "      <td>0.0</td>\n",
       "      <td>25.0</td>\n",
       "      <td>0.0</td>\n",
       "      <td>2.0</td>\n",
       "      <td>0.0</td>\n",
       "      <td>0.0</td>\n",
       "      <td>30.0</td>\n",
       "      <td>1.0</td>\n",
       "      <td>...</td>\n",
       "      <td>0.0</td>\n",
       "      <td>0.0</td>\n",
       "      <td>2.0</td>\n",
       "      <td>3.0</td>\n",
       "      <td>1.0</td>\n",
       "      <td>0.0</td>\n",
       "      <td>1.0</td>\n",
       "      <td>0.0</td>\n",
       "      <td>0.0</td>\n",
       "      <td>0</td>\n",
       "    </tr>\n",
       "    <tr>\n",
       "      <th>4</th>\n",
       "      <td>0.0</td>\n",
       "      <td>0.0</td>\n",
       "      <td>0.0</td>\n",
       "      <td>2.0</td>\n",
       "      <td>0.0</td>\n",
       "      <td>0.0</td>\n",
       "      <td>0.0</td>\n",
       "      <td>0.0</td>\n",
       "      <td>2.0</td>\n",
       "      <td>0.0</td>\n",
       "      <td>...</td>\n",
       "      <td>2.0</td>\n",
       "      <td>0.0</td>\n",
       "      <td>7.0</td>\n",
       "      <td>7.0</td>\n",
       "      <td>0.0</td>\n",
       "      <td>0.0</td>\n",
       "      <td>2.0</td>\n",
       "      <td>0.0</td>\n",
       "      <td>1.0</td>\n",
       "      <td>0</td>\n",
       "    </tr>\n",
       "    <tr>\n",
       "      <th>...</th>\n",
       "      <td>...</td>\n",
       "      <td>...</td>\n",
       "      <td>...</td>\n",
       "      <td>...</td>\n",
       "      <td>...</td>\n",
       "      <td>...</td>\n",
       "      <td>...</td>\n",
       "      <td>...</td>\n",
       "      <td>...</td>\n",
       "      <td>...</td>\n",
       "      <td>...</td>\n",
       "      <td>...</td>\n",
       "      <td>...</td>\n",
       "      <td>...</td>\n",
       "      <td>...</td>\n",
       "      <td>...</td>\n",
       "      <td>...</td>\n",
       "      <td>...</td>\n",
       "      <td>...</td>\n",
       "      <td>...</td>\n",
       "      <td>...</td>\n",
       "    </tr>\n",
       "    <tr>\n",
       "      <th>948227</th>\n",
       "      <td>0.0</td>\n",
       "      <td>4.0</td>\n",
       "      <td>0.0</td>\n",
       "      <td>3.0</td>\n",
       "      <td>0.0</td>\n",
       "      <td>0.0</td>\n",
       "      <td>0.0</td>\n",
       "      <td>0.0</td>\n",
       "      <td>6.0</td>\n",
       "      <td>0.0</td>\n",
       "      <td>...</td>\n",
       "      <td>2.0</td>\n",
       "      <td>0.0</td>\n",
       "      <td>6.0</td>\n",
       "      <td>5.0</td>\n",
       "      <td>0.0</td>\n",
       "      <td>0.0</td>\n",
       "      <td>2.0</td>\n",
       "      <td>1.0</td>\n",
       "      <td>1.0</td>\n",
       "      <td>1</td>\n",
       "    </tr>\n",
       "    <tr>\n",
       "      <th>948228</th>\n",
       "      <td>0.0</td>\n",
       "      <td>6.0</td>\n",
       "      <td>0.0</td>\n",
       "      <td>21.0</td>\n",
       "      <td>0.0</td>\n",
       "      <td>0.0</td>\n",
       "      <td>0.0</td>\n",
       "      <td>0.0</td>\n",
       "      <td>28.0</td>\n",
       "      <td>0.0</td>\n",
       "      <td>...</td>\n",
       "      <td>3.0</td>\n",
       "      <td>0.0</td>\n",
       "      <td>5.0</td>\n",
       "      <td>6.0</td>\n",
       "      <td>2.0</td>\n",
       "      <td>0.0</td>\n",
       "      <td>2.0</td>\n",
       "      <td>0.0</td>\n",
       "      <td>0.0</td>\n",
       "      <td>0</td>\n",
       "    </tr>\n",
       "    <tr>\n",
       "      <th>948229</th>\n",
       "      <td>0.0</td>\n",
       "      <td>6.0</td>\n",
       "      <td>0.0</td>\n",
       "      <td>4.0</td>\n",
       "      <td>0.0</td>\n",
       "      <td>0.0</td>\n",
       "      <td>0.0</td>\n",
       "      <td>0.0</td>\n",
       "      <td>15.0</td>\n",
       "      <td>0.0</td>\n",
       "      <td>...</td>\n",
       "      <td>0.0</td>\n",
       "      <td>0.0</td>\n",
       "      <td>5.0</td>\n",
       "      <td>6.0</td>\n",
       "      <td>0.0</td>\n",
       "      <td>0.0</td>\n",
       "      <td>3.0</td>\n",
       "      <td>0.0</td>\n",
       "      <td>0.0</td>\n",
       "      <td>0</td>\n",
       "    </tr>\n",
       "    <tr>\n",
       "      <th>948230</th>\n",
       "      <td>0.0</td>\n",
       "      <td>0.0</td>\n",
       "      <td>0.0</td>\n",
       "      <td>0.0</td>\n",
       "      <td>0.0</td>\n",
       "      <td>0.0</td>\n",
       "      <td>0.0</td>\n",
       "      <td>0.0</td>\n",
       "      <td>3.0</td>\n",
       "      <td>0.0</td>\n",
       "      <td>...</td>\n",
       "      <td>2.0</td>\n",
       "      <td>0.0</td>\n",
       "      <td>5.0</td>\n",
       "      <td>4.0</td>\n",
       "      <td>0.0</td>\n",
       "      <td>0.0</td>\n",
       "      <td>1.0</td>\n",
       "      <td>0.0</td>\n",
       "      <td>0.0</td>\n",
       "      <td>0</td>\n",
       "    </tr>\n",
       "    <tr>\n",
       "      <th>948231</th>\n",
       "      <td>0.0</td>\n",
       "      <td>7.0</td>\n",
       "      <td>0.0</td>\n",
       "      <td>8.0</td>\n",
       "      <td>1.0</td>\n",
       "      <td>0.0</td>\n",
       "      <td>0.0</td>\n",
       "      <td>0.0</td>\n",
       "      <td>17.0</td>\n",
       "      <td>0.0</td>\n",
       "      <td>...</td>\n",
       "      <td>1.0</td>\n",
       "      <td>0.0</td>\n",
       "      <td>3.0</td>\n",
       "      <td>2.0</td>\n",
       "      <td>0.0</td>\n",
       "      <td>0.0</td>\n",
       "      <td>0.0</td>\n",
       "      <td>0.0</td>\n",
       "      <td>0.0</td>\n",
       "      <td>0</td>\n",
       "    </tr>\n",
       "  </tbody>\n",
       "</table>\n",
       "<p>948232 rows × 75 columns</p>\n",
       "</div>\n",
       "      <button class=\"colab-df-convert\" onclick=\"convertToInteractive('df-c2d6996a-ade7-4146-bac5-66a3b0fa5431')\"\n",
       "              title=\"Convert this dataframe to an interactive table.\"\n",
       "              style=\"display:none;\">\n",
       "        \n",
       "  <svg xmlns=\"http://www.w3.org/2000/svg\" height=\"24px\"viewBox=\"0 0 24 24\"\n",
       "       width=\"24px\">\n",
       "    <path d=\"M0 0h24v24H0V0z\" fill=\"none\"/>\n",
       "    <path d=\"M18.56 5.44l.94 2.06.94-2.06 2.06-.94-2.06-.94-.94-2.06-.94 2.06-2.06.94zm-11 1L8.5 8.5l.94-2.06 2.06-.94-2.06-.94L8.5 2.5l-.94 2.06-2.06.94zm10 10l.94 2.06.94-2.06 2.06-.94-2.06-.94-.94-2.06-.94 2.06-2.06.94z\"/><path d=\"M17.41 7.96l-1.37-1.37c-.4-.4-.92-.59-1.43-.59-.52 0-1.04.2-1.43.59L10.3 9.45l-7.72 7.72c-.78.78-.78 2.05 0 2.83L4 21.41c.39.39.9.59 1.41.59.51 0 1.02-.2 1.41-.59l7.78-7.78 2.81-2.81c.8-.78.8-2.07 0-2.86zM5.41 20L4 18.59l7.72-7.72 1.47 1.35L5.41 20z\"/>\n",
       "  </svg>\n",
       "      </button>\n",
       "      \n",
       "  <style>\n",
       "    .colab-df-container {\n",
       "      display:flex;\n",
       "      flex-wrap:wrap;\n",
       "      gap: 12px;\n",
       "    }\n",
       "\n",
       "    .colab-df-convert {\n",
       "      background-color: #E8F0FE;\n",
       "      border: none;\n",
       "      border-radius: 50%;\n",
       "      cursor: pointer;\n",
       "      display: none;\n",
       "      fill: #1967D2;\n",
       "      height: 32px;\n",
       "      padding: 0 0 0 0;\n",
       "      width: 32px;\n",
       "    }\n",
       "\n",
       "    .colab-df-convert:hover {\n",
       "      background-color: #E2EBFA;\n",
       "      box-shadow: 0px 1px 2px rgba(60, 64, 67, 0.3), 0px 1px 3px 1px rgba(60, 64, 67, 0.15);\n",
       "      fill: #174EA6;\n",
       "    }\n",
       "\n",
       "    [theme=dark] .colab-df-convert {\n",
       "      background-color: #3B4455;\n",
       "      fill: #D2E3FC;\n",
       "    }\n",
       "\n",
       "    [theme=dark] .colab-df-convert:hover {\n",
       "      background-color: #434B5C;\n",
       "      box-shadow: 0px 1px 3px 1px rgba(0, 0, 0, 0.15);\n",
       "      filter: drop-shadow(0px 1px 2px rgba(0, 0, 0, 0.3));\n",
       "      fill: #FFFFFF;\n",
       "    }\n",
       "  </style>\n",
       "\n",
       "      <script>\n",
       "        const buttonEl =\n",
       "          document.querySelector('#df-c2d6996a-ade7-4146-bac5-66a3b0fa5431 button.colab-df-convert');\n",
       "        buttonEl.style.display =\n",
       "          google.colab.kernel.accessAllowed ? 'block' : 'none';\n",
       "\n",
       "        async function convertToInteractive(key) {\n",
       "          const element = document.querySelector('#df-c2d6996a-ade7-4146-bac5-66a3b0fa5431');\n",
       "          const dataTable =\n",
       "            await google.colab.kernel.invokeFunction('convertToInteractive',\n",
       "                                                     [key], {});\n",
       "          if (!dataTable) return;\n",
       "\n",
       "          const docLinkHtml = 'Like what you see? Visit the ' +\n",
       "            '<a target=\"_blank\" href=https://colab.research.google.com/notebooks/data_table.ipynb>data table notebook</a>'\n",
       "            + ' to learn more about interactive tables.';\n",
       "          element.innerHTML = '';\n",
       "          dataTable['output_type'] = 'display_data';\n",
       "          await google.colab.output.renderOutput(dataTable, element);\n",
       "          const docLink = document.createElement('div');\n",
       "          docLink.innerHTML = docLinkHtml;\n",
       "          element.appendChild(docLink);\n",
       "        }\n",
       "      </script>\n",
       "    </div>\n",
       "  </div>\n",
       "  "
      ],
      "text/plain": [
       "         $1  VBD1  UH1  NNS1  JJS1  NNP1  ''1  PDT1   IN1  JJR1  ...  RB2  \\\n",
       "0       0.0   2.0  0.0   8.0   0.0   0.0  0.0   0.0   6.0   0.0  ...  1.0   \n",
       "1       0.0   0.0  0.0   4.0   0.0   0.0  0.0   0.0   3.0   0.0  ...  1.0   \n",
       "2       0.0   4.0  0.0  30.0   2.0   0.0  0.0   0.0  49.0   0.0  ...  1.0   \n",
       "3       0.0  13.0  0.0  25.0   0.0   2.0  0.0   0.0  30.0   1.0  ...  0.0   \n",
       "4       0.0   0.0  0.0   2.0   0.0   0.0  0.0   0.0   2.0   0.0  ...  2.0   \n",
       "...     ...   ...  ...   ...   ...   ...  ...   ...   ...   ...  ...  ...   \n",
       "948227  0.0   4.0  0.0   3.0   0.0   0.0  0.0   0.0   6.0   0.0  ...  2.0   \n",
       "948228  0.0   6.0  0.0  21.0   0.0   0.0  0.0   0.0  28.0   0.0  ...  3.0   \n",
       "948229  0.0   6.0  0.0   4.0   0.0   0.0  0.0   0.0  15.0   0.0  ...  0.0   \n",
       "948230  0.0   0.0  0.0   0.0   0.0   0.0  0.0   0.0   3.0   0.0  ...  2.0   \n",
       "948231  0.0   7.0  0.0   8.0   1.0   0.0  0.0   0.0  17.0   0.0  ...  1.0   \n",
       "\n",
       "        WP$2   CD2  DT2  TO2  MD2  PRP2  WRB2  WP2  label  \n",
       "0        0.0   2.0  2.0  0.0  0.0   0.0   0.0  0.0      1  \n",
       "1        0.0  41.0  4.0  0.0  0.0   1.0   0.0  0.0      0  \n",
       "2        0.0   6.0  2.0  1.0  0.0   1.0   0.0  0.0      1  \n",
       "3        0.0   2.0  3.0  1.0  0.0   1.0   0.0  0.0      0  \n",
       "4        0.0   7.0  7.0  0.0  0.0   2.0   0.0  1.0      0  \n",
       "...      ...   ...  ...  ...  ...   ...   ...  ...    ...  \n",
       "948227   0.0   6.0  5.0  0.0  0.0   2.0   1.0  1.0      1  \n",
       "948228   0.0   5.0  6.0  2.0  0.0   2.0   0.0  0.0      0  \n",
       "948229   0.0   5.0  6.0  0.0  0.0   3.0   0.0  0.0      0  \n",
       "948230   0.0   5.0  4.0  0.0  0.0   1.0   0.0  0.0      0  \n",
       "948231   0.0   3.0  2.0  0.0  0.0   0.0   0.0  0.0      0  \n",
       "\n",
       "[948232 rows x 75 columns]"
      ]
     },
     "execution_count": 35,
     "metadata": {},
     "output_type": "execute_result"
    }
   ],
   "source": [
    "train_df = pd.DataFrame(train_embedded_test)\n",
    "# train_df.drop([10,11,12,13,14,15,16,17,18,19], axis = 1, inplace = True)\n",
    "train_df.columns = name_postag(embed_postag, \"1\") + name_postag(embed_postag, \"2\")\n",
    "train_df = pd.concat([train_df, pd.DataFrame(train['label'])], axis =1).fillna(0)\n",
    "train_df"
   ]
  },
  {
   "cell_type": "code",
   "execution_count": null,
   "metadata": {
    "id": "rg56Zt64zDVE"
   },
   "outputs": [],
   "source": [
    "# Save\n",
    "train_df.to_csv(\"/content/drive/MyDrive/Code/DSAA/data/embedded/{}.csv\".format(nametrain))"
   ]
  },
  {
   "cell_type": "markdown",
   "metadata": {
    "id": "ujQ0xnwwOl01"
   },
   "source": [
    "# Make testset embedded"
   ]
  },
  {
   "cell_type": "code",
   "execution_count": null,
   "metadata": {
    "colab": {
     "base_uri": "https://localhost:8080/"
    },
    "executionInfo": {
     "elapsed": 37132,
     "status": "ok",
     "timestamp": 1684915814075,
     "user": {
      "displayName": "Anh Trần Hoàng",
      "userId": "03160318258477081697"
     },
     "user_tz": -420
    },
    "id": "ppd_RIKLOofd",
    "outputId": "6d87daee-aa45-4c15-d6ae-488df9da6ade"
   },
   "outputs": [
    {
     "name": "stderr",
     "output_type": "stream",
     "text": [
      "100%|██████████| 238364/238364 [00:37<00:00, 6344.41it/s]\n"
     ]
    }
   ],
   "source": [
    "test_embedded_test = []\n",
    "\n",
    "for i in tqdm(range(len(test))):\n",
    "  idx1 = test['id1'][i]\n",
    "  idx2 = test['id2'][i]\n",
    "  test_embedded_test.append(list(embedded_nodeset.loc[idx1]) + list(embedded_nodeset.loc[idx2]))"
   ]
  },
  {
   "cell_type": "code",
   "execution_count": null,
   "metadata": {
    "colab": {
     "base_uri": "https://localhost:8080/",
     "height": 487
    },
    "executionInfo": {
     "elapsed": 5600,
     "status": "ok",
     "timestamp": 1684915819664,
     "user": {
      "displayName": "Anh Trần Hoàng",
      "userId": "03160318258477081697"
     },
     "user_tz": -420
    },
    "id": "7urqt8mrPDdm",
    "outputId": "cd887551-6931-4b57-f6ba-7d2fcd6c2a38"
   },
   "outputs": [
    {
     "data": {
      "text/html": [
       "\n",
       "  <div id=\"df-54bbb38f-6e26-44e5-88a6-2901a09f62ee\">\n",
       "    <div class=\"colab-df-container\">\n",
       "      <div>\n",
       "<style scoped>\n",
       "    .dataframe tbody tr th:only-of-type {\n",
       "        vertical-align: middle;\n",
       "    }\n",
       "\n",
       "    .dataframe tbody tr th {\n",
       "        vertical-align: top;\n",
       "    }\n",
       "\n",
       "    .dataframe thead th {\n",
       "        text-align: right;\n",
       "    }\n",
       "</style>\n",
       "<table border=\"1\" class=\"dataframe\">\n",
       "  <thead>\n",
       "    <tr style=\"text-align: right;\">\n",
       "      <th></th>\n",
       "      <th>$1</th>\n",
       "      <th>VBD1</th>\n",
       "      <th>UH1</th>\n",
       "      <th>NNS1</th>\n",
       "      <th>JJS1</th>\n",
       "      <th>NNP1</th>\n",
       "      <th>''1</th>\n",
       "      <th>PDT1</th>\n",
       "      <th>IN1</th>\n",
       "      <th>JJR1</th>\n",
       "      <th>...</th>\n",
       "      <th>PRP$2</th>\n",
       "      <th>RB2</th>\n",
       "      <th>WP$2</th>\n",
       "      <th>CD2</th>\n",
       "      <th>DT2</th>\n",
       "      <th>TO2</th>\n",
       "      <th>MD2</th>\n",
       "      <th>PRP2</th>\n",
       "      <th>WRB2</th>\n",
       "      <th>WP2</th>\n",
       "    </tr>\n",
       "  </thead>\n",
       "  <tbody>\n",
       "    <tr>\n",
       "      <th>0</th>\n",
       "      <td>0.0</td>\n",
       "      <td>3.0</td>\n",
       "      <td>0.0</td>\n",
       "      <td>9.0</td>\n",
       "      <td>1.0</td>\n",
       "      <td>0.0</td>\n",
       "      <td>0.0</td>\n",
       "      <td>0.0</td>\n",
       "      <td>10.0</td>\n",
       "      <td>0.0</td>\n",
       "      <td>...</td>\n",
       "      <td>0.0</td>\n",
       "      <td>0.0</td>\n",
       "      <td>0.0</td>\n",
       "      <td>8.0</td>\n",
       "      <td>4.0</td>\n",
       "      <td>0.0</td>\n",
       "      <td>0.0</td>\n",
       "      <td>1.0</td>\n",
       "      <td>0.0</td>\n",
       "      <td>0.0</td>\n",
       "    </tr>\n",
       "    <tr>\n",
       "      <th>1</th>\n",
       "      <td>0.0</td>\n",
       "      <td>7.0</td>\n",
       "      <td>0.0</td>\n",
       "      <td>0.0</td>\n",
       "      <td>0.0</td>\n",
       "      <td>0.0</td>\n",
       "      <td>0.0</td>\n",
       "      <td>0.0</td>\n",
       "      <td>12.0</td>\n",
       "      <td>0.0</td>\n",
       "      <td>...</td>\n",
       "      <td>0.0</td>\n",
       "      <td>0.0</td>\n",
       "      <td>0.0</td>\n",
       "      <td>2.0</td>\n",
       "      <td>2.0</td>\n",
       "      <td>0.0</td>\n",
       "      <td>0.0</td>\n",
       "      <td>0.0</td>\n",
       "      <td>0.0</td>\n",
       "      <td>0.0</td>\n",
       "    </tr>\n",
       "    <tr>\n",
       "      <th>2</th>\n",
       "      <td>0.0</td>\n",
       "      <td>4.0</td>\n",
       "      <td>0.0</td>\n",
       "      <td>1.0</td>\n",
       "      <td>0.0</td>\n",
       "      <td>0.0</td>\n",
       "      <td>0.0</td>\n",
       "      <td>0.0</td>\n",
       "      <td>3.0</td>\n",
       "      <td>0.0</td>\n",
       "      <td>...</td>\n",
       "      <td>0.0</td>\n",
       "      <td>0.0</td>\n",
       "      <td>0.0</td>\n",
       "      <td>0.0</td>\n",
       "      <td>0.0</td>\n",
       "      <td>0.0</td>\n",
       "      <td>0.0</td>\n",
       "      <td>0.0</td>\n",
       "      <td>0.0</td>\n",
       "      <td>0.0</td>\n",
       "    </tr>\n",
       "    <tr>\n",
       "      <th>3</th>\n",
       "      <td>0.0</td>\n",
       "      <td>2.0</td>\n",
       "      <td>0.0</td>\n",
       "      <td>12.0</td>\n",
       "      <td>0.0</td>\n",
       "      <td>0.0</td>\n",
       "      <td>0.0</td>\n",
       "      <td>0.0</td>\n",
       "      <td>10.0</td>\n",
       "      <td>0.0</td>\n",
       "      <td>...</td>\n",
       "      <td>0.0</td>\n",
       "      <td>3.0</td>\n",
       "      <td>0.0</td>\n",
       "      <td>13.0</td>\n",
       "      <td>6.0</td>\n",
       "      <td>1.0</td>\n",
       "      <td>1.0</td>\n",
       "      <td>1.0</td>\n",
       "      <td>0.0</td>\n",
       "      <td>0.0</td>\n",
       "    </tr>\n",
       "    <tr>\n",
       "      <th>4</th>\n",
       "      <td>0.0</td>\n",
       "      <td>4.0</td>\n",
       "      <td>0.0</td>\n",
       "      <td>8.0</td>\n",
       "      <td>0.0</td>\n",
       "      <td>0.0</td>\n",
       "      <td>0.0</td>\n",
       "      <td>0.0</td>\n",
       "      <td>20.0</td>\n",
       "      <td>0.0</td>\n",
       "      <td>...</td>\n",
       "      <td>0.0</td>\n",
       "      <td>0.0</td>\n",
       "      <td>0.0</td>\n",
       "      <td>0.0</td>\n",
       "      <td>3.0</td>\n",
       "      <td>0.0</td>\n",
       "      <td>0.0</td>\n",
       "      <td>0.0</td>\n",
       "      <td>0.0</td>\n",
       "      <td>0.0</td>\n",
       "    </tr>\n",
       "    <tr>\n",
       "      <th>...</th>\n",
       "      <td>...</td>\n",
       "      <td>...</td>\n",
       "      <td>...</td>\n",
       "      <td>...</td>\n",
       "      <td>...</td>\n",
       "      <td>...</td>\n",
       "      <td>...</td>\n",
       "      <td>...</td>\n",
       "      <td>...</td>\n",
       "      <td>...</td>\n",
       "      <td>...</td>\n",
       "      <td>...</td>\n",
       "      <td>...</td>\n",
       "      <td>...</td>\n",
       "      <td>...</td>\n",
       "      <td>...</td>\n",
       "      <td>...</td>\n",
       "      <td>...</td>\n",
       "      <td>...</td>\n",
       "      <td>...</td>\n",
       "      <td>...</td>\n",
       "    </tr>\n",
       "    <tr>\n",
       "      <th>238359</th>\n",
       "      <td>0.0</td>\n",
       "      <td>0.0</td>\n",
       "      <td>0.0</td>\n",
       "      <td>0.0</td>\n",
       "      <td>0.0</td>\n",
       "      <td>1.0</td>\n",
       "      <td>0.0</td>\n",
       "      <td>0.0</td>\n",
       "      <td>1.0</td>\n",
       "      <td>0.0</td>\n",
       "      <td>...</td>\n",
       "      <td>1.0</td>\n",
       "      <td>3.0</td>\n",
       "      <td>0.0</td>\n",
       "      <td>4.0</td>\n",
       "      <td>10.0</td>\n",
       "      <td>2.0</td>\n",
       "      <td>0.0</td>\n",
       "      <td>2.0</td>\n",
       "      <td>1.0</td>\n",
       "      <td>0.0</td>\n",
       "    </tr>\n",
       "    <tr>\n",
       "      <th>238360</th>\n",
       "      <td>0.0</td>\n",
       "      <td>2.0</td>\n",
       "      <td>0.0</td>\n",
       "      <td>25.0</td>\n",
       "      <td>0.0</td>\n",
       "      <td>0.0</td>\n",
       "      <td>0.0</td>\n",
       "      <td>0.0</td>\n",
       "      <td>46.0</td>\n",
       "      <td>1.0</td>\n",
       "      <td>...</td>\n",
       "      <td>0.0</td>\n",
       "      <td>0.0</td>\n",
       "      <td>0.0</td>\n",
       "      <td>14.0</td>\n",
       "      <td>4.0</td>\n",
       "      <td>1.0</td>\n",
       "      <td>0.0</td>\n",
       "      <td>1.0</td>\n",
       "      <td>0.0</td>\n",
       "      <td>0.0</td>\n",
       "    </tr>\n",
       "    <tr>\n",
       "      <th>238361</th>\n",
       "      <td>0.0</td>\n",
       "      <td>0.0</td>\n",
       "      <td>0.0</td>\n",
       "      <td>6.0</td>\n",
       "      <td>4.0</td>\n",
       "      <td>0.0</td>\n",
       "      <td>0.0</td>\n",
       "      <td>0.0</td>\n",
       "      <td>9.0</td>\n",
       "      <td>1.0</td>\n",
       "      <td>...</td>\n",
       "      <td>0.0</td>\n",
       "      <td>3.0</td>\n",
       "      <td>0.0</td>\n",
       "      <td>8.0</td>\n",
       "      <td>25.0</td>\n",
       "      <td>11.0</td>\n",
       "      <td>0.0</td>\n",
       "      <td>5.0</td>\n",
       "      <td>3.0</td>\n",
       "      <td>0.0</td>\n",
       "    </tr>\n",
       "    <tr>\n",
       "      <th>238362</th>\n",
       "      <td>0.0</td>\n",
       "      <td>2.0</td>\n",
       "      <td>0.0</td>\n",
       "      <td>19.0</td>\n",
       "      <td>0.0</td>\n",
       "      <td>0.0</td>\n",
       "      <td>0.0</td>\n",
       "      <td>0.0</td>\n",
       "      <td>8.0</td>\n",
       "      <td>0.0</td>\n",
       "      <td>...</td>\n",
       "      <td>0.0</td>\n",
       "      <td>2.0</td>\n",
       "      <td>0.0</td>\n",
       "      <td>2.0</td>\n",
       "      <td>6.0</td>\n",
       "      <td>0.0</td>\n",
       "      <td>1.0</td>\n",
       "      <td>3.0</td>\n",
       "      <td>0.0</td>\n",
       "      <td>0.0</td>\n",
       "    </tr>\n",
       "    <tr>\n",
       "      <th>238363</th>\n",
       "      <td>0.0</td>\n",
       "      <td>2.0</td>\n",
       "      <td>0.0</td>\n",
       "      <td>0.0</td>\n",
       "      <td>0.0</td>\n",
       "      <td>0.0</td>\n",
       "      <td>0.0</td>\n",
       "      <td>0.0</td>\n",
       "      <td>5.0</td>\n",
       "      <td>0.0</td>\n",
       "      <td>...</td>\n",
       "      <td>0.0</td>\n",
       "      <td>1.0</td>\n",
       "      <td>0.0</td>\n",
       "      <td>0.0</td>\n",
       "      <td>3.0</td>\n",
       "      <td>0.0</td>\n",
       "      <td>0.0</td>\n",
       "      <td>0.0</td>\n",
       "      <td>0.0</td>\n",
       "      <td>0.0</td>\n",
       "    </tr>\n",
       "  </tbody>\n",
       "</table>\n",
       "<p>238364 rows × 74 columns</p>\n",
       "</div>\n",
       "      <button class=\"colab-df-convert\" onclick=\"convertToInteractive('df-54bbb38f-6e26-44e5-88a6-2901a09f62ee')\"\n",
       "              title=\"Convert this dataframe to an interactive table.\"\n",
       "              style=\"display:none;\">\n",
       "        \n",
       "  <svg xmlns=\"http://www.w3.org/2000/svg\" height=\"24px\"viewBox=\"0 0 24 24\"\n",
       "       width=\"24px\">\n",
       "    <path d=\"M0 0h24v24H0V0z\" fill=\"none\"/>\n",
       "    <path d=\"M18.56 5.44l.94 2.06.94-2.06 2.06-.94-2.06-.94-.94-2.06-.94 2.06-2.06.94zm-11 1L8.5 8.5l.94-2.06 2.06-.94-2.06-.94L8.5 2.5l-.94 2.06-2.06.94zm10 10l.94 2.06.94-2.06 2.06-.94-2.06-.94-.94-2.06-.94 2.06-2.06.94z\"/><path d=\"M17.41 7.96l-1.37-1.37c-.4-.4-.92-.59-1.43-.59-.52 0-1.04.2-1.43.59L10.3 9.45l-7.72 7.72c-.78.78-.78 2.05 0 2.83L4 21.41c.39.39.9.59 1.41.59.51 0 1.02-.2 1.41-.59l7.78-7.78 2.81-2.81c.8-.78.8-2.07 0-2.86zM5.41 20L4 18.59l7.72-7.72 1.47 1.35L5.41 20z\"/>\n",
       "  </svg>\n",
       "      </button>\n",
       "      \n",
       "  <style>\n",
       "    .colab-df-container {\n",
       "      display:flex;\n",
       "      flex-wrap:wrap;\n",
       "      gap: 12px;\n",
       "    }\n",
       "\n",
       "    .colab-df-convert {\n",
       "      background-color: #E8F0FE;\n",
       "      border: none;\n",
       "      border-radius: 50%;\n",
       "      cursor: pointer;\n",
       "      display: none;\n",
       "      fill: #1967D2;\n",
       "      height: 32px;\n",
       "      padding: 0 0 0 0;\n",
       "      width: 32px;\n",
       "    }\n",
       "\n",
       "    .colab-df-convert:hover {\n",
       "      background-color: #E2EBFA;\n",
       "      box-shadow: 0px 1px 2px rgba(60, 64, 67, 0.3), 0px 1px 3px 1px rgba(60, 64, 67, 0.15);\n",
       "      fill: #174EA6;\n",
       "    }\n",
       "\n",
       "    [theme=dark] .colab-df-convert {\n",
       "      background-color: #3B4455;\n",
       "      fill: #D2E3FC;\n",
       "    }\n",
       "\n",
       "    [theme=dark] .colab-df-convert:hover {\n",
       "      background-color: #434B5C;\n",
       "      box-shadow: 0px 1px 3px 1px rgba(0, 0, 0, 0.15);\n",
       "      filter: drop-shadow(0px 1px 2px rgba(0, 0, 0, 0.3));\n",
       "      fill: #FFFFFF;\n",
       "    }\n",
       "  </style>\n",
       "\n",
       "      <script>\n",
       "        const buttonEl =\n",
       "          document.querySelector('#df-54bbb38f-6e26-44e5-88a6-2901a09f62ee button.colab-df-convert');\n",
       "        buttonEl.style.display =\n",
       "          google.colab.kernel.accessAllowed ? 'block' : 'none';\n",
       "\n",
       "        async function convertToInteractive(key) {\n",
       "          const element = document.querySelector('#df-54bbb38f-6e26-44e5-88a6-2901a09f62ee');\n",
       "          const dataTable =\n",
       "            await google.colab.kernel.invokeFunction('convertToInteractive',\n",
       "                                                     [key], {});\n",
       "          if (!dataTable) return;\n",
       "\n",
       "          const docLinkHtml = 'Like what you see? Visit the ' +\n",
       "            '<a target=\"_blank\" href=https://colab.research.google.com/notebooks/data_table.ipynb>data table notebook</a>'\n",
       "            + ' to learn more about interactive tables.';\n",
       "          element.innerHTML = '';\n",
       "          dataTable['output_type'] = 'display_data';\n",
       "          await google.colab.output.renderOutput(dataTable, element);\n",
       "          const docLink = document.createElement('div');\n",
       "          docLink.innerHTML = docLinkHtml;\n",
       "          element.appendChild(docLink);\n",
       "        }\n",
       "      </script>\n",
       "    </div>\n",
       "  </div>\n",
       "  "
      ],
      "text/plain": [
       "         $1  VBD1  UH1  NNS1  JJS1  NNP1  ''1  PDT1   IN1  JJR1  ...  PRP$2  \\\n",
       "0       0.0   3.0  0.0   9.0   1.0   0.0  0.0   0.0  10.0   0.0  ...    0.0   \n",
       "1       0.0   7.0  0.0   0.0   0.0   0.0  0.0   0.0  12.0   0.0  ...    0.0   \n",
       "2       0.0   4.0  0.0   1.0   0.0   0.0  0.0   0.0   3.0   0.0  ...    0.0   \n",
       "3       0.0   2.0  0.0  12.0   0.0   0.0  0.0   0.0  10.0   0.0  ...    0.0   \n",
       "4       0.0   4.0  0.0   8.0   0.0   0.0  0.0   0.0  20.0   0.0  ...    0.0   \n",
       "...     ...   ...  ...   ...   ...   ...  ...   ...   ...   ...  ...    ...   \n",
       "238359  0.0   0.0  0.0   0.0   0.0   1.0  0.0   0.0   1.0   0.0  ...    1.0   \n",
       "238360  0.0   2.0  0.0  25.0   0.0   0.0  0.0   0.0  46.0   1.0  ...    0.0   \n",
       "238361  0.0   0.0  0.0   6.0   4.0   0.0  0.0   0.0   9.0   1.0  ...    0.0   \n",
       "238362  0.0   2.0  0.0  19.0   0.0   0.0  0.0   0.0   8.0   0.0  ...    0.0   \n",
       "238363  0.0   2.0  0.0   0.0   0.0   0.0  0.0   0.0   5.0   0.0  ...    0.0   \n",
       "\n",
       "        RB2  WP$2   CD2   DT2   TO2  MD2  PRP2  WRB2  WP2  \n",
       "0       0.0   0.0   8.0   4.0   0.0  0.0   1.0   0.0  0.0  \n",
       "1       0.0   0.0   2.0   2.0   0.0  0.0   0.0   0.0  0.0  \n",
       "2       0.0   0.0   0.0   0.0   0.0  0.0   0.0   0.0  0.0  \n",
       "3       3.0   0.0  13.0   6.0   1.0  1.0   1.0   0.0  0.0  \n",
       "4       0.0   0.0   0.0   3.0   0.0  0.0   0.0   0.0  0.0  \n",
       "...     ...   ...   ...   ...   ...  ...   ...   ...  ...  \n",
       "238359  3.0   0.0   4.0  10.0   2.0  0.0   2.0   1.0  0.0  \n",
       "238360  0.0   0.0  14.0   4.0   1.0  0.0   1.0   0.0  0.0  \n",
       "238361  3.0   0.0   8.0  25.0  11.0  0.0   5.0   3.0  0.0  \n",
       "238362  2.0   0.0   2.0   6.0   0.0  1.0   3.0   0.0  0.0  \n",
       "238363  1.0   0.0   0.0   3.0   0.0  0.0   0.0   0.0  0.0  \n",
       "\n",
       "[238364 rows x 74 columns]"
      ]
     },
     "execution_count": 38,
     "metadata": {},
     "output_type": "execute_result"
    }
   ],
   "source": [
    "test_df = pd.DataFrame(test_embedded_test).fillna(0)\n",
    "test_df.columns = name_postag(embed_postag, \"1\") + name_postag(embed_postag, \"2\")\n",
    "test_df"
   ]
  },
  {
   "cell_type": "code",
   "execution_count": null,
   "metadata": {
    "id": "yldi3ZtB5ymc"
   },
   "outputs": [],
   "source": [
    "test_df.to_csv(\"/content/drive/MyDrive/Code/DSAA/data/embedded/{}.csv\".format(nametest), index = False)"
   ]
  }
 ],
 "metadata": {
  "colab": {
   "collapsed_sections": [
    "c-hEW1vq4gXG",
    "Lw_rrken4qGX",
    "7IsRUafR-fUz",
    "TzqfDBsrowxi",
    "pWwTQIpw6jxl",
    "iUSDfJZX5ZkM",
    "bIMzmlfw7KYf",
    "KEauvq7JBCSk",
    "UjhjX8gLDB8K",
    "tzXtuf_FJivV",
    "ujQ0xnwwOl01"
   ],
   "provenance": []
  },
  "kernelspec": {
   "display_name": "Python 3 (ipykernel)",
   "language": "python",
   "name": "python3"
  },
  "language_info": {
   "codemirror_mode": {
    "name": "ipython",
    "version": 3
   },
   "file_extension": ".py",
   "mimetype": "text/x-python",
   "name": "python",
   "nbconvert_exporter": "python",
   "pygments_lexer": "ipython3",
   "version": "3.10.8"
  }
 },
 "nbformat": 4,
 "nbformat_minor": 1
}
